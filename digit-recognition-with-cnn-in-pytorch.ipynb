{
 "cells": [
  {
   "cell_type": "code",
   "execution_count": 1,
   "id": "de187479",
   "metadata": {
    "_cell_guid": "b1076dfc-b9ad-4769-8c92-a6c4dae69d19",
    "_uuid": "8f2839f25d086af736a60e9eeb907d3b93b6e0e5",
    "execution": {
     "iopub.execute_input": "2024-01-19T09:15:19.495580Z",
     "iopub.status.busy": "2024-01-19T09:15:19.494703Z",
     "iopub.status.idle": "2024-01-19T09:15:25.879052Z",
     "shell.execute_reply": "2024-01-19T09:15:25.878020Z"
    },
    "papermill": {
     "duration": 6.397456,
     "end_time": "2024-01-19T09:15:25.882099",
     "exception": false,
     "start_time": "2024-01-19T09:15:19.484643",
     "status": "completed"
    },
    "tags": []
   },
   "outputs": [
    {
     "name": "stdout",
     "output_type": "stream",
     "text": [
      "/kaggle/input/digit-recognizer/sample_submission.csv\n",
      "/kaggle/input/digit-recognizer/train.csv\n",
      "/kaggle/input/digit-recognizer/test.csv\n"
     ]
    }
   ],
   "source": [
    "\"\"\"\n",
    "Created on Mon Jan 15 17:45:41 2024\n",
    "\n",
    "Convolution neural network for digit recognition on mnist dataset\n",
    "\n",
    "@author: ganchenko\n",
    "\"\"\"\n",
    "\n",
    "from tqdm import tqdm\n",
    "import numpy as np\n",
    "import pandas as pd\n",
    "import seaborn as sns\n",
    "import random\n",
    "from matplotlib import pyplot as plt \n",
    "import torch\n",
    "import torch.nn.functional as F\n",
    "import torch.nn as nn\n",
    "from torch.utils.data import DataLoader, Dataset, random_split\n",
    "\n",
    "from sklearn.metrics import confusion_matrix\n",
    "from matplotlib.colors import LogNorm\n",
    "\n",
    "import os\n",
    "for dirname, _, filenames in os.walk('/kaggle/input'):\n",
    "    for filename in filenames:\n",
    "        print(os.path.join(dirname, filename))\n",
    "\n",
    "# You can write up to 20GB to the current directory (/kaggle/working/) that gets preserved as output when you create a version using \"Save & Run All\" \n",
    "# You can also write temporary files to /kaggle/temp/, but they won't be saved outside of the current session"
   ]
  },
  {
   "cell_type": "markdown",
   "id": "5f8ac57f",
   "metadata": {
    "papermill": {
     "duration": 0.005798,
     "end_time": "2024-01-19T09:15:25.894368",
     "exception": false,
     "start_time": "2024-01-19T09:15:25.888570",
     "status": "completed"
    },
    "tags": []
   },
   "source": [
    "# Usefull function"
   ]
  },
  {
   "cell_type": "code",
   "execution_count": 2,
   "id": "fff2304c",
   "metadata": {
    "execution": {
     "iopub.execute_input": "2024-01-19T09:15:25.910259Z",
     "iopub.status.busy": "2024-01-19T09:15:25.909098Z",
     "iopub.status.idle": "2024-01-19T09:15:25.925679Z",
     "shell.execute_reply": "2024-01-19T09:15:25.924566Z"
    },
    "papermill": {
     "duration": 0.028162,
     "end_time": "2024-01-19T09:15:25.928637",
     "exception": false,
     "start_time": "2024-01-19T09:15:25.900475",
     "status": "completed"
    },
    "tags": []
   },
   "outputs": [],
   "source": [
    "def compute_accuracy(predictions, y):\n",
    "    \"\"\"Computes the accuracy of predictions against the gold labels, y.\"\"\"\n",
    "    return np.mean(np.equal(predictions.numpy(), y.numpy()))\n",
    "\n",
    "def plot_digits(X, img_pix, n=1, labels_predict=np.array([None]), labels_act=np.array([None]), rnd=True):\n",
    "    \"\"\"\n",
    "    Plot n*n random digits from dataset\n",
    "    \n",
    "    Args:\n",
    "        X -  (num, img_pix*img_pix), array of digits\n",
    "        img_pix - int, size of the digit img_pix*img_pix\n",
    "        n - int, n is a number of columns and rows\n",
    "        labels_predicted - (num, ) of int or str with predicted labels\n",
    "        labels_act - (num, ) of int or str with actual labels\n",
    "        rnd - Boolean, random chosing of samples\n",
    "    Returns:\n",
    "        nothing\n",
    "    \"\"\"\n",
    "    plt.figure(figsize=[1.5*n, 1.5*n])\n",
    "   \n",
    "    for i in range(n*n):\n",
    "        plt.subplot(n , n, i+1)\n",
    "        if rnd:\n",
    "            indx=random.randint(0, X.shape[0]-1)\n",
    "        else:\n",
    "            indx=i\n",
    "        dig=X[indx, :].reshape(img_pix, img_pix)\n",
    "        plt.imshow(dig, cmap='gray_r')\n",
    "        plt.axis('off')\n",
    "        str_title=''\n",
    "        if labels_act[0]!=None: str_title+=' Act_num: '+str(labels_act[indx])+', \\n'\n",
    "        if labels_predict[0]!=None: str_title+='Pre_num: '+str(labels_predict[indx])\n",
    "        plt.title(str_title)\n",
    "            \n",
    "    plt.tight_layout()        \n",
    "    plt.show()       \n",
    "    \n",
    "class Flatten(nn.Module):\n",
    "    \"\"\"A custom layer that views an input as 1D.\"\"\"\n",
    "\n",
    "    def forward(self, input):\n",
    "        return input.view(input.size(0), -1)\n",
    "\n",
    "class ImageDataset(Dataset):\n",
    "\n",
    "    def __init__(self, images, labels=None, transform=None):\n",
    "        self.images = images\n",
    "        self.labels = labels\n",
    "        self.transform = transform\n",
    "\n",
    "    def __len__(self):\n",
    "        return len(self.images)\n",
    "\n",
    "    def __getitem__(self, idx):\n",
    "        image = self.images[idx] \n",
    "        image = torch.from_numpy(image).float()\n",
    "        image = image.view(1, 28, 28) \n",
    "    \n",
    "        if self.labels is not None:  \n",
    "            label = torch.tensor(self.labels[idx])\n",
    "            return image, label\n",
    "        return image"
   ]
  },
  {
   "cell_type": "markdown",
   "id": "73480b8e",
   "metadata": {
    "papermill": {
     "duration": 0.005789,
     "end_time": "2024-01-19T09:15:25.940572",
     "exception": false,
     "start_time": "2024-01-19T09:15:25.934783",
     "status": "completed"
    },
    "tags": []
   },
   "source": [
    "# Training procedure"
   ]
  },
  {
   "cell_type": "code",
   "execution_count": 3,
   "id": "47c1569b",
   "metadata": {
    "execution": {
     "iopub.execute_input": "2024-01-19T09:15:25.956200Z",
     "iopub.status.busy": "2024-01-19T09:15:25.955316Z",
     "iopub.status.idle": "2024-01-19T09:15:25.971409Z",
     "shell.execute_reply": "2024-01-19T09:15:25.970149Z"
    },
    "papermill": {
     "duration": 0.028033,
     "end_time": "2024-01-19T09:15:25.974729",
     "exception": false,
     "start_time": "2024-01-19T09:15:25.946696",
     "status": "completed"
    },
    "tags": []
   },
   "outputs": [],
   "source": [
    "# Training Procedure\n",
    "def train_model(train_data, dev_data, model, device=torch.device('cpu'), lr=0.01, momentum=0.9, nesterov=False, n_epochs=20,  batch_size=32):\n",
    "    \"\"\"Train a model for N epochs given data and hyper-params.\"\"\"\n",
    "\n",
    "    optimizer = torch.optim.SGD(model.parameters(), lr=lr, momentum=momentum, nesterov=nesterov)\n",
    "    train_accuracies = []\n",
    "    val_accuracies =[]\n",
    "    for epoch in range(1, n_epochs+1):\n",
    "        print(\"-------------\\nEpoch {}:\\n\".format(epoch))\n",
    "\n",
    "        # Run **training***\n",
    "        loss, acc = run_epoch(train_data, model.train(), optimizer, device, batch_size)\n",
    "        print('Train loss: {:.6f} | Train accuracy: {:.6f}'.format(loss, acc))\n",
    "        train_accuracies.append(acc)\n",
    "\n",
    "        # Run **validation**\n",
    "        val_loss, val_acc = run_epoch(dev_data, model.eval(), optimizer, device, batch_size)\n",
    "        print('Val loss:   {:.6f} | Val accuracy:   {:.6f}'.format(val_loss, val_acc))\n",
    "        val_accuracies.append(val_acc)\n",
    "        # Save model\n",
    "        torch.save(model, 'mnist_cnn.pt')\n",
    "    return train_accuracies, val_accuracies\n",
    "\n",
    "def run_epoch(data, model, optimizer, device=torch.device('cpu'),  batch_size=32):\n",
    "    \"\"\"Train model for one pass of train data, and return loss, acccuracy\"\"\"\n",
    "   \n",
    "    losses = []\n",
    "    batch_accuracies = []\n",
    "    is_training = model.training\n",
    "\n",
    "    # batchify data\n",
    "    #indices permutation in training set for a better SGD estimation\n",
    "    if is_training: \n",
    "        data_batched = DataLoader(data, batch_size=batch_size, shuffle=True)\n",
    "    else:\n",
    "        data_batched = DataLoader(data, batch_size=batch_size)\n",
    "        \n",
    "    # Iterate through batches\n",
    "    for batch in tqdm(data_batched):\n",
    "        \n",
    "        x, y = batch\n",
    "        # Move data to the specified device (GPU or CPU)\n",
    "        x, y = x.to(device), y.to(device)\n",
    "        out = model(x)\n",
    "\n",
    "        predictions = torch.argmax(out, dim=1)\n",
    "        batch_accuracies.append(compute_accuracy(predictions, y))\n",
    "\n",
    "        loss = F.cross_entropy(out, y)\n",
    "        losses.append(loss.data.item())\n",
    "\n",
    "        if is_training:\n",
    "            optimizer.zero_grad()\n",
    "            loss.backward()\n",
    "            optimizer.step()\n",
    "\n",
    "    # Calculate epoch level scores\n",
    "    avg_loss = np.mean(losses)\n",
    "    avg_accuracy = np.mean(batch_accuracies)\n",
    "    return avg_loss, avg_accuracy"
   ]
  },
  {
   "cell_type": "markdown",
   "id": "50d2c7e8",
   "metadata": {
    "papermill": {
     "duration": 0.006045,
     "end_time": "2024-01-19T09:15:25.987283",
     "exception": false,
     "start_time": "2024-01-19T09:15:25.981238",
     "status": "completed"
    },
    "tags": []
   },
   "source": [
    "# Import data"
   ]
  },
  {
   "cell_type": "code",
   "execution_count": 4,
   "id": "48bc6f92",
   "metadata": {
    "execution": {
     "iopub.execute_input": "2024-01-19T09:15:26.003236Z",
     "iopub.status.busy": "2024-01-19T09:15:26.002207Z",
     "iopub.status.idle": "2024-01-19T09:15:31.273142Z",
     "shell.execute_reply": "2024-01-19T09:15:31.271264Z"
    },
    "papermill": {
     "duration": 5.282844,
     "end_time": "2024-01-19T09:15:31.276570",
     "exception": false,
     "start_time": "2024-01-19T09:15:25.993726",
     "status": "completed"
    },
    "tags": []
   },
   "outputs": [],
   "source": [
    "all_data = pd.read_csv('/kaggle/input/digit-recognizer/train.csv')\n",
    "y=all_data.label.to_numpy(dtype='long')\n",
    "img_pix=28\n",
    "\n",
    "X=all_data.drop(['label'], axis=1, inplace=False).to_numpy(dtype='float')\n",
    "# Scaling data to [0, 1]\n",
    "X=X/np.max(X)\n",
    "#plot_digits(X, img_pix, 3, labels_act=y)\n",
    "\n",
    "#split data into training and validation parts\n",
    "X_set = ImageDataset(X, y)\n",
    "X_train_set, X_dev_set=random_split(X_set, [0.9, 0.1], generator=torch.Generator().manual_seed(42))"
   ]
  },
  {
   "cell_type": "markdown",
   "id": "769955a6",
   "metadata": {
    "papermill": {
     "duration": 0.006786,
     "end_time": "2024-01-19T09:15:31.291105",
     "exception": false,
     "start_time": "2024-01-19T09:15:31.284319",
     "status": "completed"
    },
    "tags": []
   },
   "source": [
    "# Training model"
   ]
  },
  {
   "cell_type": "code",
   "execution_count": 5,
   "id": "a4f85ed7",
   "metadata": {
    "execution": {
     "iopub.execute_input": "2024-01-19T09:15:31.308158Z",
     "iopub.status.busy": "2024-01-19T09:15:31.307668Z",
     "iopub.status.idle": "2024-01-19T09:23:08.482987Z",
     "shell.execute_reply": "2024-01-19T09:23:08.481967Z"
    },
    "papermill": {
     "duration": 457.192222,
     "end_time": "2024-01-19T09:23:08.489955",
     "exception": false,
     "start_time": "2024-01-19T09:15:31.297733",
     "status": "completed"
    },
    "tags": []
   },
   "outputs": [
    {
     "name": "stdout",
     "output_type": "stream",
     "text": [
      "-------------\n",
      "Epoch 1:\n",
      "\n"
     ]
    },
    {
     "name": "stderr",
     "output_type": "stream",
     "text": [
      "100%|██████████| 1182/1182 [00:22<00:00, 53.27it/s]\n"
     ]
    },
    {
     "name": "stdout",
     "output_type": "stream",
     "text": [
      "Train loss: 0.274821 | Train accuracy: 0.912886\n"
     ]
    },
    {
     "name": "stderr",
     "output_type": "stream",
     "text": [
      "100%|██████████| 132/132 [00:01<00:00, 124.36it/s]\n"
     ]
    },
    {
     "name": "stdout",
     "output_type": "stream",
     "text": [
      "Val loss:   0.093723 | Val accuracy:   0.974195\n",
      "-------------\n",
      "Epoch 2:\n",
      "\n"
     ]
    },
    {
     "name": "stderr",
     "output_type": "stream",
     "text": [
      "100%|██████████| 1182/1182 [00:21<00:00, 54.38it/s]\n"
     ]
    },
    {
     "name": "stdout",
     "output_type": "stream",
     "text": [
      "Train loss: 0.089463 | Train accuracy: 0.972980\n"
     ]
    },
    {
     "name": "stderr",
     "output_type": "stream",
     "text": [
      "100%|██████████| 132/132 [00:01<00:00, 96.14it/s] \n"
     ]
    },
    {
     "name": "stdout",
     "output_type": "stream",
     "text": [
      "Val loss:   0.079143 | Val accuracy:   0.976089\n",
      "-------------\n",
      "Epoch 3:\n",
      "\n"
     ]
    },
    {
     "name": "stderr",
     "output_type": "stream",
     "text": [
      "100%|██████████| 1182/1182 [00:21<00:00, 54.92it/s]\n"
     ]
    },
    {
     "name": "stdout",
     "output_type": "stream",
     "text": [
      "Train loss: 0.064400 | Train accuracy: 0.980092\n"
     ]
    },
    {
     "name": "stderr",
     "output_type": "stream",
     "text": [
      "100%|██████████| 132/132 [00:01<00:00, 124.25it/s]\n"
     ]
    },
    {
     "name": "stdout",
     "output_type": "stream",
     "text": [
      "Val loss:   0.069035 | Val accuracy:   0.980114\n",
      "-------------\n",
      "Epoch 4:\n",
      "\n"
     ]
    },
    {
     "name": "stderr",
     "output_type": "stream",
     "text": [
      "100%|██████████| 1182/1182 [00:22<00:00, 53.39it/s]\n"
     ]
    },
    {
     "name": "stdout",
     "output_type": "stream",
     "text": [
      "Train loss: 0.051205 | Train accuracy: 0.984851\n"
     ]
    },
    {
     "name": "stderr",
     "output_type": "stream",
     "text": [
      "100%|██████████| 132/132 [00:01<00:00, 130.82it/s]\n"
     ]
    },
    {
     "name": "stdout",
     "output_type": "stream",
     "text": [
      "Val loss:   0.062722 | Val accuracy:   0.983191\n",
      "-------------\n",
      "Epoch 5:\n",
      "\n"
     ]
    },
    {
     "name": "stderr",
     "output_type": "stream",
     "text": [
      "100%|██████████| 1182/1182 [00:21<00:00, 54.97it/s]\n"
     ]
    },
    {
     "name": "stdout",
     "output_type": "stream",
     "text": [
      "Train loss: 0.045012 | Train accuracy: 0.985670\n"
     ]
    },
    {
     "name": "stderr",
     "output_type": "stream",
     "text": [
      "100%|██████████| 132/132 [00:00<00:00, 133.28it/s]\n"
     ]
    },
    {
     "name": "stdout",
     "output_type": "stream",
     "text": [
      "Val loss:   0.061032 | Val accuracy:   0.981534\n",
      "-------------\n",
      "Epoch 6:\n",
      "\n"
     ]
    },
    {
     "name": "stderr",
     "output_type": "stream",
     "text": [
      "100%|██████████| 1182/1182 [00:21<00:00, 55.48it/s]\n"
     ]
    },
    {
     "name": "stdout",
     "output_type": "stream",
     "text": [
      "Train loss: 0.037336 | Train accuracy: 0.987865\n"
     ]
    },
    {
     "name": "stderr",
     "output_type": "stream",
     "text": [
      "100%|██████████| 132/132 [00:01<00:00, 122.73it/s]\n"
     ]
    },
    {
     "name": "stdout",
     "output_type": "stream",
     "text": [
      "Val loss:   0.054928 | Val accuracy:   0.984848\n",
      "-------------\n",
      "Epoch 7:\n",
      "\n"
     ]
    },
    {
     "name": "stderr",
     "output_type": "stream",
     "text": [
      "100%|██████████| 1182/1182 [00:21<00:00, 54.15it/s]\n"
     ]
    },
    {
     "name": "stdout",
     "output_type": "stream",
     "text": [
      "Train loss: 0.035077 | Train accuracy: 0.988579\n"
     ]
    },
    {
     "name": "stderr",
     "output_type": "stream",
     "text": [
      "100%|██████████| 132/132 [00:01<00:00, 126.19it/s]\n"
     ]
    },
    {
     "name": "stdout",
     "output_type": "stream",
     "text": [
      "Val loss:   0.057777 | Val accuracy:   0.983191\n",
      "-------------\n",
      "Epoch 8:\n",
      "\n"
     ]
    },
    {
     "name": "stderr",
     "output_type": "stream",
     "text": [
      "100%|██████████| 1182/1182 [00:22<00:00, 53.05it/s]\n"
     ]
    },
    {
     "name": "stdout",
     "output_type": "stream",
     "text": [
      "Train loss: 0.029865 | Train accuracy: 0.990165\n"
     ]
    },
    {
     "name": "stderr",
     "output_type": "stream",
     "text": [
      "100%|██████████| 132/132 [00:01<00:00, 115.03it/s]\n"
     ]
    },
    {
     "name": "stdout",
     "output_type": "stream",
     "text": [
      "Val loss:   0.062679 | Val accuracy:   0.981771\n",
      "-------------\n",
      "Epoch 9:\n",
      "\n"
     ]
    },
    {
     "name": "stderr",
     "output_type": "stream",
     "text": [
      "100%|██████████| 1182/1182 [00:22<00:00, 53.01it/s]\n"
     ]
    },
    {
     "name": "stdout",
     "output_type": "stream",
     "text": [
      "Train loss: 0.026509 | Train accuracy: 0.991355\n"
     ]
    },
    {
     "name": "stderr",
     "output_type": "stream",
     "text": [
      "100%|██████████| 132/132 [00:01<00:00, 130.33it/s]\n"
     ]
    },
    {
     "name": "stdout",
     "output_type": "stream",
     "text": [
      "Val loss:   0.053696 | Val accuracy:   0.985795\n",
      "-------------\n",
      "Epoch 10:\n",
      "\n"
     ]
    },
    {
     "name": "stderr",
     "output_type": "stream",
     "text": [
      "100%|██████████| 1182/1182 [00:21<00:00, 55.88it/s]\n"
     ]
    },
    {
     "name": "stdout",
     "output_type": "stream",
     "text": [
      "Train loss: 0.023864 | Train accuracy: 0.992121\n"
     ]
    },
    {
     "name": "stderr",
     "output_type": "stream",
     "text": [
      "100%|██████████| 132/132 [00:00<00:00, 132.38it/s]\n"
     ]
    },
    {
     "name": "stdout",
     "output_type": "stream",
     "text": [
      "Val loss:   0.059417 | Val accuracy:   0.985085\n",
      "-------------\n",
      "Epoch 11:\n",
      "\n"
     ]
    },
    {
     "name": "stderr",
     "output_type": "stream",
     "text": [
      "100%|██████████| 1182/1182 [00:21<00:00, 55.55it/s]\n"
     ]
    },
    {
     "name": "stdout",
     "output_type": "stream",
     "text": [
      "Train loss: 0.020485 | Train accuracy: 0.992941\n"
     ]
    },
    {
     "name": "stderr",
     "output_type": "stream",
     "text": [
      "100%|██████████| 132/132 [00:01<00:00, 124.87it/s]\n"
     ]
    },
    {
     "name": "stdout",
     "output_type": "stream",
     "text": [
      "Val loss:   0.057639 | Val accuracy:   0.985085\n",
      "-------------\n",
      "Epoch 12:\n",
      "\n"
     ]
    },
    {
     "name": "stderr",
     "output_type": "stream",
     "text": [
      "100%|██████████| 1182/1182 [00:21<00:00, 53.93it/s]\n"
     ]
    },
    {
     "name": "stdout",
     "output_type": "stream",
     "text": [
      "Train loss: 0.019479 | Train accuracy: 0.993602\n"
     ]
    },
    {
     "name": "stderr",
     "output_type": "stream",
     "text": [
      "100%|██████████| 132/132 [00:01<00:00, 122.09it/s]\n"
     ]
    },
    {
     "name": "stdout",
     "output_type": "stream",
     "text": [
      "Val loss:   0.057468 | Val accuracy:   0.986032\n",
      "-------------\n",
      "Epoch 13:\n",
      "\n"
     ]
    },
    {
     "name": "stderr",
     "output_type": "stream",
     "text": [
      "100%|██████████| 1182/1182 [00:21<00:00, 55.67it/s]\n"
     ]
    },
    {
     "name": "stdout",
     "output_type": "stream",
     "text": [
      "Train loss: 0.016143 | Train accuracy: 0.994607\n"
     ]
    },
    {
     "name": "stderr",
     "output_type": "stream",
     "text": [
      "100%|██████████| 132/132 [00:01<00:00, 127.22it/s]\n"
     ]
    },
    {
     "name": "stdout",
     "output_type": "stream",
     "text": [
      "Val loss:   0.078143 | Val accuracy:   0.983665\n",
      "-------------\n",
      "Epoch 14:\n",
      "\n"
     ]
    },
    {
     "name": "stderr",
     "output_type": "stream",
     "text": [
      "100%|██████████| 1182/1182 [00:22<00:00, 53.30it/s]\n"
     ]
    },
    {
     "name": "stdout",
     "output_type": "stream",
     "text": [
      "Train loss: 0.014643 | Train accuracy: 0.995135\n"
     ]
    },
    {
     "name": "stderr",
     "output_type": "stream",
     "text": [
      "100%|██████████| 132/132 [00:01<00:00, 131.73it/s]\n"
     ]
    },
    {
     "name": "stdout",
     "output_type": "stream",
     "text": [
      "Val loss:   0.065409 | Val accuracy:   0.982955\n",
      "-------------\n",
      "Epoch 15:\n",
      "\n"
     ]
    },
    {
     "name": "stderr",
     "output_type": "stream",
     "text": [
      "100%|██████████| 1182/1182 [00:22<00:00, 53.58it/s]\n"
     ]
    },
    {
     "name": "stdout",
     "output_type": "stream",
     "text": [
      "Train loss: 0.015570 | Train accuracy: 0.995135\n"
     ]
    },
    {
     "name": "stderr",
     "output_type": "stream",
     "text": [
      "100%|██████████| 132/132 [00:01<00:00, 119.89it/s]\n"
     ]
    },
    {
     "name": "stdout",
     "output_type": "stream",
     "text": [
      "Val loss:   0.077137 | Val accuracy:   0.983902\n",
      "-------------\n",
      "Epoch 16:\n",
      "\n"
     ]
    },
    {
     "name": "stderr",
     "output_type": "stream",
     "text": [
      "100%|██████████| 1182/1182 [00:21<00:00, 54.33it/s]\n"
     ]
    },
    {
     "name": "stdout",
     "output_type": "stream",
     "text": [
      "Train loss: 0.012613 | Train accuracy: 0.995320\n"
     ]
    },
    {
     "name": "stderr",
     "output_type": "stream",
     "text": [
      "100%|██████████| 132/132 [00:01<00:00, 129.85it/s]\n"
     ]
    },
    {
     "name": "stdout",
     "output_type": "stream",
     "text": [
      "Val loss:   0.067375 | Val accuracy:   0.984138\n",
      "-------------\n",
      "Epoch 17:\n",
      "\n"
     ]
    },
    {
     "name": "stderr",
     "output_type": "stream",
     "text": [
      "100%|██████████| 1182/1182 [00:21<00:00, 54.67it/s]\n"
     ]
    },
    {
     "name": "stdout",
     "output_type": "stream",
     "text": [
      "Train loss: 0.012789 | Train accuracy: 0.995823\n"
     ]
    },
    {
     "name": "stderr",
     "output_type": "stream",
     "text": [
      "100%|██████████| 132/132 [00:01<00:00, 127.28it/s]\n"
     ]
    },
    {
     "name": "stdout",
     "output_type": "stream",
     "text": [
      "Val loss:   0.073518 | Val accuracy:   0.985085\n",
      "-------------\n",
      "Epoch 18:\n",
      "\n"
     ]
    },
    {
     "name": "stderr",
     "output_type": "stream",
     "text": [
      "100%|██████████| 1182/1182 [00:21<00:00, 53.75it/s]\n"
     ]
    },
    {
     "name": "stdout",
     "output_type": "stream",
     "text": [
      "Train loss: 0.010881 | Train accuracy: 0.996378\n"
     ]
    },
    {
     "name": "stderr",
     "output_type": "stream",
     "text": [
      "100%|██████████| 132/132 [00:01<00:00, 131.97it/s]\n"
     ]
    },
    {
     "name": "stdout",
     "output_type": "stream",
     "text": [
      "Val loss:   0.072506 | Val accuracy:   0.986506\n",
      "-------------\n",
      "Epoch 19:\n",
      "\n"
     ]
    },
    {
     "name": "stderr",
     "output_type": "stream",
     "text": [
      "100%|██████████| 1182/1182 [00:21<00:00, 53.85it/s]\n"
     ]
    },
    {
     "name": "stdout",
     "output_type": "stream",
     "text": [
      "Train loss: 0.010892 | Train accuracy: 0.995955\n"
     ]
    },
    {
     "name": "stderr",
     "output_type": "stream",
     "text": [
      "100%|██████████| 132/132 [00:01<00:00, 131.90it/s]\n"
     ]
    },
    {
     "name": "stdout",
     "output_type": "stream",
     "text": [
      "Val loss:   0.067583 | Val accuracy:   0.986506\n",
      "-------------\n",
      "Epoch 20:\n",
      "\n"
     ]
    },
    {
     "name": "stderr",
     "output_type": "stream",
     "text": [
      "100%|██████████| 1182/1182 [00:21<00:00, 54.51it/s]\n"
     ]
    },
    {
     "name": "stdout",
     "output_type": "stream",
     "text": [
      "Train loss: 0.010532 | Train accuracy: 0.996775\n"
     ]
    },
    {
     "name": "stderr",
     "output_type": "stream",
     "text": [
      "100%|██████████| 132/132 [00:01<00:00, 122.93it/s]"
     ]
    },
    {
     "name": "stdout",
     "output_type": "stream",
     "text": [
      "Val loss:   0.067716 | Val accuracy:   0.986032\n"
     ]
    },
    {
     "name": "stderr",
     "output_type": "stream",
     "text": [
      "\n"
     ]
    }
   ],
   "source": [
    "#%% Train model\n",
    "\n",
    "#################################\n",
    "## Model specification\n",
    "model = nn.Sequential(\n",
    "          nn.Conv2d(1, 32, (3, 3)),\n",
    "          nn.ReLU(),\n",
    "          nn.MaxPool2d((2, 2)),\n",
    "          nn.Conv2d(32, 64, (3, 3)),\n",
    "          nn.ReLU(),\n",
    "          nn.MaxPool2d((2, 2)),\n",
    "          Flatten(),\n",
    "          nn.Linear(64*5*5,128),\n",
    "          nn.Dropout(),\n",
    "          nn.Linear(128, 10),\n",
    "        )\n",
    "##################################\n",
    "\n",
    "device = torch.device(\"cuda\" if torch.cuda.is_available() else \"cpu\")\n",
    "model = model.to(device)\n",
    "\n",
    "batch_size = 32\n",
    "n_epochs = 20\n",
    "train_acc, dev_acc=train_model(X_train_set, X_dev_set, \n",
    "                               model, device=device, \n",
    "                               nesterov=True, \n",
    "                               n_epochs=n_epochs,  \n",
    "                               batch_size=batch_size)"
   ]
  },
  {
   "cell_type": "markdown",
   "id": "51316fd9",
   "metadata": {
    "papermill": {
     "duration": 0.417706,
     "end_time": "2024-01-19T09:23:09.386557",
     "exception": false,
     "start_time": "2024-01-19T09:23:08.968851",
     "status": "completed"
    },
    "tags": []
   },
   "source": [
    "# Plot accuraties"
   ]
  },
  {
   "cell_type": "code",
   "execution_count": 6,
   "id": "1366d9d4",
   "metadata": {
    "execution": {
     "iopub.execute_input": "2024-01-19T09:23:10.225076Z",
     "iopub.status.busy": "2024-01-19T09:23:10.223768Z",
     "iopub.status.idle": "2024-01-19T09:23:10.565466Z",
     "shell.execute_reply": "2024-01-19T09:23:10.563911Z"
    },
    "papermill": {
     "duration": 0.757948,
     "end_time": "2024-01-19T09:23:10.568864",
     "exception": false,
     "start_time": "2024-01-19T09:23:09.810916",
     "status": "completed"
    },
    "tags": []
   },
   "outputs": [
    {
     "data": {
      "image/png": "[encoded data removed]",
      "text/plain": [
       "<Figure size 640x480 with 1 Axes>"
      ]
     },
     "metadata": {},
     "output_type": "display_data"
    }
   ],
   "source": [
    "#%% Plot training and validation accuracies in epochs\n",
    "plt.subplot()\n",
    "plt.plot(np.arange(1, n_epochs+1), train_acc, 'b', label='Train accuracy')\n",
    "plt.plot(np.arange(1, n_epochs+1), dev_acc, 'r', label='Validation accuracy')\n",
    "plt.legend()\n",
    "plt.xlabel('Epochs')\n",
    "plt.ylabel('Accuracy')\n",
    "plt.show()"
   ]
  },
  {
   "cell_type": "markdown",
   "id": "b22c7cba",
   "metadata": {
    "papermill": {
     "duration": 0.481675,
     "end_time": "2024-01-19T09:23:11.503593",
     "exception": false,
     "start_time": "2024-01-19T09:23:11.021918",
     "status": "completed"
    },
    "tags": []
   },
   "source": [
    "# Analysis of prediction results on validation data"
   ]
  },
  {
   "cell_type": "code",
   "execution_count": 7,
   "id": "30a132d8",
   "metadata": {
    "execution": {
     "iopub.execute_input": "2024-01-19T09:23:12.324921Z",
     "iopub.status.busy": "2024-01-19T09:23:12.323369Z",
     "iopub.status.idle": "2024-01-19T09:23:17.146239Z",
     "shell.execute_reply": "2024-01-19T09:23:17.144660Z"
    },
    "papermill": {
     "duration": 5.234456,
     "end_time": "2024-01-19T09:23:17.149369",
     "exception": false,
     "start_time": "2024-01-19T09:23:11.914913",
     "status": "completed"
    },
    "tags": []
   },
   "outputs": [
    {
     "data": {
      "image/png": "[encoded data removed]",
      "text/plain": [
       "<Figure size 800x800 with 1 Axes>"
      ]
     },
     "metadata": {},
     "output_type": "display_data"
    }
   ],
   "source": [
    "#%% Analysis of prediction results on dev data\n",
    "indxs=np.arange(0,len(X))\n",
    "random.shuffle(indxs)\n",
    "out=model(torch.tensor(X[indxs[:10000]].reshape(-1,1,img_pix,img_pix), dtype=torch.float32))\n",
    "\n",
    "predictions = torch.argmax(out, dim=1).numpy()\n",
    "confusion_mtx = confusion_matrix(predictions, y[indxs[:10000]])\n",
    "\n",
    "f,ax = plt.subplots(figsize=(8, 8))\n",
    "sns.heatmap(confusion_mtx, annot=True, linewidths=0.01,  fmt= '1', ax=ax, norm=LogNorm(), cbar=False)\n",
    "plt.xlabel(\"Predicted Label\")\n",
    "plt.ylabel(\"True Label\")\n",
    "plt.title(\"Confusion Matrix\")\n",
    "plt.show()"
   ]
  },
  {
   "cell_type": "markdown",
   "id": "87c2ff1c",
   "metadata": {
    "papermill": {
     "duration": 0.416085,
     "end_time": "2024-01-19T09:23:17.990066",
     "exception": false,
     "start_time": "2024-01-19T09:23:17.573981",
     "status": "completed"
    },
    "tags": []
   },
   "source": [
    "# Evaluate the model on test data and save submission.cvs"
   ]
  },
  {
   "cell_type": "code",
   "execution_count": 8,
   "id": "1cc16781",
   "metadata": {
    "execution": {
     "iopub.execute_input": "2024-01-19T09:23:18.835752Z",
     "iopub.status.busy": "2024-01-19T09:23:18.835245Z",
     "iopub.status.idle": "2024-01-19T09:23:33.438509Z",
     "shell.execute_reply": "2024-01-19T09:23:33.437541Z"
    },
    "papermill": {
     "duration": 15.0301,
     "end_time": "2024-01-19T09:23:33.441000",
     "exception": false,
     "start_time": "2024-01-19T09:23:18.410900",
     "status": "completed"
    },
    "tags": []
   },
   "outputs": [
    {
     "name": "stdout",
     "output_type": "stream",
     "text": [
      "Your submission was successfully saved!\n"
     ]
    }
   ],
   "source": [
    "#%% Evaluate the model on test data and save submission.cvs\n",
    "test_data = pd.read_csv('/kaggle/input/digit-recognizer/test.csv')\n",
    "\n",
    "X_test=test_data.to_numpy(dtype='float')\n",
    "\n",
    "# Scaling data to [0, 1]\n",
    "X_test=X_test/np.max(X_test)\n",
    "X_test=X_test.reshape(-1, 1, img_pix, img_pix)\n",
    "\n",
    "model_eval=model.eval()\n",
    "\n",
    "out=model_eval(torch.tensor(X_test, dtype=torch.float32))\n",
    "    \n",
    "predict = torch.argmax(out, dim=1).numpy()\n",
    "\n",
    "predictions = [int(x) for x in predict]\n",
    "\n",
    "output = pd.DataFrame({'ImageId': range(1, len(X_test)+1), 'Label': predictions})\n",
    "output.to_csv('submission.csv', index=False)\n",
    "print(\"Your submission was successfully saved!\")"
   ]
  },
  {
   "cell_type": "markdown",
   "id": "4ba0b377",
   "metadata": {
    "papermill": {
     "duration": 0.414689,
     "end_time": "2024-01-19T09:23:34.339305",
     "exception": false,
     "start_time": "2024-01-19T09:23:33.924616",
     "status": "completed"
    },
    "tags": []
   },
   "source": [
    "# Plot several predicted examples"
   ]
  },
  {
   "cell_type": "code",
   "execution_count": 9,
   "id": "6381e09f",
   "metadata": {
    "execution": {
     "iopub.execute_input": "2024-01-19T09:23:35.184904Z",
     "iopub.status.busy": "2024-01-19T09:23:35.184093Z",
     "iopub.status.idle": "2024-01-19T09:23:35.984230Z",
     "shell.execute_reply": "2024-01-19T09:23:35.982968Z"
    },
    "papermill": {
     "duration": 1.212453,
     "end_time": "2024-01-19T09:23:35.986960",
     "exception": false,
     "start_time": "2024-01-19T09:23:34.774507",
     "status": "completed"
    },
    "tags": []
   },
   "outputs": [
    {
     "data": {
      "image/png": "[encoded data removed]",
      "text/plain": [
       "<Figure size 450x450 with 9 Axes>"
      ]
     },
     "metadata": {},
     "output_type": "display_data"
    }
   ],
   "source": [
    "# repeat to show new digits in random order from X_test\n",
    "plot_digits(X_test, img_pix, 3, labels_predict=predict)"
   ]
  }
 ],
 "metadata": {
  "kaggle": {
   "accelerator": "none",
   "dataSources": [
    {
     "databundleVersionId": 861823,
     "sourceId": 3004,
     "sourceType": "competition"
    }
   ],
   "dockerImageVersionId": 30635,
   "isGpuEnabled": false,
   "isInternetEnabled": false,
   "language": "python",
   "sourceType": "notebook"
  },
  "kernelspec": {
   "display_name": "Python 3",
   "language": "python",
   "name": "python3"
  },
  "language_info": {
   "codemirror_mode": {
    "name": "ipython",
    "version": 3
   },
   "file_extension": ".py",
   "mimetype": "text/x-python",
   "name": "python",
   "nbconvert_exporter": "python",
   "pygments_lexer": "ipython3",
   "version": "3.10.12"
  },
  "papermill": {
   "default_parameters": {},
   "duration": 502.441875,
   "end_time": "2024-01-19T09:23:38.137766",
   "environment_variables": {},
   "exception": null,
   "input_path": "__notebook__.ipynb",
   "output_path": "__notebook__.ipynb",
   "parameters": {},
   "start_time": "2024-01-19T09:15:15.695891",
   "version": "2.4.0"
  }
 },
 "nbformat": 4,
 "nbformat_minor": 5
}
