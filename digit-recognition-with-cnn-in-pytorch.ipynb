{
 "cells": [
  {
   "cell_type": "code",
   "execution_count": 1,
   "id": "80a08271",
   "metadata": {
    "_cell_guid": "b1076dfc-b9ad-4769-8c92-a6c4dae69d19",
    "_uuid": "8f2839f25d086af736a60e9eeb907d3b93b6e0e5",
    "execution": {
     "iopub.execute_input": "2024-01-23T06:41:58.810073Z",
     "iopub.status.busy": "2024-01-23T06:41:58.809598Z",
     "iopub.status.idle": "2024-01-23T06:42:05.366935Z",
     "shell.execute_reply": "2024-01-23T06:42:05.365296Z"
    },
    "papermill": {
     "duration": 6.569192,
     "end_time": "2024-01-23T06:42:05.370114",
     "exception": false,
     "start_time": "2024-01-23T06:41:58.800922",
     "status": "completed"
    },
    "tags": []
   },
   "outputs": [
    {
     "name": "stderr",
     "output_type": "stream",
     "text": [
      "/opt/conda/lib/python3.10/site-packages/torchvision/datapoints/__init__.py:12: UserWarning: The torchvision.datapoints and torchvision.transforms.v2 namespaces are still Beta. While we do not expect major breaking changes, some APIs may still change according to user feedback. Please submit any feedback you may have in this issue: https://github.com/pytorch/vision/issues/6753, and you can also check out https://github.com/pytorch/vision/issues/7319 to learn more about the APIs that we suspect might involve future changes. You can silence this warning by calling torchvision.disable_beta_transforms_warning().\n",
      "  warnings.warn(_BETA_TRANSFORMS_WARNING)\n",
      "/opt/conda/lib/python3.10/site-packages/torchvision/transforms/v2/__init__.py:54: UserWarning: The torchvision.datapoints and torchvision.transforms.v2 namespaces are still Beta. While we do not expect major breaking changes, some APIs may still change according to user feedback. Please submit any feedback you may have in this issue: https://github.com/pytorch/vision/issues/6753, and you can also check out https://github.com/pytorch/vision/issues/7319 to learn more about the APIs that we suspect might involve future changes. You can silence this warning by calling torchvision.disable_beta_transforms_warning().\n",
      "  warnings.warn(_BETA_TRANSFORMS_WARNING)\n"
     ]
    },
    {
     "name": "stdout",
     "output_type": "stream",
     "text": [
      "/kaggle/input/digit-recognizer/sample_submission.csv\n",
      "/kaggle/input/digit-recognizer/train.csv\n",
      "/kaggle/input/digit-recognizer/test.csv\n"
     ]
    }
   ],
   "source": [
    "\"\"\"\n",
    "Created on Mon Jan 15 17:45:41 2024\n",
    "\n",
    "Convolution neural network for digit recognition on mnist dataset\n",
    "\n",
    "@author: ganchenko\n",
    "\"\"\"\n",
    "\n",
    "from tqdm import tqdm\n",
    "import numpy as np\n",
    "import pandas as pd\n",
    "import seaborn as sns\n",
    "import random\n",
    "from matplotlib import pyplot as plt \n",
    "import torch\n",
    "import torch.nn.functional as F\n",
    "import torch.nn as nn\n",
    "from torch.utils.data import DataLoader, Dataset, random_split\n",
    "from torchvision.transforms import v2\n",
    "\n",
    "from sklearn.metrics import confusion_matrix\n",
    "from matplotlib.colors import LogNorm\n",
    "\n",
    "import os\n",
    "for dirname, _, filenames in os.walk('/kaggle/input'):\n",
    "    for filename in filenames:\n",
    "        print(os.path.join(dirname, filename))\n",
    "\n",
    "# You can write up to 20GB to the current directory (/kaggle/working/) that gets preserved as output when you create a version using \"Save & Run All\" \n",
    "# You can also write temporary files to /kaggle/temp/, but they won't be saved outside of the current session"
   ]
  },
  {
   "cell_type": "markdown",
   "id": "356e287a",
   "metadata": {
    "papermill": {
     "duration": 0.006317,
     "end_time": "2024-01-23T06:42:05.383236",
     "exception": false,
     "start_time": "2024-01-23T06:42:05.376919",
     "status": "completed"
    },
    "tags": []
   },
   "source": [
    "# Usefull function"
   ]
  },
  {
   "cell_type": "code",
   "execution_count": 2,
   "id": "33ae7b30",
   "metadata": {
    "execution": {
     "iopub.execute_input": "2024-01-23T06:42:05.399098Z",
     "iopub.status.busy": "2024-01-23T06:42:05.398468Z",
     "iopub.status.idle": "2024-01-23T06:42:05.416897Z",
     "shell.execute_reply": "2024-01-23T06:42:05.415225Z"
    },
    "papermill": {
     "duration": 0.030601,
     "end_time": "2024-01-23T06:42:05.420411",
     "exception": false,
     "start_time": "2024-01-23T06:42:05.389810",
     "status": "completed"
    },
    "tags": []
   },
   "outputs": [],
   "source": [
    "def compute_accuracy(predictions, y):\n",
    "    \"\"\"Computes the accuracy of predictions against the gold labels, y.\"\"\"\n",
    "    return np.mean(np.equal(predictions.numpy(), y.numpy()))\n",
    "\n",
    "def plot_digits(X, img_pix=28, n=1, labels_predict=np.array([None]), labels_act=np.array([None]), rnd=True):\n",
    "    \"\"\"\n",
    "    Plot n*n random digits from set X\n",
    "    \n",
    "    Args:\n",
    "        X -  (num, img_pix*img_pix), array of digits\n",
    "        img_pix - int, size of the digit img_pix*img_pix\n",
    "        n - int, n is a number of columns and rows\n",
    "        labels_predicted - (num, ) of int or str with predicted labels\n",
    "        labels_act - (num, ) of int or str with actual labels\n",
    "        rnd - Boolean, random chosing of samples\n",
    "    Returns:\n",
    "        nothing\n",
    "    \"\"\"\n",
    "    plt.figure(figsize=[1.5*n, 1.5*n])\n",
    "   \n",
    "    for i in range(n*n):\n",
    "        plt.subplot(n , n, i+1)\n",
    "        if rnd:\n",
    "            indx=random.randint(0, len(X)-1)\n",
    "        else:\n",
    "            indx=i\n",
    "        dig=X[indx].reshape(img_pix, img_pix)\n",
    "        plt.imshow(dig, cmap='gray_r')\n",
    "        plt.axis('off')\n",
    "        str_title=''\n",
    "        if labels_act[0]!=None: str_title+=' Act_num: '+str(labels_act[indx])+', \\n'\n",
    "        if labels_predict[0]!=None: str_title+='Pre_num: '+str(labels_predict[indx])\n",
    "        plt.title(str_title)\n",
    "            \n",
    "    plt.tight_layout()        \n",
    "    plt.show()         \n",
    "    \n",
    "class Flatten(nn.Module):\n",
    "    \"\"\"A custom layer that views an input as 1D.\"\"\"\n",
    "    def forward(self, input):\n",
    "        return input.view(input.size(0), -1)\n",
    "\n",
    "class ImageDataset(Dataset):\n",
    "\n",
    "    def __init__(self, images, labels=None, transform=None):\n",
    "        self.images = images\n",
    "        self.labels = labels\n",
    "        self.transform = transform\n",
    "\n",
    "    def __len__(self):\n",
    "        return len(self.images)\n",
    "\n",
    "    def __getitem__(self, idx):\n",
    "        image = self.images[idx] \n",
    "        image = torch.from_numpy(image).float()\n",
    "        image = image.view(1, 28, 28)\n",
    "        \n",
    "        if self.transform is not None:\n",
    "            image=self.transform(image)\n",
    "    \n",
    "        if self.labels is not None:  \n",
    "            label = torch.tensor(self.labels[idx])\n",
    "            return image, label\n",
    "        return image"
   ]
  },
  {
   "cell_type": "markdown",
   "id": "d4d8670d",
   "metadata": {
    "papermill": {
     "duration": 0.006369,
     "end_time": "2024-01-23T06:42:05.433898",
     "exception": false,
     "start_time": "2024-01-23T06:42:05.427529",
     "status": "completed"
    },
    "tags": []
   },
   "source": [
    "# Training procedure"
   ]
  },
  {
   "cell_type": "code",
   "execution_count": 3,
   "id": "f4dd178b",
   "metadata": {
    "execution": {
     "iopub.execute_input": "2024-01-23T06:42:05.450834Z",
     "iopub.status.busy": "2024-01-23T06:42:05.449966Z",
     "iopub.status.idle": "2024-01-23T06:42:05.464901Z",
     "shell.execute_reply": "2024-01-23T06:42:05.463444Z"
    },
    "papermill": {
     "duration": 0.027228,
     "end_time": "2024-01-23T06:42:05.468735",
     "exception": false,
     "start_time": "2024-01-23T06:42:05.441507",
     "status": "completed"
    },
    "tags": []
   },
   "outputs": [],
   "source": [
    "# Training Procedure\n",
    "def train_model(train_data, dev_data, model, device=torch.device('cpu'), lr=0.01, momentum=0.9, nesterov=False, n_epochs=20,  batch_size=32):\n",
    "    \"\"\"Train a model for N epochs given data and hyper-params.\"\"\"\n",
    "\n",
    "    optimizer = torch.optim.SGD(model.parameters(), lr=lr, momentum=momentum, nesterov=nesterov)\n",
    "    train_accuracies = []\n",
    "    val_accuracies =[]\n",
    "    for epoch in range(1, n_epochs+1):\n",
    "        print(\"-------------\\nEpoch {}:\\n\".format(epoch))\n",
    "\n",
    "        # Run **training***\n",
    "        loss, acc = run_epoch(train_data, model.train(), optimizer, device, batch_size)\n",
    "        print('Train loss: {:.6f} | Train accuracy: {:.6f}'.format(loss, acc))\n",
    "        train_accuracies.append(acc)\n",
    "\n",
    "        # Run **validation**\n",
    "        val_loss, val_acc = run_epoch(dev_data, model.eval(), optimizer, device, batch_size)\n",
    "        print('Val loss:   {:.6f} | Val accuracy:   {:.6f}'.format(val_loss, val_acc))\n",
    "        val_accuracies.append(val_acc)\n",
    "        # Save model\n",
    "        torch.save(model, 'mnist_cnn.pt')\n",
    "    return train_accuracies, val_accuracies\n",
    "\n",
    "def run_epoch(data, model, optimizer, device=torch.device('cpu'),  batch_size=32):\n",
    "    \"\"\"Train model for one pass of train data, and return loss, acccuracy\"\"\"\n",
    "   \n",
    "    losses = []\n",
    "    batch_accuracies = []\n",
    "    is_training = model.training\n",
    "\n",
    "    # batchify data\n",
    "    #indices permutation in training set for a better SGD estimation\n",
    "    if is_training: \n",
    "        data_batched = DataLoader(data, batch_size=batch_size, shuffle=True)\n",
    "    else:\n",
    "        data_batched = DataLoader(data, batch_size=batch_size)\n",
    "    \n",
    "    # Iterate through batches\n",
    "    for batch in tqdm(data_batched):\n",
    "        \n",
    "        x, y = batch\n",
    "        # Move data to the specified device (GPU or CPU)\n",
    "        x, y = x.to(device), y.to(device)\n",
    "        out = model(x)\n",
    "\n",
    "        predictions = torch.argmax(out, dim=1)\n",
    "        batch_accuracies.append(compute_accuracy(predictions, y))\n",
    "\n",
    "        loss = F.cross_entropy(out, y)\n",
    "        losses.append(loss.data.item())\n",
    "\n",
    "        if is_training:\n",
    "            optimizer.zero_grad()\n",
    "            loss.backward()\n",
    "            optimizer.step()\n",
    "\n",
    "    # Calculate epoch level scores\n",
    "    avg_loss = np.mean(losses)\n",
    "    avg_accuracy = np.mean(batch_accuracies)\n",
    "    return avg_loss, avg_accuracy"
   ]
  },
  {
   "cell_type": "markdown",
   "id": "28942d67",
   "metadata": {
    "papermill": {
     "duration": 0.007,
     "end_time": "2024-01-23T06:42:05.483260",
     "exception": false,
     "start_time": "2024-01-23T06:42:05.476260",
     "status": "completed"
    },
    "tags": []
   },
   "source": [
    "# Import data"
   ]
  },
  {
   "cell_type": "code",
   "execution_count": 4,
   "id": "aa7f49b4",
   "metadata": {
    "execution": {
     "iopub.execute_input": "2024-01-23T06:42:05.499550Z",
     "iopub.status.busy": "2024-01-23T06:42:05.499132Z",
     "iopub.status.idle": "2024-01-23T06:42:11.587009Z",
     "shell.execute_reply": "2024-01-23T06:42:11.585797Z"
    },
    "papermill": {
     "duration": 6.100657,
     "end_time": "2024-01-23T06:42:11.590695",
     "exception": false,
     "start_time": "2024-01-23T06:42:05.490038",
     "status": "completed"
    },
    "tags": []
   },
   "outputs": [
    {
     "data": {
      "image/png": "[encoded data removed]",
      "text/plain": [
       "<Figure size 450x450 with 9 Axes>"
      ]
     },
     "metadata": {},
     "output_type": "display_data"
    }
   ],
   "source": [
    "all_data = pd.read_csv('/kaggle/input/digit-recognizer/train.csv')\n",
    "y=all_data.label.to_numpy(dtype='long')\n",
    "img_pix=28\n",
    "\n",
    "X=all_data.drop(['label'], axis=1, inplace=False).to_numpy(dtype='float')\n",
    "# Scaling data to [0, 1]\n",
    "X=X/np.max(X)\n",
    "\n",
    "# Set transform to augment data for training \n",
    "transf = v2.RandomAffine(degrees=20, scale=(0.9, 1.1))\n",
    "X_set = ImageDataset(X, y, transform=transf)\n",
    "\n",
    "tmp_images = [X_set[i][0] for i in range(9)]\n",
    "tmp_labels = [X_set[i][1].numpy() for i in range(9)]\n",
    "plot_digits(tmp_images, n=3, labels_act=tmp_labels, rnd=False)\n",
    "\n",
    "#split data into training and validation parts\n",
    "#X_set = ImageDataset(X, y)\n",
    "X_train_set, X_dev_set=random_split(X_set, [0.9, 0.1], generator=torch.Generator().manual_seed(42))"
   ]
  },
  {
   "cell_type": "markdown",
   "id": "612bc244",
   "metadata": {
    "papermill": {
     "duration": 0.006958,
     "end_time": "2024-01-23T06:42:11.605124",
     "exception": false,
     "start_time": "2024-01-23T06:42:11.598166",
     "status": "completed"
    },
    "tags": []
   },
   "source": [
    "# Training model"
   ]
  },
  {
   "cell_type": "code",
   "execution_count": 5,
   "id": "839f1698",
   "metadata": {
    "execution": {
     "iopub.execute_input": "2024-01-23T06:42:11.624451Z",
     "iopub.status.busy": "2024-01-23T06:42:11.623242Z",
     "iopub.status.idle": "2024-01-23T07:16:12.527967Z",
     "shell.execute_reply": "2024-01-23T07:16:12.526662Z"
    },
    "papermill": {
     "duration": 2040.91946,
     "end_time": "2024-01-23T07:16:12.532707",
     "exception": false,
     "start_time": "2024-01-23T06:42:11.613247",
     "status": "completed"
    },
    "tags": []
   },
   "outputs": [
    {
     "name": "stdout",
     "output_type": "stream",
     "text": [
      "-------------\n",
      "Epoch 1:\n",
      "\n"
     ]
    },
    {
     "name": "stderr",
     "output_type": "stream",
     "text": [
      "100%|██████████| 1182/1182 [00:37<00:00, 31.13it/s]\n"
     ]
    },
    {
     "name": "stdout",
     "output_type": "stream",
     "text": [
      "Train loss: 0.365638 | Train accuracy: 0.881477\n"
     ]
    },
    {
     "name": "stderr",
     "output_type": "stream",
     "text": [
      "100%|██████████| 132/132 [00:02<00:00, 44.14it/s]\n"
     ]
    },
    {
     "name": "stdout",
     "output_type": "stream",
     "text": [
      "Val loss:   0.122103 | Val accuracy:   0.965672\n",
      "-------------\n",
      "Epoch 2:\n",
      "\n"
     ]
    },
    {
     "name": "stderr",
     "output_type": "stream",
     "text": [
      "100%|██████████| 1182/1182 [00:37<00:00, 31.36it/s]\n"
     ]
    },
    {
     "name": "stdout",
     "output_type": "stream",
     "text": [
      "Train loss: 0.133344 | Train accuracy: 0.958862\n"
     ]
    },
    {
     "name": "stderr",
     "output_type": "stream",
     "text": [
      "100%|██████████| 132/132 [00:02<00:00, 44.20it/s]\n"
     ]
    },
    {
     "name": "stdout",
     "output_type": "stream",
     "text": [
      "Val loss:   0.105400 | Val accuracy:   0.968750\n",
      "-------------\n",
      "Epoch 3:\n",
      "\n"
     ]
    },
    {
     "name": "stderr",
     "output_type": "stream",
     "text": [
      "100%|██████████| 1182/1182 [00:38<00:00, 30.92it/s]\n"
     ]
    },
    {
     "name": "stdout",
     "output_type": "stream",
     "text": [
      "Train loss: 0.103998 | Train accuracy: 0.967745\n"
     ]
    },
    {
     "name": "stderr",
     "output_type": "stream",
     "text": [
      "100%|██████████| 132/132 [00:03<00:00, 43.08it/s]\n"
     ]
    },
    {
     "name": "stdout",
     "output_type": "stream",
     "text": [
      "Val loss:   0.090003 | Val accuracy:   0.973248\n",
      "-------------\n",
      "Epoch 4:\n",
      "\n"
     ]
    },
    {
     "name": "stderr",
     "output_type": "stream",
     "text": [
      "100%|██████████| 1182/1182 [00:37<00:00, 31.36it/s]\n"
     ]
    },
    {
     "name": "stdout",
     "output_type": "stream",
     "text": [
      "Train loss: 0.086160 | Train accuracy: 0.972346\n"
     ]
    },
    {
     "name": "stderr",
     "output_type": "stream",
     "text": [
      "100%|██████████| 132/132 [00:03<00:00, 43.53it/s]\n"
     ]
    },
    {
     "name": "stdout",
     "output_type": "stream",
     "text": [
      "Val loss:   0.076050 | Val accuracy:   0.977983\n",
      "-------------\n",
      "Epoch 5:\n",
      "\n"
     ]
    },
    {
     "name": "stderr",
     "output_type": "stream",
     "text": [
      "100%|██████████| 1182/1182 [00:37<00:00, 31.54it/s]\n"
     ]
    },
    {
     "name": "stdout",
     "output_type": "stream",
     "text": [
      "Train loss: 0.074505 | Train accuracy: 0.976496\n"
     ]
    },
    {
     "name": "stderr",
     "output_type": "stream",
     "text": [
      "100%|██████████| 132/132 [00:03<00:00, 43.75it/s]\n"
     ]
    },
    {
     "name": "stdout",
     "output_type": "stream",
     "text": [
      "Val loss:   0.070737 | Val accuracy:   0.981061\n",
      "-------------\n",
      "Epoch 6:\n",
      "\n"
     ]
    },
    {
     "name": "stderr",
     "output_type": "stream",
     "text": [
      "100%|██████████| 1182/1182 [00:37<00:00, 31.94it/s]\n"
     ]
    },
    {
     "name": "stdout",
     "output_type": "stream",
     "text": [
      "Train loss: 0.072057 | Train accuracy: 0.978136\n"
     ]
    },
    {
     "name": "stderr",
     "output_type": "stream",
     "text": [
      "100%|██████████| 132/132 [00:03<00:00, 41.33it/s]\n"
     ]
    },
    {
     "name": "stdout",
     "output_type": "stream",
     "text": [
      "Val loss:   0.075231 | Val accuracy:   0.975616\n",
      "-------------\n",
      "Epoch 7:\n",
      "\n"
     ]
    },
    {
     "name": "stderr",
     "output_type": "stream",
     "text": [
      "100%|██████████| 1182/1182 [00:37<00:00, 31.35it/s]\n"
     ]
    },
    {
     "name": "stdout",
     "output_type": "stream",
     "text": [
      "Train loss: 0.066008 | Train accuracy: 0.979722\n"
     ]
    },
    {
     "name": "stderr",
     "output_type": "stream",
     "text": [
      "100%|██████████| 132/132 [00:03<00:00, 43.63it/s]\n"
     ]
    },
    {
     "name": "stdout",
     "output_type": "stream",
     "text": [
      "Val loss:   0.072495 | Val accuracy:   0.978930\n",
      "-------------\n",
      "Epoch 8:\n",
      "\n"
     ]
    },
    {
     "name": "stderr",
     "output_type": "stream",
     "text": [
      "100%|██████████| 1182/1182 [00:37<00:00, 31.81it/s]\n"
     ]
    },
    {
     "name": "stdout",
     "output_type": "stream",
     "text": [
      "Train loss: 0.060436 | Train accuracy: 0.981652\n"
     ]
    },
    {
     "name": "stderr",
     "output_type": "stream",
     "text": [
      "100%|██████████| 132/132 [00:02<00:00, 44.35it/s]\n"
     ]
    },
    {
     "name": "stdout",
     "output_type": "stream",
     "text": [
      "Val loss:   0.063649 | Val accuracy:   0.981534\n",
      "-------------\n",
      "Epoch 9:\n",
      "\n"
     ]
    },
    {
     "name": "stderr",
     "output_type": "stream",
     "text": [
      "100%|██████████| 1182/1182 [00:37<00:00, 31.61it/s]\n"
     ]
    },
    {
     "name": "stdout",
     "output_type": "stream",
     "text": [
      "Train loss: 0.062267 | Train accuracy: 0.980779\n"
     ]
    },
    {
     "name": "stderr",
     "output_type": "stream",
     "text": [
      "100%|██████████| 132/132 [00:03<00:00, 43.74it/s]\n"
     ]
    },
    {
     "name": "stdout",
     "output_type": "stream",
     "text": [
      "Val loss:   0.071927 | Val accuracy:   0.979403\n",
      "-------------\n",
      "Epoch 10:\n",
      "\n"
     ]
    },
    {
     "name": "stderr",
     "output_type": "stream",
     "text": [
      "100%|██████████| 1182/1182 [00:37<00:00, 31.36it/s]\n"
     ]
    },
    {
     "name": "stdout",
     "output_type": "stream",
     "text": [
      "Train loss: 0.055507 | Train accuracy: 0.982392\n"
     ]
    },
    {
     "name": "stderr",
     "output_type": "stream",
     "text": [
      "100%|██████████| 132/132 [00:03<00:00, 43.21it/s]\n"
     ]
    },
    {
     "name": "stdout",
     "output_type": "stream",
     "text": [
      "Val loss:   0.055238 | Val accuracy:   0.984612\n",
      "-------------\n",
      "Epoch 11:\n",
      "\n"
     ]
    },
    {
     "name": "stderr",
     "output_type": "stream",
     "text": [
      "100%|██████████| 1182/1182 [00:37<00:00, 31.68it/s]\n"
     ]
    },
    {
     "name": "stdout",
     "output_type": "stream",
     "text": [
      "Train loss: 0.053672 | Train accuracy: 0.982339\n"
     ]
    },
    {
     "name": "stderr",
     "output_type": "stream",
     "text": [
      "100%|██████████| 132/132 [00:02<00:00, 44.29it/s]\n"
     ]
    },
    {
     "name": "stdout",
     "output_type": "stream",
     "text": [
      "Val loss:   0.057420 | Val accuracy:   0.982955\n",
      "-------------\n",
      "Epoch 12:\n",
      "\n"
     ]
    },
    {
     "name": "stderr",
     "output_type": "stream",
     "text": [
      "100%|██████████| 1182/1182 [00:37<00:00, 31.71it/s]\n"
     ]
    },
    {
     "name": "stdout",
     "output_type": "stream",
     "text": [
      "Train loss: 0.051418 | Train accuracy: 0.983846\n"
     ]
    },
    {
     "name": "stderr",
     "output_type": "stream",
     "text": [
      "100%|██████████| 132/132 [00:03<00:00, 43.24it/s]\n"
     ]
    },
    {
     "name": "stdout",
     "output_type": "stream",
     "text": [
      "Val loss:   0.059795 | Val accuracy:   0.981297\n",
      "-------------\n",
      "Epoch 13:\n",
      "\n"
     ]
    },
    {
     "name": "stderr",
     "output_type": "stream",
     "text": [
      "100%|██████████| 1182/1182 [00:37<00:00, 31.87it/s]\n"
     ]
    },
    {
     "name": "stdout",
     "output_type": "stream",
     "text": [
      "Train loss: 0.050650 | Train accuracy: 0.983688\n"
     ]
    },
    {
     "name": "stderr",
     "output_type": "stream",
     "text": [
      "100%|██████████| 132/132 [00:02<00:00, 44.63it/s]\n"
     ]
    },
    {
     "name": "stdout",
     "output_type": "stream",
     "text": [
      "Val loss:   0.052346 | Val accuracy:   0.985559\n",
      "-------------\n",
      "Epoch 14:\n",
      "\n"
     ]
    },
    {
     "name": "stderr",
     "output_type": "stream",
     "text": [
      "100%|██████████| 1182/1182 [00:37<00:00, 31.62it/s]\n"
     ]
    },
    {
     "name": "stdout",
     "output_type": "stream",
     "text": [
      "Train loss: 0.048359 | Train accuracy: 0.984163\n"
     ]
    },
    {
     "name": "stderr",
     "output_type": "stream",
     "text": [
      "100%|██████████| 132/132 [00:02<00:00, 44.97it/s]\n"
     ]
    },
    {
     "name": "stdout",
     "output_type": "stream",
     "text": [
      "Val loss:   0.063866 | Val accuracy:   0.983191\n",
      "-------------\n",
      "Epoch 15:\n",
      "\n"
     ]
    },
    {
     "name": "stderr",
     "output_type": "stream",
     "text": [
      "100%|██████████| 1182/1182 [00:37<00:00, 31.74it/s]\n"
     ]
    },
    {
     "name": "stdout",
     "output_type": "stream",
     "text": [
      "Train loss: 0.047195 | Train accuracy: 0.985142\n"
     ]
    },
    {
     "name": "stderr",
     "output_type": "stream",
     "text": [
      "100%|██████████| 132/132 [00:02<00:00, 44.41it/s]\n"
     ]
    },
    {
     "name": "stdout",
     "output_type": "stream",
     "text": [
      "Val loss:   0.057805 | Val accuracy:   0.985559\n",
      "-------------\n",
      "Epoch 16:\n",
      "\n"
     ]
    },
    {
     "name": "stderr",
     "output_type": "stream",
     "text": [
      "100%|██████████| 1182/1182 [00:37<00:00, 31.70it/s]\n"
     ]
    },
    {
     "name": "stdout",
     "output_type": "stream",
     "text": [
      "Train loss: 0.043550 | Train accuracy: 0.986279\n"
     ]
    },
    {
     "name": "stderr",
     "output_type": "stream",
     "text": [
      "100%|██████████| 132/132 [00:02<00:00, 45.02it/s]\n"
     ]
    },
    {
     "name": "stdout",
     "output_type": "stream",
     "text": [
      "Val loss:   0.058594 | Val accuracy:   0.984612\n",
      "-------------\n",
      "Epoch 17:\n",
      "\n"
     ]
    },
    {
     "name": "stderr",
     "output_type": "stream",
     "text": [
      "100%|██████████| 1182/1182 [00:37<00:00, 31.89it/s]\n"
     ]
    },
    {
     "name": "stdout",
     "output_type": "stream",
     "text": [
      "Train loss: 0.044130 | Train accuracy: 0.985961\n"
     ]
    },
    {
     "name": "stderr",
     "output_type": "stream",
     "text": [
      "100%|██████████| 132/132 [00:03<00:00, 41.08it/s]\n"
     ]
    },
    {
     "name": "stdout",
     "output_type": "stream",
     "text": [
      "Val loss:   0.056293 | Val accuracy:   0.985322\n",
      "-------------\n",
      "Epoch 18:\n",
      "\n"
     ]
    },
    {
     "name": "stderr",
     "output_type": "stream",
     "text": [
      "100%|██████████| 1182/1182 [00:37<00:00, 31.45it/s]\n"
     ]
    },
    {
     "name": "stdout",
     "output_type": "stream",
     "text": [
      "Train loss: 0.041383 | Train accuracy: 0.986781\n"
     ]
    },
    {
     "name": "stderr",
     "output_type": "stream",
     "text": [
      "100%|██████████| 132/132 [00:02<00:00, 44.76it/s]\n"
     ]
    },
    {
     "name": "stdout",
     "output_type": "stream",
     "text": [
      "Val loss:   0.069421 | Val accuracy:   0.982008\n",
      "-------------\n",
      "Epoch 19:\n",
      "\n"
     ]
    },
    {
     "name": "stderr",
     "output_type": "stream",
     "text": [
      "100%|██████████| 1182/1182 [00:37<00:00, 31.47it/s]\n"
     ]
    },
    {
     "name": "stdout",
     "output_type": "stream",
     "text": [
      "Train loss: 0.042195 | Train accuracy: 0.987310\n"
     ]
    },
    {
     "name": "stderr",
     "output_type": "stream",
     "text": [
      "100%|██████████| 132/132 [00:02<00:00, 44.97it/s]\n"
     ]
    },
    {
     "name": "stdout",
     "output_type": "stream",
     "text": [
      "Val loss:   0.069773 | Val accuracy:   0.980824\n",
      "-------------\n",
      "Epoch 20:\n",
      "\n"
     ]
    },
    {
     "name": "stderr",
     "output_type": "stream",
     "text": [
      "100%|██████████| 1182/1182 [00:37<00:00, 31.89it/s]\n"
     ]
    },
    {
     "name": "stdout",
     "output_type": "stream",
     "text": [
      "Train loss: 0.041382 | Train accuracy: 0.986516\n"
     ]
    },
    {
     "name": "stderr",
     "output_type": "stream",
     "text": [
      "100%|██████████| 132/132 [00:02<00:00, 45.12it/s]\n"
     ]
    },
    {
     "name": "stdout",
     "output_type": "stream",
     "text": [
      "Val loss:   0.067627 | Val accuracy:   0.980350\n",
      "-------------\n",
      "Epoch 21:\n",
      "\n"
     ]
    },
    {
     "name": "stderr",
     "output_type": "stream",
     "text": [
      "100%|██████████| 1182/1182 [00:37<00:00, 31.29it/s]\n"
     ]
    },
    {
     "name": "stdout",
     "output_type": "stream",
     "text": [
      "Train loss: 0.039371 | Train accuracy: 0.987468\n"
     ]
    },
    {
     "name": "stderr",
     "output_type": "stream",
     "text": [
      "100%|██████████| 132/132 [00:02<00:00, 44.79it/s]\n"
     ]
    },
    {
     "name": "stdout",
     "output_type": "stream",
     "text": [
      "Val loss:   0.060966 | Val accuracy:   0.983428\n",
      "-------------\n",
      "Epoch 22:\n",
      "\n"
     ]
    },
    {
     "name": "stderr",
     "output_type": "stream",
     "text": [
      "100%|██████████| 1182/1182 [00:37<00:00, 31.20it/s]\n"
     ]
    },
    {
     "name": "stdout",
     "output_type": "stream",
     "text": [
      "Train loss: 0.041704 | Train accuracy: 0.986226\n"
     ]
    },
    {
     "name": "stderr",
     "output_type": "stream",
     "text": [
      "100%|██████████| 132/132 [00:02<00:00, 44.16it/s]\n"
     ]
    },
    {
     "name": "stdout",
     "output_type": "stream",
     "text": [
      "Val loss:   0.058037 | Val accuracy:   0.984375\n",
      "-------------\n",
      "Epoch 23:\n",
      "\n"
     ]
    },
    {
     "name": "stderr",
     "output_type": "stream",
     "text": [
      "100%|██████████| 1182/1182 [00:37<00:00, 31.48it/s]\n"
     ]
    },
    {
     "name": "stdout",
     "output_type": "stream",
     "text": [
      "Train loss: 0.038732 | Train accuracy: 0.987283\n"
     ]
    },
    {
     "name": "stderr",
     "output_type": "stream",
     "text": [
      "100%|██████████| 132/132 [00:02<00:00, 44.53it/s]\n"
     ]
    },
    {
     "name": "stdout",
     "output_type": "stream",
     "text": [
      "Val loss:   0.056231 | Val accuracy:   0.985795\n",
      "-------------\n",
      "Epoch 24:\n",
      "\n"
     ]
    },
    {
     "name": "stderr",
     "output_type": "stream",
     "text": [
      "100%|██████████| 1182/1182 [00:37<00:00, 31.84it/s]\n"
     ]
    },
    {
     "name": "stdout",
     "output_type": "stream",
     "text": [
      "Train loss: 0.038709 | Train accuracy: 0.987521\n"
     ]
    },
    {
     "name": "stderr",
     "output_type": "stream",
     "text": [
      "100%|██████████| 132/132 [00:03<00:00, 42.94it/s]\n"
     ]
    },
    {
     "name": "stdout",
     "output_type": "stream",
     "text": [
      "Val loss:   0.071108 | Val accuracy:   0.983428\n",
      "-------------\n",
      "Epoch 25:\n",
      "\n"
     ]
    },
    {
     "name": "stderr",
     "output_type": "stream",
     "text": [
      "100%|██████████| 1182/1182 [00:37<00:00, 31.22it/s]\n"
     ]
    },
    {
     "name": "stdout",
     "output_type": "stream",
     "text": [
      "Train loss: 0.038681 | Train accuracy: 0.987786\n"
     ]
    },
    {
     "name": "stderr",
     "output_type": "stream",
     "text": [
      "100%|██████████| 132/132 [00:03<00:00, 42.80it/s]\n"
     ]
    },
    {
     "name": "stdout",
     "output_type": "stream",
     "text": [
      "Val loss:   0.058958 | Val accuracy:   0.985322\n",
      "-------------\n",
      "Epoch 26:\n",
      "\n"
     ]
    },
    {
     "name": "stderr",
     "output_type": "stream",
     "text": [
      "100%|██████████| 1182/1182 [00:37<00:00, 31.65it/s]\n"
     ]
    },
    {
     "name": "stdout",
     "output_type": "stream",
     "text": [
      "Train loss: 0.038737 | Train accuracy: 0.987812\n"
     ]
    },
    {
     "name": "stderr",
     "output_type": "stream",
     "text": [
      "100%|██████████| 132/132 [00:02<00:00, 44.42it/s]\n"
     ]
    },
    {
     "name": "stdout",
     "output_type": "stream",
     "text": [
      "Val loss:   0.060166 | Val accuracy:   0.982955\n",
      "-------------\n",
      "Epoch 27:\n",
      "\n"
     ]
    },
    {
     "name": "stderr",
     "output_type": "stream",
     "text": [
      "100%|██████████| 1182/1182 [00:38<00:00, 31.09it/s]\n"
     ]
    },
    {
     "name": "stdout",
     "output_type": "stream",
     "text": [
      "Train loss: 0.036370 | Train accuracy: 0.988473\n"
     ]
    },
    {
     "name": "stderr",
     "output_type": "stream",
     "text": [
      "100%|██████████| 132/132 [00:03<00:00, 43.58it/s]\n"
     ]
    },
    {
     "name": "stdout",
     "output_type": "stream",
     "text": [
      "Val loss:   0.058916 | Val accuracy:   0.983191\n",
      "-------------\n",
      "Epoch 28:\n",
      "\n"
     ]
    },
    {
     "name": "stderr",
     "output_type": "stream",
     "text": [
      "100%|██████████| 1182/1182 [00:38<00:00, 31.01it/s]\n"
     ]
    },
    {
     "name": "stdout",
     "output_type": "stream",
     "text": [
      "Train loss: 0.034076 | Train accuracy: 0.989530\n"
     ]
    },
    {
     "name": "stderr",
     "output_type": "stream",
     "text": [
      "100%|██████████| 132/132 [00:03<00:00, 41.68it/s]\n"
     ]
    },
    {
     "name": "stdout",
     "output_type": "stream",
     "text": [
      "Val loss:   0.055735 | Val accuracy:   0.985795\n",
      "-------------\n",
      "Epoch 29:\n",
      "\n"
     ]
    },
    {
     "name": "stderr",
     "output_type": "stream",
     "text": [
      "100%|██████████| 1182/1182 [00:38<00:00, 31.06it/s]\n"
     ]
    },
    {
     "name": "stdout",
     "output_type": "stream",
     "text": [
      "Train loss: 0.035137 | Train accuracy: 0.988552\n"
     ]
    },
    {
     "name": "stderr",
     "output_type": "stream",
     "text": [
      "100%|██████████| 132/132 [00:02<00:00, 45.19it/s]\n"
     ]
    },
    {
     "name": "stdout",
     "output_type": "stream",
     "text": [
      "Val loss:   0.056062 | Val accuracy:   0.985795\n",
      "-------------\n",
      "Epoch 30:\n",
      "\n"
     ]
    },
    {
     "name": "stderr",
     "output_type": "stream",
     "text": [
      "100%|██████████| 1182/1182 [00:37<00:00, 31.14it/s]\n"
     ]
    },
    {
     "name": "stdout",
     "output_type": "stream",
     "text": [
      "Train loss: 0.037061 | Train accuracy: 0.987627\n"
     ]
    },
    {
     "name": "stderr",
     "output_type": "stream",
     "text": [
      "100%|██████████| 132/132 [00:02<00:00, 44.05it/s]\n"
     ]
    },
    {
     "name": "stdout",
     "output_type": "stream",
     "text": [
      "Val loss:   0.055429 | Val accuracy:   0.984138\n",
      "-------------\n",
      "Epoch 31:\n",
      "\n"
     ]
    },
    {
     "name": "stderr",
     "output_type": "stream",
     "text": [
      "100%|██████████| 1182/1182 [00:38<00:00, 30.86it/s]\n"
     ]
    },
    {
     "name": "stdout",
     "output_type": "stream",
     "text": [
      "Train loss: 0.033077 | Train accuracy: 0.989266\n"
     ]
    },
    {
     "name": "stderr",
     "output_type": "stream",
     "text": [
      "100%|██████████| 132/132 [00:03<00:00, 37.19it/s]\n"
     ]
    },
    {
     "name": "stdout",
     "output_type": "stream",
     "text": [
      "Val loss:   0.066999 | Val accuracy:   0.984612\n",
      "-------------\n",
      "Epoch 32:\n",
      "\n"
     ]
    },
    {
     "name": "stderr",
     "output_type": "stream",
     "text": [
      "100%|██████████| 1182/1182 [00:38<00:00, 30.32it/s]\n"
     ]
    },
    {
     "name": "stdout",
     "output_type": "stream",
     "text": [
      "Train loss: 0.031644 | Train accuracy: 0.990297\n"
     ]
    },
    {
     "name": "stderr",
     "output_type": "stream",
     "text": [
      "100%|██████████| 132/132 [00:02<00:00, 44.76it/s]\n"
     ]
    },
    {
     "name": "stdout",
     "output_type": "stream",
     "text": [
      "Val loss:   0.073680 | Val accuracy:   0.982955\n",
      "-------------\n",
      "Epoch 33:\n",
      "\n"
     ]
    },
    {
     "name": "stderr",
     "output_type": "stream",
     "text": [
      "100%|██████████| 1182/1182 [00:37<00:00, 31.27it/s]\n"
     ]
    },
    {
     "name": "stdout",
     "output_type": "stream",
     "text": [
      "Train loss: 0.030856 | Train accuracy: 0.990799\n"
     ]
    },
    {
     "name": "stderr",
     "output_type": "stream",
     "text": [
      "100%|██████████| 132/132 [00:02<00:00, 44.18it/s]\n"
     ]
    },
    {
     "name": "stdout",
     "output_type": "stream",
     "text": [
      "Val loss:   0.064932 | Val accuracy:   0.984848\n",
      "-------------\n",
      "Epoch 34:\n",
      "\n"
     ]
    },
    {
     "name": "stderr",
     "output_type": "stream",
     "text": [
      "100%|██████████| 1182/1182 [00:38<00:00, 31.06it/s]\n"
     ]
    },
    {
     "name": "stdout",
     "output_type": "stream",
     "text": [
      "Train loss: 0.033007 | Train accuracy: 0.989240\n"
     ]
    },
    {
     "name": "stderr",
     "output_type": "stream",
     "text": [
      "100%|██████████| 132/132 [00:03<00:00, 43.39it/s]\n"
     ]
    },
    {
     "name": "stdout",
     "output_type": "stream",
     "text": [
      "Val loss:   0.067441 | Val accuracy:   0.984375\n",
      "-------------\n",
      "Epoch 35:\n",
      "\n"
     ]
    },
    {
     "name": "stderr",
     "output_type": "stream",
     "text": [
      "100%|██████████| 1182/1182 [00:38<00:00, 30.74it/s]\n"
     ]
    },
    {
     "name": "stdout",
     "output_type": "stream",
     "text": [
      "Train loss: 0.034476 | Train accuracy: 0.989028\n"
     ]
    },
    {
     "name": "stderr",
     "output_type": "stream",
     "text": [
      "100%|██████████| 132/132 [00:03<00:00, 43.57it/s]\n"
     ]
    },
    {
     "name": "stdout",
     "output_type": "stream",
     "text": [
      "Val loss:   0.058552 | Val accuracy:   0.986506\n",
      "-------------\n",
      "Epoch 36:\n",
      "\n"
     ]
    },
    {
     "name": "stderr",
     "output_type": "stream",
     "text": [
      "100%|██████████| 1182/1182 [00:37<00:00, 31.31it/s]\n"
     ]
    },
    {
     "name": "stdout",
     "output_type": "stream",
     "text": [
      "Train loss: 0.034543 | Train accuracy: 0.988764\n"
     ]
    },
    {
     "name": "stderr",
     "output_type": "stream",
     "text": [
      "100%|██████████| 132/132 [00:02<00:00, 44.48it/s]\n"
     ]
    },
    {
     "name": "stdout",
     "output_type": "stream",
     "text": [
      "Val loss:   0.057509 | Val accuracy:   0.985795\n",
      "-------------\n",
      "Epoch 37:\n",
      "\n"
     ]
    },
    {
     "name": "stderr",
     "output_type": "stream",
     "text": [
      "100%|██████████| 1182/1182 [00:37<00:00, 31.35it/s]\n"
     ]
    },
    {
     "name": "stdout",
     "output_type": "stream",
     "text": [
      "Train loss: 0.030675 | Train accuracy: 0.990139\n"
     ]
    },
    {
     "name": "stderr",
     "output_type": "stream",
     "text": [
      "100%|██████████| 132/132 [00:03<00:00, 43.63it/s]\n"
     ]
    },
    {
     "name": "stdout",
     "output_type": "stream",
     "text": [
      "Val loss:   0.061228 | Val accuracy:   0.986269\n",
      "-------------\n",
      "Epoch 38:\n",
      "\n"
     ]
    },
    {
     "name": "stderr",
     "output_type": "stream",
     "text": [
      "100%|██████████| 1182/1182 [00:38<00:00, 30.53it/s]\n"
     ]
    },
    {
     "name": "stdout",
     "output_type": "stream",
     "text": [
      "Train loss: 0.031948 | Train accuracy: 0.989451\n"
     ]
    },
    {
     "name": "stderr",
     "output_type": "stream",
     "text": [
      "100%|██████████| 132/132 [00:03<00:00, 42.48it/s]\n"
     ]
    },
    {
     "name": "stdout",
     "output_type": "stream",
     "text": [
      "Val loss:   0.067457 | Val accuracy:   0.983665\n",
      "-------------\n",
      "Epoch 39:\n",
      "\n"
     ]
    },
    {
     "name": "stderr",
     "output_type": "stream",
     "text": [
      "100%|██████████| 1182/1182 [00:37<00:00, 31.35it/s]\n"
     ]
    },
    {
     "name": "stdout",
     "output_type": "stream",
     "text": [
      "Train loss: 0.030185 | Train accuracy: 0.990218\n"
     ]
    },
    {
     "name": "stderr",
     "output_type": "stream",
     "text": [
      "100%|██████████| 132/132 [00:03<00:00, 43.35it/s]\n"
     ]
    },
    {
     "name": "stdout",
     "output_type": "stream",
     "text": [
      "Val loss:   0.062018 | Val accuracy:   0.986979\n",
      "-------------\n",
      "Epoch 40:\n",
      "\n"
     ]
    },
    {
     "name": "stderr",
     "output_type": "stream",
     "text": [
      "100%|██████████| 1182/1182 [00:37<00:00, 31.18it/s]\n"
     ]
    },
    {
     "name": "stdout",
     "output_type": "stream",
     "text": [
      "Train loss: 0.029631 | Train accuracy: 0.990033\n"
     ]
    },
    {
     "name": "stderr",
     "output_type": "stream",
     "text": [
      "100%|██████████| 132/132 [00:02<00:00, 44.58it/s]\n"
     ]
    },
    {
     "name": "stdout",
     "output_type": "stream",
     "text": [
      "Val loss:   0.057629 | Val accuracy:   0.985322\n",
      "-------------\n",
      "Epoch 41:\n",
      "\n"
     ]
    },
    {
     "name": "stderr",
     "output_type": "stream",
     "text": [
      "100%|██████████| 1182/1182 [00:38<00:00, 30.90it/s]\n"
     ]
    },
    {
     "name": "stdout",
     "output_type": "stream",
     "text": [
      "Train loss: 0.029382 | Train accuracy: 0.990932\n"
     ]
    },
    {
     "name": "stderr",
     "output_type": "stream",
     "text": [
      "100%|██████████| 132/132 [00:03<00:00, 41.89it/s]\n"
     ]
    },
    {
     "name": "stdout",
     "output_type": "stream",
     "text": [
      "Val loss:   0.062178 | Val accuracy:   0.982718\n",
      "-------------\n",
      "Epoch 42:\n",
      "\n"
     ]
    },
    {
     "name": "stderr",
     "output_type": "stream",
     "text": [
      "100%|██████████| 1182/1182 [00:38<00:00, 30.65it/s]\n"
     ]
    },
    {
     "name": "stdout",
     "output_type": "stream",
     "text": [
      "Train loss: 0.028753 | Train accuracy: 0.990852\n"
     ]
    },
    {
     "name": "stderr",
     "output_type": "stream",
     "text": [
      "100%|██████████| 132/132 [00:03<00:00, 43.66it/s]\n"
     ]
    },
    {
     "name": "stdout",
     "output_type": "stream",
     "text": [
      "Val loss:   0.060179 | Val accuracy:   0.986269\n",
      "-------------\n",
      "Epoch 43:\n",
      "\n"
     ]
    },
    {
     "name": "stderr",
     "output_type": "stream",
     "text": [
      "100%|██████████| 1182/1182 [00:37<00:00, 31.35it/s]\n"
     ]
    },
    {
     "name": "stdout",
     "output_type": "stream",
     "text": [
      "Train loss: 0.030485 | Train accuracy: 0.990218\n"
     ]
    },
    {
     "name": "stderr",
     "output_type": "stream",
     "text": [
      "100%|██████████| 132/132 [00:03<00:00, 43.73it/s]\n"
     ]
    },
    {
     "name": "stdout",
     "output_type": "stream",
     "text": [
      "Val loss:   0.060198 | Val accuracy:   0.984138\n",
      "-------------\n",
      "Epoch 44:\n",
      "\n"
     ]
    },
    {
     "name": "stderr",
     "output_type": "stream",
     "text": [
      "100%|██████████| 1182/1182 [00:37<00:00, 31.70it/s]\n"
     ]
    },
    {
     "name": "stdout",
     "output_type": "stream",
     "text": [
      "Train loss: 0.031364 | Train accuracy: 0.989768\n"
     ]
    },
    {
     "name": "stderr",
     "output_type": "stream",
     "text": [
      "100%|██████████| 132/132 [00:02<00:00, 44.24it/s]\n"
     ]
    },
    {
     "name": "stdout",
     "output_type": "stream",
     "text": [
      "Val loss:   0.059380 | Val accuracy:   0.986032\n",
      "-------------\n",
      "Epoch 45:\n",
      "\n"
     ]
    },
    {
     "name": "stderr",
     "output_type": "stream",
     "text": [
      "100%|██████████| 1182/1182 [00:37<00:00, 31.19it/s]\n"
     ]
    },
    {
     "name": "stdout",
     "output_type": "stream",
     "text": [
      "Train loss: 0.029783 | Train accuracy: 0.990403\n"
     ]
    },
    {
     "name": "stderr",
     "output_type": "stream",
     "text": [
      "100%|██████████| 132/132 [00:03<00:00, 39.19it/s]\n"
     ]
    },
    {
     "name": "stdout",
     "output_type": "stream",
     "text": [
      "Val loss:   0.053521 | Val accuracy:   0.987216\n",
      "-------------\n",
      "Epoch 46:\n",
      "\n"
     ]
    },
    {
     "name": "stderr",
     "output_type": "stream",
     "text": [
      "100%|██████████| 1182/1182 [00:37<00:00, 31.27it/s]\n"
     ]
    },
    {
     "name": "stdout",
     "output_type": "stream",
     "text": [
      "Train loss: 0.027926 | Train accuracy: 0.990456\n"
     ]
    },
    {
     "name": "stderr",
     "output_type": "stream",
     "text": [
      "100%|██████████| 132/132 [00:02<00:00, 44.57it/s]\n"
     ]
    },
    {
     "name": "stdout",
     "output_type": "stream",
     "text": [
      "Val loss:   0.058237 | Val accuracy:   0.986032\n",
      "-------------\n",
      "Epoch 47:\n",
      "\n"
     ]
    },
    {
     "name": "stderr",
     "output_type": "stream",
     "text": [
      "100%|██████████| 1182/1182 [00:37<00:00, 31.25it/s]\n"
     ]
    },
    {
     "name": "stdout",
     "output_type": "stream",
     "text": [
      "Train loss: 0.028914 | Train accuracy: 0.990614\n"
     ]
    },
    {
     "name": "stderr",
     "output_type": "stream",
     "text": [
      "100%|██████████| 132/132 [00:02<00:00, 44.84it/s]\n"
     ]
    },
    {
     "name": "stdout",
     "output_type": "stream",
     "text": [
      "Val loss:   0.060220 | Val accuracy:   0.984612\n",
      "-------------\n",
      "Epoch 48:\n",
      "\n"
     ]
    },
    {
     "name": "stderr",
     "output_type": "stream",
     "text": [
      "100%|██████████| 1182/1182 [00:38<00:00, 31.02it/s]\n"
     ]
    },
    {
     "name": "stdout",
     "output_type": "stream",
     "text": [
      "Train loss: 0.027206 | Train accuracy: 0.991143\n"
     ]
    },
    {
     "name": "stderr",
     "output_type": "stream",
     "text": [
      "100%|██████████| 132/132 [00:02<00:00, 44.24it/s]\n"
     ]
    },
    {
     "name": "stdout",
     "output_type": "stream",
     "text": [
      "Val loss:   0.049908 | Val accuracy:   0.986032\n",
      "-------------\n",
      "Epoch 49:\n",
      "\n"
     ]
    },
    {
     "name": "stderr",
     "output_type": "stream",
     "text": [
      "100%|██████████| 1182/1182 [00:39<00:00, 30.17it/s]\n"
     ]
    },
    {
     "name": "stdout",
     "output_type": "stream",
     "text": [
      "Train loss: 0.028870 | Train accuracy: 0.990271\n"
     ]
    },
    {
     "name": "stderr",
     "output_type": "stream",
     "text": [
      "100%|██████████| 132/132 [00:02<00:00, 44.61it/s]\n"
     ]
    },
    {
     "name": "stdout",
     "output_type": "stream",
     "text": [
      "Val loss:   0.056226 | Val accuracy:   0.988163\n",
      "-------------\n",
      "Epoch 50:\n",
      "\n"
     ]
    },
    {
     "name": "stderr",
     "output_type": "stream",
     "text": [
      "100%|██████████| 1182/1182 [00:38<00:00, 30.94it/s]\n"
     ]
    },
    {
     "name": "stdout",
     "output_type": "stream",
     "text": [
      "Train loss: 0.028833 | Train accuracy: 0.990826\n"
     ]
    },
    {
     "name": "stderr",
     "output_type": "stream",
     "text": [
      "100%|██████████| 132/132 [00:02<00:00, 44.28it/s]"
     ]
    },
    {
     "name": "stdout",
     "output_type": "stream",
     "text": [
      "Val loss:   0.052497 | Val accuracy:   0.987216\n"
     ]
    },
    {
     "name": "stderr",
     "output_type": "stream",
     "text": [
      "\n"
     ]
    }
   ],
   "source": [
    "#%% Train model\n",
    "\n",
    "#################################\n",
    "## Model specification\n",
    "model = nn.Sequential(\n",
    "          nn.Conv2d(1, 32, (3, 3)),\n",
    "          nn.ReLU(),\n",
    "          nn.MaxPool2d((2, 2)),\n",
    "          nn.Conv2d(32, 64, (3, 3)),\n",
    "          nn.ReLU(),\n",
    "          nn.MaxPool2d((2, 2)),\n",
    "          Flatten(),\n",
    "          nn.Linear(64*5*5,128),\n",
    "          nn.Dropout(),\n",
    "          nn.Linear(128, 10),\n",
    "        )\n",
    "##################################\n",
    "\n",
    "device = torch.device(\"cuda\" if torch.cuda.is_available() else \"cpu\")\n",
    "model = model.to(device)\n",
    "\n",
    "batch_size = 32\n",
    "n_epochs = 50\n",
    "train_acc, dev_acc=train_model(X_train_set, X_dev_set, \n",
    "                               model, device=device, \n",
    "                               nesterov=True, \n",
    "                               n_epochs=n_epochs,  \n",
    "                               batch_size=batch_size)"
   ]
  },
  {
   "cell_type": "markdown",
   "id": "82881d91",
   "metadata": {
    "papermill": {
     "duration": 1.575471,
     "end_time": "2024-01-23T07:16:15.788857",
     "exception": false,
     "start_time": "2024-01-23T07:16:14.213386",
     "status": "completed"
    },
    "tags": []
   },
   "source": [
    "# Plot accuraties"
   ]
  },
  {
   "cell_type": "code",
   "execution_count": 6,
   "id": "e1d893b0",
   "metadata": {
    "execution": {
     "iopub.execute_input": "2024-01-23T07:16:19.122787Z",
     "iopub.status.busy": "2024-01-23T07:16:19.122383Z",
     "iopub.status.idle": "2024-01-23T07:16:19.411203Z",
     "shell.execute_reply": "2024-01-23T07:16:19.410034Z"
    },
    "papermill": {
     "duration": 1.953584,
     "end_time": "2024-01-23T07:16:19.413740",
     "exception": false,
     "start_time": "2024-01-23T07:16:17.460156",
     "status": "completed"
    },
    "tags": []
   },
   "outputs": [
    {
     "data": {
      "image/png": "[encoded data removed]",
      "text/plain": [
       "<Figure size 640x480 with 1 Axes>"
      ]
     },
     "metadata": {},
     "output_type": "display_data"
    }
   ],
   "source": [
    "#%% Plot training and validation accuracies in epochs\n",
    "plt.subplot()\n",
    "plt.plot(np.arange(1, n_epochs+1), train_acc, 'b', label='Train accuracy')\n",
    "plt.plot(np.arange(1, n_epochs+1), dev_acc, 'r', label='Validation accuracy')\n",
    "plt.legend()\n",
    "plt.xlabel('Epochs')\n",
    "plt.ylabel('Accuracy')\n",
    "plt.show()"
   ]
  },
  {
   "cell_type": "markdown",
   "id": "466994ee",
   "metadata": {
    "papermill": {
     "duration": 1.653768,
     "end_time": "2024-01-23T07:16:22.626483",
     "exception": false,
     "start_time": "2024-01-23T07:16:20.972715",
     "status": "completed"
    },
    "tags": []
   },
   "source": [
    "# Analysis of prediction results on validation data"
   ]
  },
  {
   "cell_type": "code",
   "execution_count": 7,
   "id": "65648b44",
   "metadata": {
    "execution": {
     "iopub.execute_input": "2024-01-23T07:16:25.931085Z",
     "iopub.status.busy": "2024-01-23T07:16:25.930562Z",
     "iopub.status.idle": "2024-01-23T07:16:30.056890Z",
     "shell.execute_reply": "2024-01-23T07:16:30.055722Z"
    },
    "papermill": {
     "duration": 5.757984,
     "end_time": "2024-01-23T07:16:30.059676",
     "exception": false,
     "start_time": "2024-01-23T07:16:24.301692",
     "status": "completed"
    },
    "tags": []
   },
   "outputs": [
    {
     "data": {
      "image/png": "[encoded data removed]",
      "text/plain": [
       "<Figure size 800x800 with 1 Axes>"
      ]
     },
     "metadata": {},
     "output_type": "display_data"
    }
   ],
   "source": [
    "#%% Analysis of prediction results on dev data\n",
    "indxs=np.arange(0,len(X))\n",
    "random.shuffle(indxs)\n",
    "out=model(torch.tensor(X[indxs[:10000]].reshape(-1,1,img_pix,img_pix), dtype=torch.float32))\n",
    "\n",
    "predictions = torch.argmax(out, dim=1).numpy()\n",
    "confusion_mtx = confusion_matrix(predictions, y[indxs[:10000]])\n",
    "\n",
    "f,ax = plt.subplots(figsize=(8, 8))\n",
    "sns.heatmap(confusion_mtx, annot=True, linewidths=0.01,  fmt= '1', ax=ax, norm=LogNorm(), cbar=False)\n",
    "plt.xlabel(\"Predicted Label\")\n",
    "plt.ylabel(\"True Label\")\n",
    "plt.title(\"Confusion Matrix\")\n",
    "plt.show()"
   ]
  },
  {
   "cell_type": "markdown",
   "id": "a9e296e3",
   "metadata": {
    "papermill": {
     "duration": 1.610924,
     "end_time": "2024-01-23T07:16:33.322159",
     "exception": false,
     "start_time": "2024-01-23T07:16:31.711235",
     "status": "completed"
    },
    "tags": []
   },
   "source": [
    "# Evaluate the model on test data and save submission.cvs"
   ]
  },
  {
   "cell_type": "code",
   "execution_count": 8,
   "id": "8e6d6d77",
   "metadata": {
    "execution": {
     "iopub.execute_input": "2024-01-23T07:16:36.570839Z",
     "iopub.status.busy": "2024-01-23T07:16:36.570032Z",
     "iopub.status.idle": "2024-01-23T07:20:21.943066Z",
     "shell.execute_reply": "2024-01-23T07:20:21.941884Z"
    },
    "papermill": {
     "duration": 228.712567,
     "end_time": "2024-01-23T07:20:23.714447",
     "exception": false,
     "start_time": "2024-01-23T07:16:35.001880",
     "status": "completed"
    },
    "tags": []
   },
   "outputs": [
    {
     "name": "stdout",
     "output_type": "stream",
     "text": [
      "-------------\n",
      "Epoch 1:\n",
      "\n"
     ]
    },
    {
     "name": "stderr",
     "output_type": "stream",
     "text": [
      "100%|██████████| 132/132 [00:04<00:00, 32.32it/s]\n"
     ]
    },
    {
     "name": "stdout",
     "output_type": "stream",
     "text": [
      "Train loss: 0.069587 | Train accuracy: 0.982244\n",
      "-------------\n",
      "Epoch 2:\n",
      "\n"
     ]
    },
    {
     "name": "stderr",
     "output_type": "stream",
     "text": [
      "100%|██████████| 132/132 [00:04<00:00, 31.95it/s]\n"
     ]
    },
    {
     "name": "stdout",
     "output_type": "stream",
     "text": [
      "Train loss: 0.054154 | Train accuracy: 0.984375\n",
      "-------------\n",
      "Epoch 3:\n",
      "\n"
     ]
    },
    {
     "name": "stderr",
     "output_type": "stream",
     "text": [
      "100%|██████████| 132/132 [00:04<00:00, 32.73it/s]\n"
     ]
    },
    {
     "name": "stdout",
     "output_type": "stream",
     "text": [
      "Train loss: 0.049414 | Train accuracy: 0.985795\n",
      "-------------\n",
      "Epoch 4:\n",
      "\n"
     ]
    },
    {
     "name": "stderr",
     "output_type": "stream",
     "text": [
      "100%|██████████| 132/132 [00:04<00:00, 32.05it/s]\n"
     ]
    },
    {
     "name": "stdout",
     "output_type": "stream",
     "text": [
      "Train loss: 0.046807 | Train accuracy: 0.987453\n",
      "-------------\n",
      "Epoch 5:\n",
      "\n"
     ]
    },
    {
     "name": "stderr",
     "output_type": "stream",
     "text": [
      "100%|██████████| 132/132 [00:04<00:00, 29.89it/s]\n"
     ]
    },
    {
     "name": "stdout",
     "output_type": "stream",
     "text": [
      "Train loss: 0.041587 | Train accuracy: 0.987216\n",
      "-------------\n",
      "Epoch 6:\n",
      "\n"
     ]
    },
    {
     "name": "stderr",
     "output_type": "stream",
     "text": [
      "100%|██████████| 132/132 [00:04<00:00, 32.07it/s]\n"
     ]
    },
    {
     "name": "stdout",
     "output_type": "stream",
     "text": [
      "Train loss: 0.046187 | Train accuracy: 0.983902\n",
      "-------------\n",
      "Epoch 7:\n",
      "\n"
     ]
    },
    {
     "name": "stderr",
     "output_type": "stream",
     "text": [
      "100%|██████████| 132/132 [00:04<00:00, 26.87it/s]\n"
     ]
    },
    {
     "name": "stdout",
     "output_type": "stream",
     "text": [
      "Train loss: 0.037218 | Train accuracy: 0.989110\n",
      "-------------\n",
      "Epoch 8:\n",
      "\n"
     ]
    },
    {
     "name": "stderr",
     "output_type": "stream",
     "text": [
      "100%|██████████| 132/132 [00:04<00:00, 31.83it/s]\n"
     ]
    },
    {
     "name": "stdout",
     "output_type": "stream",
     "text": [
      "Train loss: 0.034019 | Train accuracy: 0.989583\n",
      "-------------\n",
      "Epoch 9:\n",
      "\n"
     ]
    },
    {
     "name": "stderr",
     "output_type": "stream",
     "text": [
      "100%|██████████| 132/132 [00:04<00:00, 31.73it/s]\n"
     ]
    },
    {
     "name": "stdout",
     "output_type": "stream",
     "text": [
      "Train loss: 0.036475 | Train accuracy: 0.988873\n",
      "-------------\n",
      "Epoch 10:\n",
      "\n"
     ]
    },
    {
     "name": "stderr",
     "output_type": "stream",
     "text": [
      "100%|██████████| 132/132 [00:04<00:00, 32.05it/s]\n"
     ]
    },
    {
     "name": "stdout",
     "output_type": "stream",
     "text": [
      "Train loss: 0.033574 | Train accuracy: 0.989110\n",
      "-------------\n",
      "Epoch 11:\n",
      "\n"
     ]
    },
    {
     "name": "stderr",
     "output_type": "stream",
     "text": [
      "100%|██████████| 132/132 [00:04<00:00, 31.61it/s]\n"
     ]
    },
    {
     "name": "stdout",
     "output_type": "stream",
     "text": [
      "Train loss: 0.030990 | Train accuracy: 0.990530\n",
      "-------------\n",
      "Epoch 12:\n",
      "\n"
     ]
    },
    {
     "name": "stderr",
     "output_type": "stream",
     "text": [
      "100%|██████████| 132/132 [00:04<00:00, 29.90it/s]\n"
     ]
    },
    {
     "name": "stdout",
     "output_type": "stream",
     "text": [
      "Train loss: 0.037123 | Train accuracy: 0.989583\n",
      "-------------\n",
      "Epoch 13:\n",
      "\n"
     ]
    },
    {
     "name": "stderr",
     "output_type": "stream",
     "text": [
      "100%|██████████| 132/132 [00:04<00:00, 31.40it/s]\n"
     ]
    },
    {
     "name": "stdout",
     "output_type": "stream",
     "text": [
      "Train loss: 0.028541 | Train accuracy: 0.991951\n",
      "-------------\n",
      "Epoch 14:\n",
      "\n"
     ]
    },
    {
     "name": "stderr",
     "output_type": "stream",
     "text": [
      "100%|██████████| 132/132 [00:04<00:00, 32.15it/s]\n"
     ]
    },
    {
     "name": "stdout",
     "output_type": "stream",
     "text": [
      "Train loss: 0.029300 | Train accuracy: 0.991241\n",
      "-------------\n",
      "Epoch 15:\n",
      "\n"
     ]
    },
    {
     "name": "stderr",
     "output_type": "stream",
     "text": [
      "100%|██████████| 132/132 [00:04<00:00, 28.54it/s]\n"
     ]
    },
    {
     "name": "stdout",
     "output_type": "stream",
     "text": [
      "Train loss: 0.030715 | Train accuracy: 0.991951\n",
      "-------------\n",
      "Epoch 16:\n",
      "\n"
     ]
    },
    {
     "name": "stderr",
     "output_type": "stream",
     "text": [
      "100%|██████████| 132/132 [00:04<00:00, 32.20it/s]\n"
     ]
    },
    {
     "name": "stdout",
     "output_type": "stream",
     "text": [
      "Train loss: 0.027516 | Train accuracy: 0.990767\n",
      "-------------\n",
      "Epoch 17:\n",
      "\n"
     ]
    },
    {
     "name": "stderr",
     "output_type": "stream",
     "text": [
      "100%|██████████| 132/132 [00:04<00:00, 32.34it/s]\n"
     ]
    },
    {
     "name": "stdout",
     "output_type": "stream",
     "text": [
      "Train loss: 0.025780 | Train accuracy: 0.992424\n",
      "-------------\n",
      "Epoch 18:\n",
      "\n"
     ]
    },
    {
     "name": "stderr",
     "output_type": "stream",
     "text": [
      "100%|██████████| 132/132 [00:04<00:00, 31.89it/s]\n"
     ]
    },
    {
     "name": "stdout",
     "output_type": "stream",
     "text": [
      "Train loss: 0.029302 | Train accuracy: 0.991241\n",
      "-------------\n",
      "Epoch 19:\n",
      "\n"
     ]
    },
    {
     "name": "stderr",
     "output_type": "stream",
     "text": [
      "100%|██████████| 132/132 [00:04<00:00, 31.92it/s]\n"
     ]
    },
    {
     "name": "stdout",
     "output_type": "stream",
     "text": [
      "Train loss: 0.022511 | Train accuracy: 0.991477\n",
      "-------------\n",
      "Epoch 20:\n",
      "\n"
     ]
    },
    {
     "name": "stderr",
     "output_type": "stream",
     "text": [
      "100%|██████████| 132/132 [00:04<00:00, 28.92it/s]\n"
     ]
    },
    {
     "name": "stdout",
     "output_type": "stream",
     "text": [
      "Train loss: 0.020432 | Train accuracy: 0.994555\n",
      "-------------\n",
      "Epoch 21:\n",
      "\n"
     ]
    },
    {
     "name": "stderr",
     "output_type": "stream",
     "text": [
      "100%|██████████| 132/132 [00:04<00:00, 31.84it/s]\n"
     ]
    },
    {
     "name": "stdout",
     "output_type": "stream",
     "text": [
      "Train loss: 0.022994 | Train accuracy: 0.992661\n",
      "-------------\n",
      "Epoch 22:\n",
      "\n"
     ]
    },
    {
     "name": "stderr",
     "output_type": "stream",
     "text": [
      "100%|██████████| 132/132 [00:04<00:00, 30.11it/s]\n"
     ]
    },
    {
     "name": "stdout",
     "output_type": "stream",
     "text": [
      "Train loss: 0.021202 | Train accuracy: 0.992424\n",
      "-------------\n",
      "Epoch 23:\n",
      "\n"
     ]
    },
    {
     "name": "stderr",
     "output_type": "stream",
     "text": [
      "100%|██████████| 132/132 [00:04<00:00, 29.95it/s]\n"
     ]
    },
    {
     "name": "stdout",
     "output_type": "stream",
     "text": [
      "Train loss: 0.021555 | Train accuracy: 0.993134\n",
      "-------------\n",
      "Epoch 24:\n",
      "\n"
     ]
    },
    {
     "name": "stderr",
     "output_type": "stream",
     "text": [
      "100%|██████████| 132/132 [00:04<00:00, 32.02it/s]\n"
     ]
    },
    {
     "name": "stdout",
     "output_type": "stream",
     "text": [
      "Train loss: 0.023595 | Train accuracy: 0.992424\n",
      "-------------\n",
      "Epoch 25:\n",
      "\n"
     ]
    },
    {
     "name": "stderr",
     "output_type": "stream",
     "text": [
      "100%|██████████| 132/132 [00:04<00:00, 32.04it/s]\n"
     ]
    },
    {
     "name": "stdout",
     "output_type": "stream",
     "text": [
      "Train loss: 0.019452 | Train accuracy: 0.991951\n",
      "-------------\n",
      "Epoch 26:\n",
      "\n"
     ]
    },
    {
     "name": "stderr",
     "output_type": "stream",
     "text": [
      "100%|██████████| 132/132 [00:04<00:00, 31.67it/s]\n"
     ]
    },
    {
     "name": "stdout",
     "output_type": "stream",
     "text": [
      "Train loss: 0.022226 | Train accuracy: 0.990767\n",
      "-------------\n",
      "Epoch 27:\n",
      "\n"
     ]
    },
    {
     "name": "stderr",
     "output_type": "stream",
     "text": [
      "100%|██████████| 132/132 [00:04<00:00, 30.04it/s]\n"
     ]
    },
    {
     "name": "stdout",
     "output_type": "stream",
     "text": [
      "Train loss: 0.016785 | Train accuracy: 0.994081\n",
      "-------------\n",
      "Epoch 28:\n",
      "\n"
     ]
    },
    {
     "name": "stderr",
     "output_type": "stream",
     "text": [
      "100%|██████████| 132/132 [00:04<00:00, 31.70it/s]\n"
     ]
    },
    {
     "name": "stdout",
     "output_type": "stream",
     "text": [
      "Train loss: 0.015343 | Train accuracy: 0.994555\n",
      "-------------\n",
      "Epoch 29:\n",
      "\n"
     ]
    },
    {
     "name": "stderr",
     "output_type": "stream",
     "text": [
      "100%|██████████| 132/132 [00:04<00:00, 31.56it/s]\n"
     ]
    },
    {
     "name": "stdout",
     "output_type": "stream",
     "text": [
      "Train loss: 0.021766 | Train accuracy: 0.993608\n",
      "-------------\n",
      "Epoch 30:\n",
      "\n"
     ]
    },
    {
     "name": "stderr",
     "output_type": "stream",
     "text": [
      "100%|██████████| 132/132 [00:04<00:00, 28.29it/s]\n"
     ]
    },
    {
     "name": "stdout",
     "output_type": "stream",
     "text": [
      "Train loss: 0.018004 | Train accuracy: 0.995028\n",
      "-------------\n",
      "Epoch 31:\n",
      "\n"
     ]
    },
    {
     "name": "stderr",
     "output_type": "stream",
     "text": [
      "100%|██████████| 132/132 [00:04<00:00, 32.16it/s]\n"
     ]
    },
    {
     "name": "stdout",
     "output_type": "stream",
     "text": [
      "Train loss: 0.020344 | Train accuracy: 0.994792\n",
      "-------------\n",
      "Epoch 32:\n",
      "\n"
     ]
    },
    {
     "name": "stderr",
     "output_type": "stream",
     "text": [
      "100%|██████████| 132/132 [00:04<00:00, 32.17it/s]\n"
     ]
    },
    {
     "name": "stdout",
     "output_type": "stream",
     "text": [
      "Train loss: 0.015858 | Train accuracy: 0.995975\n",
      "-------------\n",
      "Epoch 33:\n",
      "\n"
     ]
    },
    {
     "name": "stderr",
     "output_type": "stream",
     "text": [
      "100%|██████████| 132/132 [00:04<00:00, 32.61it/s]\n"
     ]
    },
    {
     "name": "stdout",
     "output_type": "stream",
     "text": [
      "Train loss: 0.017490 | Train accuracy: 0.994555\n",
      "-------------\n",
      "Epoch 34:\n",
      "\n"
     ]
    },
    {
     "name": "stderr",
     "output_type": "stream",
     "text": [
      "100%|██████████| 132/132 [00:04<00:00, 31.66it/s]\n"
     ]
    },
    {
     "name": "stdout",
     "output_type": "stream",
     "text": [
      "Train loss: 0.016088 | Train accuracy: 0.995028\n",
      "-------------\n",
      "Epoch 35:\n",
      "\n"
     ]
    },
    {
     "name": "stderr",
     "output_type": "stream",
     "text": [
      "100%|██████████| 132/132 [00:04<00:00, 29.99it/s]\n"
     ]
    },
    {
     "name": "stdout",
     "output_type": "stream",
     "text": [
      "Train loss: 0.017557 | Train accuracy: 0.994081\n",
      "-------------\n",
      "Epoch 36:\n",
      "\n"
     ]
    },
    {
     "name": "stderr",
     "output_type": "stream",
     "text": [
      "100%|██████████| 132/132 [00:04<00:00, 32.01it/s]\n"
     ]
    },
    {
     "name": "stdout",
     "output_type": "stream",
     "text": [
      "Train loss: 0.019041 | Train accuracy: 0.993134\n",
      "-------------\n",
      "Epoch 37:\n",
      "\n"
     ]
    },
    {
     "name": "stderr",
     "output_type": "stream",
     "text": [
      "100%|██████████| 132/132 [00:04<00:00, 31.85it/s]\n"
     ]
    },
    {
     "name": "stdout",
     "output_type": "stream",
     "text": [
      "Train loss: 0.020745 | Train accuracy: 0.993845\n",
      "-------------\n",
      "Epoch 38:\n",
      "\n"
     ]
    },
    {
     "name": "stderr",
     "output_type": "stream",
     "text": [
      "100%|██████████| 132/132 [00:04<00:00, 28.85it/s]\n"
     ]
    },
    {
     "name": "stdout",
     "output_type": "stream",
     "text": [
      "Train loss: 0.021342 | Train accuracy: 0.991951\n",
      "-------------\n",
      "Epoch 39:\n",
      "\n"
     ]
    },
    {
     "name": "stderr",
     "output_type": "stream",
     "text": [
      "100%|██████████| 132/132 [00:04<00:00, 32.05it/s]\n"
     ]
    },
    {
     "name": "stdout",
     "output_type": "stream",
     "text": [
      "Train loss: 0.018950 | Train accuracy: 0.993845\n",
      "-------------\n",
      "Epoch 40:\n",
      "\n"
     ]
    },
    {
     "name": "stderr",
     "output_type": "stream",
     "text": [
      "100%|██████████| 132/132 [00:04<00:00, 32.33it/s]\n"
     ]
    },
    {
     "name": "stdout",
     "output_type": "stream",
     "text": [
      "Train loss: 0.024048 | Train accuracy: 0.993134\n",
      "-------------\n",
      "Epoch 41:\n",
      "\n"
     ]
    },
    {
     "name": "stderr",
     "output_type": "stream",
     "text": [
      "100%|██████████| 132/132 [00:04<00:00, 32.24it/s]\n"
     ]
    },
    {
     "name": "stdout",
     "output_type": "stream",
     "text": [
      "Train loss: 0.013774 | Train accuracy: 0.996212\n",
      "-------------\n",
      "Epoch 42:\n",
      "\n"
     ]
    },
    {
     "name": "stderr",
     "output_type": "stream",
     "text": [
      "100%|██████████| 132/132 [00:04<00:00, 28.94it/s]\n"
     ]
    },
    {
     "name": "stdout",
     "output_type": "stream",
     "text": [
      "Train loss: 0.015365 | Train accuracy: 0.995739\n",
      "-------------\n",
      "Epoch 43:\n",
      "\n"
     ]
    },
    {
     "name": "stderr",
     "output_type": "stream",
     "text": [
      "100%|██████████| 132/132 [00:04<00:00, 32.14it/s]\n"
     ]
    },
    {
     "name": "stdout",
     "output_type": "stream",
     "text": [
      "Train loss: 0.020606 | Train accuracy: 0.994792\n",
      "-------------\n",
      "Epoch 44:\n",
      "\n"
     ]
    },
    {
     "name": "stderr",
     "output_type": "stream",
     "text": [
      "100%|██████████| 132/132 [00:04<00:00, 31.56it/s]\n"
     ]
    },
    {
     "name": "stdout",
     "output_type": "stream",
     "text": [
      "Train loss: 0.014406 | Train accuracy: 0.995265\n",
      "-------------\n",
      "Epoch 45:\n",
      "\n"
     ]
    },
    {
     "name": "stderr",
     "output_type": "stream",
     "text": [
      "100%|██████████| 132/132 [00:04<00:00, 28.88it/s]\n"
     ]
    },
    {
     "name": "stdout",
     "output_type": "stream",
     "text": [
      "Train loss: 0.013221 | Train accuracy: 0.995975\n",
      "-------------\n",
      "Epoch 46:\n",
      "\n"
     ]
    },
    {
     "name": "stderr",
     "output_type": "stream",
     "text": [
      "100%|██████████| 132/132 [00:04<00:00, 31.86it/s]\n"
     ]
    },
    {
     "name": "stdout",
     "output_type": "stream",
     "text": [
      "Train loss: 0.015101 | Train accuracy: 0.995502\n",
      "-------------\n",
      "Epoch 47:\n",
      "\n"
     ]
    },
    {
     "name": "stderr",
     "output_type": "stream",
     "text": [
      "100%|██████████| 132/132 [00:04<00:00, 32.19it/s]\n"
     ]
    },
    {
     "name": "stdout",
     "output_type": "stream",
     "text": [
      "Train loss: 0.016820 | Train accuracy: 0.995028\n",
      "-------------\n",
      "Epoch 48:\n",
      "\n"
     ]
    },
    {
     "name": "stderr",
     "output_type": "stream",
     "text": [
      "100%|██████████| 132/132 [00:04<00:00, 31.97it/s]\n"
     ]
    },
    {
     "name": "stdout",
     "output_type": "stream",
     "text": [
      "Train loss: 0.016184 | Train accuracy: 0.995265\n",
      "-------------\n",
      "Epoch 49:\n",
      "\n"
     ]
    },
    {
     "name": "stderr",
     "output_type": "stream",
     "text": [
      "100%|██████████| 132/132 [00:04<00:00, 30.69it/s]\n"
     ]
    },
    {
     "name": "stdout",
     "output_type": "stream",
     "text": [
      "Train loss: 0.014915 | Train accuracy: 0.995028\n",
      "-------------\n",
      "Epoch 50:\n",
      "\n"
     ]
    },
    {
     "name": "stderr",
     "output_type": "stream",
     "text": [
      "100%|██████████| 132/132 [00:04<00:00, 28.03it/s]\n"
     ]
    },
    {
     "name": "stdout",
     "output_type": "stream",
     "text": [
      "Train loss: 0.011616 | Train accuracy: 0.996449\n",
      "Your submission was successfully saved!\n"
     ]
    }
   ],
   "source": [
    "#%% Evaluate the model on test data and save submission.cvs\n",
    "test_data = pd.read_csv('/kaggle/input/digit-recognizer/test.csv')\n",
    "X_test=test_data.to_numpy(dtype='float')\n",
    "\n",
    "#Train model on the validation dataset\n",
    "optimizer = torch.optim.SGD(model.parameters(), lr=0.01, momentum=0.9, nesterov=True)\n",
    "\n",
    "for epoch in range(1, n_epochs+1):\n",
    "    print(\"-------------\\nEpoch {}:\\n\".format(epoch))\n",
    "    loss, acc = run_epoch(X_dev_set, model.train(), optimizer, device, batch_size)\n",
    "    print('Train loss: {:.6f} | Train accuracy: {:.6f}'.format(loss, acc))\n",
    "\n",
    "# Scaling test data to [0, 1]\n",
    "X_test=X_test/np.max(X_test)\n",
    "X_test=X_test.reshape(-1, 1, img_pix, img_pix)\n",
    "\n",
    "model_eval=model.eval()\n",
    "out=model_eval(torch.tensor(X_test, dtype=torch.float32)) \n",
    "predict = torch.argmax(out, dim=1).numpy()\n",
    "predictions = [int(x) for x in predict]\n",
    "\n",
    "output = pd.DataFrame({'ImageId': range(1, len(X_test)+1), 'Label': predictions})\n",
    "output.to_csv('submission.csv', index=False)\n",
    "print(\"Your submission was successfully saved!\")"
   ]
  },
  {
   "cell_type": "markdown",
   "id": "f0519f58",
   "metadata": {
    "papermill": {
     "duration": 1.853201,
     "end_time": "2024-01-23T07:20:27.450905",
     "exception": false,
     "start_time": "2024-01-23T07:20:25.597704",
     "status": "completed"
    },
    "tags": []
   },
   "source": [
    "# Plot several predicted examples"
   ]
  },
  {
   "cell_type": "code",
   "execution_count": 9,
   "id": "ff30a510",
   "metadata": {
    "execution": {
     "iopub.execute_input": "2024-01-23T07:20:31.064237Z",
     "iopub.status.busy": "2024-01-23T07:20:31.063774Z",
     "iopub.status.idle": "2024-01-23T07:20:31.827724Z",
     "shell.execute_reply": "2024-01-23T07:20:31.826574Z"
    },
    "papermill": {
     "duration": 2.524552,
     "end_time": "2024-01-23T07:20:31.830258",
     "exception": false,
     "start_time": "2024-01-23T07:20:29.305706",
     "status": "completed"
    },
    "tags": []
   },
   "outputs": [
    {
     "data": {
      "image/png": "[encoded data removed]",
      "text/plain": [
       "<Figure size 450x450 with 9 Axes>"
      ]
     },
     "metadata": {},
     "output_type": "display_data"
    }
   ],
   "source": [
    "# repeat to show new digits in random order from X_test\n",
    "plot_digits(X_test, img_pix, 3, labels_predict=predict)"
   ]
  }
 ],
 "metadata": {
  "kaggle": {
   "accelerator": "none",
   "dataSources": [
    {
     "databundleVersionId": 861823,
     "sourceId": 3004,
     "sourceType": "competition"
    }
   ],
   "dockerImageVersionId": 30635,
   "isGpuEnabled": false,
   "isInternetEnabled": false,
   "language": "python",
   "sourceType": "notebook"
  },
  "kernelspec": {
   "display_name": "Python 3",
   "language": "python",
   "name": "python3"
  },
  "language_info": {
   "codemirror_mode": {
    "name": "ipython",
    "version": 3
   },
   "file_extension": ".py",
   "mimetype": "text/x-python",
   "name": "python",
   "nbconvert_exporter": "python",
   "pygments_lexer": "ipython3",
   "version": "3.10.12"
  },
  "papermill": {
   "default_parameters": {},
   "duration": 2320.088159,
   "end_time": "2024-01-23T07:20:35.390855",
   "environment_variables": {},
   "exception": null,
   "input_path": "__notebook__.ipynb",
   "output_path": "__notebook__.ipynb",
   "parameters": {},
   "start_time": "2024-01-23T06:41:55.302696",
   "version": "2.4.0"
  }
 },
 "nbformat": 4,
 "nbformat_minor": 5
}
