{
 "cells": [
  {
   "cell_type": "code",
   "execution_count": 1,
   "id": "b5ccbaf8",
   "metadata": {
    "_cell_guid": "b1076dfc-b9ad-4769-8c92-a6c4dae69d19",
    "_uuid": "8f2839f25d086af736a60e9eeb907d3b93b6e0e5",
    "execution": {
     "iopub.execute_input": "2024-01-20T06:48:25.337667Z",
     "iopub.status.busy": "2024-01-20T06:48:25.337239Z",
     "iopub.status.idle": "2024-01-20T06:48:31.858339Z",
     "shell.execute_reply": "2024-01-20T06:48:31.857533Z"
    },
    "papermill": {
     "duration": 6.531275,
     "end_time": "2024-01-20T06:48:31.860735",
     "exception": false,
     "start_time": "2024-01-20T06:48:25.329460",
     "status": "completed"
    },
    "tags": []
   },
   "outputs": [
    {
     "name": "stdout",
     "output_type": "stream",
     "text": [
      "/kaggle/input/digit-recognizer/sample_submission.csv\n",
      "/kaggle/input/digit-recognizer/train.csv\n",
      "/kaggle/input/digit-recognizer/test.csv\n"
     ]
    }
   ],
   "source": [
    "\"\"\"\n",
    "Created on Mon Jan 15 17:45:41 2024\n",
    "\n",
    "Convolution neural network for digit recognition on mnist dataset\n",
    "\n",
    "@author: ganchenko\n",
    "\"\"\"\n",
    "\n",
    "from tqdm import tqdm\n",
    "import numpy as np\n",
    "import pandas as pd\n",
    "import seaborn as sns\n",
    "import random\n",
    "from matplotlib import pyplot as plt \n",
    "import torch\n",
    "import torch.nn.functional as F\n",
    "import torch.nn as nn\n",
    "from torch.utils.data import DataLoader, Dataset, random_split\n",
    "\n",
    "from sklearn.metrics import confusion_matrix\n",
    "from matplotlib.colors import LogNorm\n",
    "\n",
    "import os\n",
    "for dirname, _, filenames in os.walk('/kaggle/input'):\n",
    "    for filename in filenames:\n",
    "        print(os.path.join(dirname, filename))\n",
    "\n",
    "# You can write up to 20GB to the current directory (/kaggle/working/) that gets preserved as output when you create a version using \"Save & Run All\" \n",
    "# You can also write temporary files to /kaggle/temp/, but they won't be saved outside of the current session"
   ]
  },
  {
   "cell_type": "markdown",
   "id": "f1f39ec0",
   "metadata": {
    "papermill": {
     "duration": 0.005587,
     "end_time": "2024-01-20T06:48:31.872569",
     "exception": false,
     "start_time": "2024-01-20T06:48:31.866982",
     "status": "completed"
    },
    "tags": []
   },
   "source": [
    "# Usefull function"
   ]
  },
  {
   "cell_type": "code",
   "execution_count": 2,
   "id": "4b079a42",
   "metadata": {
    "execution": {
     "iopub.execute_input": "2024-01-20T06:48:31.888388Z",
     "iopub.status.busy": "2024-01-20T06:48:31.886850Z",
     "iopub.status.idle": "2024-01-20T06:48:31.904024Z",
     "shell.execute_reply": "2024-01-20T06:48:31.902834Z"
    },
    "papermill": {
     "duration": 0.027647,
     "end_time": "2024-01-20T06:48:31.906771",
     "exception": false,
     "start_time": "2024-01-20T06:48:31.879124",
     "status": "completed"
    },
    "tags": []
   },
   "outputs": [],
   "source": [
    "def compute_accuracy(predictions, y):\n",
    "    \"\"\"Computes the accuracy of predictions against the gold labels, y.\"\"\"\n",
    "    return np.mean(np.equal(predictions.numpy(), y.numpy()))\n",
    "\n",
    "def plot_digits(X, img_pix, n=1, labels_predict=np.array([None]), labels_act=np.array([None]), rnd=True):\n",
    "    \"\"\"\n",
    "    Plot n*n random digits from dataset\n",
    "    \n",
    "    Args:\n",
    "        X -  (num, img_pix*img_pix), array of digits\n",
    "        img_pix - int, size of the digit img_pix*img_pix\n",
    "        n - int, n is a number of columns and rows\n",
    "        labels_predicted - (num, ) of int or str with predicted labels\n",
    "        labels_act - (num, ) of int or str with actual labels\n",
    "        rnd - Boolean, random chosing of samples\n",
    "    Returns:\n",
    "        nothing\n",
    "    \"\"\"\n",
    "    plt.figure(figsize=[1.5*n, 1.5*n])\n",
    "   \n",
    "    for i in range(n*n):\n",
    "        plt.subplot(n , n, i+1)\n",
    "        if rnd:\n",
    "            indx=random.randint(0, X.shape[0]-1)\n",
    "        else:\n",
    "            indx=i\n",
    "        dig=X[indx, :].reshape(img_pix, img_pix)\n",
    "        plt.imshow(dig, cmap='gray_r')\n",
    "        plt.axis('off')\n",
    "        str_title=''\n",
    "        if labels_act[0]!=None: str_title+=' Act_num: '+str(labels_act[indx])+', \\n'\n",
    "        if labels_predict[0]!=None: str_title+='Pre_num: '+str(labels_predict[indx])\n",
    "        plt.title(str_title)\n",
    "            \n",
    "    plt.tight_layout()        \n",
    "    plt.show()       \n",
    "    \n",
    "class Flatten(nn.Module):\n",
    "    \"\"\"A custom layer that views an input as 1D.\"\"\"\n",
    "\n",
    "    def forward(self, input):\n",
    "        return input.view(input.size(0), -1)\n",
    "\n",
    "class ImageDataset(Dataset):\n",
    "\n",
    "    def __init__(self, images, labels=None, transform=None):\n",
    "        self.images = images\n",
    "        self.labels = labels\n",
    "        self.transform = transform\n",
    "\n",
    "    def __len__(self):\n",
    "        return len(self.images)\n",
    "\n",
    "    def __getitem__(self, idx):\n",
    "        image = self.images[idx] \n",
    "        image = torch.from_numpy(image).float()\n",
    "        image = image.view(1, 28, 28) \n",
    "    \n",
    "        if self.labels is not None:  \n",
    "            label = torch.tensor(self.labels[idx])\n",
    "            return image, label\n",
    "        return image"
   ]
  },
  {
   "cell_type": "markdown",
   "id": "8fe9ae86",
   "metadata": {
    "papermill": {
     "duration": 0.005895,
     "end_time": "2024-01-20T06:48:31.921074",
     "exception": false,
     "start_time": "2024-01-20T06:48:31.915179",
     "status": "completed"
    },
    "tags": []
   },
   "source": [
    "# Training procedure"
   ]
  },
  {
   "cell_type": "code",
   "execution_count": 3,
   "id": "583a0232",
   "metadata": {
    "execution": {
     "iopub.execute_input": "2024-01-20T06:48:31.935515Z",
     "iopub.status.busy": "2024-01-20T06:48:31.935122Z",
     "iopub.status.idle": "2024-01-20T06:48:31.949947Z",
     "shell.execute_reply": "2024-01-20T06:48:31.948953Z"
    },
    "papermill": {
     "duration": 0.024715,
     "end_time": "2024-01-20T06:48:31.952265",
     "exception": false,
     "start_time": "2024-01-20T06:48:31.927550",
     "status": "completed"
    },
    "tags": []
   },
   "outputs": [],
   "source": [
    "# Training Procedure\n",
    "def train_model(train_data, dev_data, model, device=torch.device('cpu'), lr=0.01, momentum=0.9, nesterov=False, n_epochs=20,  batch_size=32):\n",
    "    \"\"\"Train a model for N epochs given data and hyper-params.\"\"\"\n",
    "\n",
    "    optimizer = torch.optim.SGD(model.parameters(), lr=lr, momentum=momentum, nesterov=nesterov)\n",
    "    train_accuracies = []\n",
    "    val_accuracies =[]\n",
    "    for epoch in range(1, n_epochs+1):\n",
    "        print(\"-------------\\nEpoch {}:\\n\".format(epoch))\n",
    "\n",
    "        # Run **training***\n",
    "        loss, acc = run_epoch(train_data, model.train(), optimizer, device, batch_size)\n",
    "        print('Train loss: {:.6f} | Train accuracy: {:.6f}'.format(loss, acc))\n",
    "        train_accuracies.append(acc)\n",
    "\n",
    "        # Run **validation**\n",
    "        val_loss, val_acc = run_epoch(dev_data, model.eval(), optimizer, device, batch_size)\n",
    "        print('Val loss:   {:.6f} | Val accuracy:   {:.6f}'.format(val_loss, val_acc))\n",
    "        val_accuracies.append(val_acc)\n",
    "        # Save model\n",
    "        torch.save(model, 'mnist_cnn.pt')\n",
    "    return train_accuracies, val_accuracies\n",
    "\n",
    "def run_epoch(data, model, optimizer, device=torch.device('cpu'),  batch_size=32):\n",
    "    \"\"\"Train model for one pass of train data, and return loss, acccuracy\"\"\"\n",
    "   \n",
    "    losses = []\n",
    "    batch_accuracies = []\n",
    "    is_training = model.training\n",
    "\n",
    "    # batchify data\n",
    "    #indices permutation in training set for a better SGD estimation\n",
    "    if is_training: \n",
    "        data_batched = DataLoader(data, batch_size=batch_size, shuffle=True)\n",
    "    else:\n",
    "        data_batched = DataLoader(data, batch_size=batch_size)\n",
    "        \n",
    "    # Iterate through batches\n",
    "    for batch in tqdm(data_batched):\n",
    "        \n",
    "        x, y = batch\n",
    "        # Move data to the specified device (GPU or CPU)\n",
    "        x, y = x.to(device), y.to(device)\n",
    "        out = model(x)\n",
    "\n",
    "        predictions = torch.argmax(out, dim=1)\n",
    "        batch_accuracies.append(compute_accuracy(predictions, y))\n",
    "\n",
    "        loss = F.cross_entropy(out, y)\n",
    "        losses.append(loss.data.item())\n",
    "\n",
    "        if is_training:\n",
    "            optimizer.zero_grad()\n",
    "            loss.backward()\n",
    "            optimizer.step()\n",
    "\n",
    "    # Calculate epoch level scores\n",
    "    avg_loss = np.mean(losses)\n",
    "    avg_accuracy = np.mean(batch_accuracies)\n",
    "    return avg_loss, avg_accuracy"
   ]
  },
  {
   "cell_type": "markdown",
   "id": "09294c3b",
   "metadata": {
    "papermill": {
     "duration": 0.005693,
     "end_time": "2024-01-20T06:48:31.964366",
     "exception": false,
     "start_time": "2024-01-20T06:48:31.958673",
     "status": "completed"
    },
    "tags": []
   },
   "source": [
    "# Import data"
   ]
  },
  {
   "cell_type": "code",
   "execution_count": 4,
   "id": "c73fb984",
   "metadata": {
    "execution": {
     "iopub.execute_input": "2024-01-20T06:48:31.978517Z",
     "iopub.status.busy": "2024-01-20T06:48:31.977781Z",
     "iopub.status.idle": "2024-01-20T06:48:36.864762Z",
     "shell.execute_reply": "2024-01-20T06:48:36.863663Z"
    },
    "papermill": {
     "duration": 4.897373,
     "end_time": "2024-01-20T06:48:36.867569",
     "exception": false,
     "start_time": "2024-01-20T06:48:31.970196",
     "status": "completed"
    },
    "tags": []
   },
   "outputs": [],
   "source": [
    "all_data = pd.read_csv('/kaggle/input/digit-recognizer/train.csv')\n",
    "y=all_data.label.to_numpy(dtype='long')\n",
    "img_pix=28\n",
    "\n",
    "X=all_data.drop(['label'], axis=1, inplace=False).to_numpy(dtype='float')\n",
    "# Scaling data to [0, 1]\n",
    "X=X/np.max(X)\n",
    "#plot_digits(X, img_pix, 3, labels_act=y)\n",
    "\n",
    "#split data into training and validation parts\n",
    "X_set = ImageDataset(X, y)\n",
    "X_train_set, X_dev_set=random_split(X_set, [0.9, 0.1], generator=torch.Generator().manual_seed(42))"
   ]
  },
  {
   "cell_type": "markdown",
   "id": "a7a2b4d9",
   "metadata": {
    "papermill": {
     "duration": 0.005746,
     "end_time": "2024-01-20T06:48:36.879431",
     "exception": false,
     "start_time": "2024-01-20T06:48:36.873685",
     "status": "completed"
    },
    "tags": []
   },
   "source": [
    "# Training model"
   ]
  },
  {
   "cell_type": "code",
   "execution_count": 5,
   "id": "08889217",
   "metadata": {
    "execution": {
     "iopub.execute_input": "2024-01-20T06:48:36.894055Z",
     "iopub.status.busy": "2024-01-20T06:48:36.893619Z",
     "iopub.status.idle": "2024-01-20T06:55:11.210780Z",
     "shell.execute_reply": "2024-01-20T06:55:11.209534Z"
    },
    "papermill": {
     "duration": 394.573383,
     "end_time": "2024-01-20T06:55:11.459561",
     "exception": false,
     "start_time": "2024-01-20T06:48:36.886178",
     "status": "completed"
    },
    "tags": []
   },
   "outputs": [
    {
     "name": "stdout",
     "output_type": "stream",
     "text": [
      "-------------\n",
      "Epoch 1:\n",
      "\n"
     ]
    },
    {
     "name": "stderr",
     "output_type": "stream",
     "text": [
      "100%|██████████| 1182/1182 [00:19<00:00, 62.16it/s]\n"
     ]
    },
    {
     "name": "stdout",
     "output_type": "stream",
     "text": [
      "Train loss: 0.289266 | Train accuracy: 0.908206\n"
     ]
    },
    {
     "name": "stderr",
     "output_type": "stream",
     "text": [
      "100%|██████████| 132/132 [00:00<00:00, 134.85it/s]\n"
     ]
    },
    {
     "name": "stdout",
     "output_type": "stream",
     "text": [
      "Val loss:   0.100101 | Val accuracy:   0.969460\n",
      "-------------\n",
      "Epoch 2:\n",
      "\n"
     ]
    },
    {
     "name": "stderr",
     "output_type": "stream",
     "text": [
      "100%|██████████| 1182/1182 [00:19<00:00, 61.43it/s]\n"
     ]
    },
    {
     "name": "stdout",
     "output_type": "stream",
     "text": [
      "Train loss: 0.087035 | Train accuracy: 0.972980\n"
     ]
    },
    {
     "name": "stderr",
     "output_type": "stream",
     "text": [
      "100%|██████████| 132/132 [00:00<00:00, 139.88it/s]\n"
     ]
    },
    {
     "name": "stdout",
     "output_type": "stream",
     "text": [
      "Val loss:   0.070652 | Val accuracy:   0.978930\n",
      "-------------\n",
      "Epoch 3:\n",
      "\n"
     ]
    },
    {
     "name": "stderr",
     "output_type": "stream",
     "text": [
      "100%|██████████| 1182/1182 [00:18<00:00, 63.78it/s]\n"
     ]
    },
    {
     "name": "stdout",
     "output_type": "stream",
     "text": [
      "Train loss: 0.065347 | Train accuracy: 0.980013\n"
     ]
    },
    {
     "name": "stderr",
     "output_type": "stream",
     "text": [
      "100%|██████████| 132/132 [00:00<00:00, 138.02it/s]\n"
     ]
    },
    {
     "name": "stdout",
     "output_type": "stream",
     "text": [
      "Val loss:   0.070730 | Val accuracy:   0.977983\n",
      "-------------\n",
      "Epoch 4:\n",
      "\n"
     ]
    },
    {
     "name": "stderr",
     "output_type": "stream",
     "text": [
      "100%|██████████| 1182/1182 [00:19<00:00, 61.82it/s]\n"
     ]
    },
    {
     "name": "stdout",
     "output_type": "stream",
     "text": [
      "Train loss: 0.051180 | Train accuracy: 0.984322\n"
     ]
    },
    {
     "name": "stderr",
     "output_type": "stream",
     "text": [
      "100%|██████████| 132/132 [00:00<00:00, 138.51it/s]\n"
     ]
    },
    {
     "name": "stdout",
     "output_type": "stream",
     "text": [
      "Val loss:   0.060182 | Val accuracy:   0.982244\n",
      "-------------\n",
      "Epoch 5:\n",
      "\n"
     ]
    },
    {
     "name": "stderr",
     "output_type": "stream",
     "text": [
      "100%|██████████| 1182/1182 [00:19<00:00, 61.96it/s]\n"
     ]
    },
    {
     "name": "stdout",
     "output_type": "stream",
     "text": [
      "Train loss: 0.043013 | Train accuracy: 0.986199\n"
     ]
    },
    {
     "name": "stderr",
     "output_type": "stream",
     "text": [
      "100%|██████████| 132/132 [00:00<00:00, 139.48it/s]\n"
     ]
    },
    {
     "name": "stdout",
     "output_type": "stream",
     "text": [
      "Val loss:   0.062113 | Val accuracy:   0.981061\n",
      "-------------\n",
      "Epoch 6:\n",
      "\n"
     ]
    },
    {
     "name": "stderr",
     "output_type": "stream",
     "text": [
      "100%|██████████| 1182/1182 [00:18<00:00, 64.42it/s]\n"
     ]
    },
    {
     "name": "stdout",
     "output_type": "stream",
     "text": [
      "Train loss: 0.035409 | Train accuracy: 0.988605\n"
     ]
    },
    {
     "name": "stderr",
     "output_type": "stream",
     "text": [
      "100%|██████████| 132/132 [00:00<00:00, 141.11it/s]\n"
     ]
    },
    {
     "name": "stdout",
     "output_type": "stream",
     "text": [
      "Val loss:   0.059771 | Val accuracy:   0.984375\n",
      "-------------\n",
      "Epoch 7:\n",
      "\n"
     ]
    },
    {
     "name": "stderr",
     "output_type": "stream",
     "text": [
      "100%|██████████| 1182/1182 [00:18<00:00, 62.50it/s]\n"
     ]
    },
    {
     "name": "stdout",
     "output_type": "stream",
     "text": [
      "Train loss: 0.032165 | Train accuracy: 0.989795\n"
     ]
    },
    {
     "name": "stderr",
     "output_type": "stream",
     "text": [
      "100%|██████████| 132/132 [00:00<00:00, 143.84it/s]\n"
     ]
    },
    {
     "name": "stdout",
     "output_type": "stream",
     "text": [
      "Val loss:   0.067842 | Val accuracy:   0.983191\n",
      "-------------\n",
      "Epoch 8:\n",
      "\n"
     ]
    },
    {
     "name": "stderr",
     "output_type": "stream",
     "text": [
      "100%|██████████| 1182/1182 [00:18<00:00, 65.41it/s]\n"
     ]
    },
    {
     "name": "stdout",
     "output_type": "stream",
     "text": [
      "Train loss: 0.029438 | Train accuracy: 0.990614\n"
     ]
    },
    {
     "name": "stderr",
     "output_type": "stream",
     "text": [
      "100%|██████████| 132/132 [00:00<00:00, 141.82it/s]\n"
     ]
    },
    {
     "name": "stdout",
     "output_type": "stream",
     "text": [
      "Val loss:   0.054356 | Val accuracy:   0.985085\n",
      "-------------\n",
      "Epoch 9:\n",
      "\n"
     ]
    },
    {
     "name": "stderr",
     "output_type": "stream",
     "text": [
      "100%|██████████| 1182/1182 [00:18<00:00, 63.28it/s]\n"
     ]
    },
    {
     "name": "stdout",
     "output_type": "stream",
     "text": [
      "Train loss: 0.024221 | Train accuracy: 0.991778\n"
     ]
    },
    {
     "name": "stderr",
     "output_type": "stream",
     "text": [
      "100%|██████████| 132/132 [00:00<00:00, 144.16it/s]\n"
     ]
    },
    {
     "name": "stdout",
     "output_type": "stream",
     "text": [
      "Val loss:   0.057598 | Val accuracy:   0.984375\n",
      "-------------\n",
      "Epoch 10:\n",
      "\n"
     ]
    },
    {
     "name": "stderr",
     "output_type": "stream",
     "text": [
      "100%|██████████| 1182/1182 [00:18<00:00, 62.61it/s]\n"
     ]
    },
    {
     "name": "stdout",
     "output_type": "stream",
     "text": [
      "Train loss: 0.024088 | Train accuracy: 0.992544\n"
     ]
    },
    {
     "name": "stderr",
     "output_type": "stream",
     "text": [
      "100%|██████████| 132/132 [00:00<00:00, 141.61it/s]\n"
     ]
    },
    {
     "name": "stdout",
     "output_type": "stream",
     "text": [
      "Val loss:   0.055888 | Val accuracy:   0.984612\n",
      "-------------\n",
      "Epoch 11:\n",
      "\n"
     ]
    },
    {
     "name": "stderr",
     "output_type": "stream",
     "text": [
      "100%|██████████| 1182/1182 [00:18<00:00, 64.37it/s]\n"
     ]
    },
    {
     "name": "stdout",
     "output_type": "stream",
     "text": [
      "Train loss: 0.020291 | Train accuracy: 0.992915\n"
     ]
    },
    {
     "name": "stderr",
     "output_type": "stream",
     "text": [
      "100%|██████████| 132/132 [00:00<00:00, 144.33it/s]\n"
     ]
    },
    {
     "name": "stdout",
     "output_type": "stream",
     "text": [
      "Val loss:   0.056735 | Val accuracy:   0.984612\n",
      "-------------\n",
      "Epoch 12:\n",
      "\n"
     ]
    },
    {
     "name": "stderr",
     "output_type": "stream",
     "text": [
      "100%|██████████| 1182/1182 [00:18<00:00, 63.45it/s]\n"
     ]
    },
    {
     "name": "stdout",
     "output_type": "stream",
     "text": [
      "Train loss: 0.018745 | Train accuracy: 0.993893\n"
     ]
    },
    {
     "name": "stderr",
     "output_type": "stream",
     "text": [
      "100%|██████████| 132/132 [00:00<00:00, 138.74it/s]\n"
     ]
    },
    {
     "name": "stdout",
     "output_type": "stream",
     "text": [
      "Val loss:   0.070669 | Val accuracy:   0.983665\n",
      "-------------\n",
      "Epoch 13:\n",
      "\n"
     ]
    },
    {
     "name": "stderr",
     "output_type": "stream",
     "text": [
      "100%|██████████| 1182/1182 [00:18<00:00, 64.51it/s]\n"
     ]
    },
    {
     "name": "stdout",
     "output_type": "stream",
     "text": [
      "Train loss: 0.016969 | Train accuracy: 0.994474\n"
     ]
    },
    {
     "name": "stderr",
     "output_type": "stream",
     "text": [
      "100%|██████████| 132/132 [00:01<00:00, 93.97it/s]\n"
     ]
    },
    {
     "name": "stdout",
     "output_type": "stream",
     "text": [
      "Val loss:   0.052560 | Val accuracy:   0.987453\n",
      "-------------\n",
      "Epoch 14:\n",
      "\n"
     ]
    },
    {
     "name": "stderr",
     "output_type": "stream",
     "text": [
      "100%|██████████| 1182/1182 [00:18<00:00, 64.62it/s]\n"
     ]
    },
    {
     "name": "stdout",
     "output_type": "stream",
     "text": [
      "Train loss: 0.016334 | Train accuracy: 0.994395\n"
     ]
    },
    {
     "name": "stderr",
     "output_type": "stream",
     "text": [
      "100%|██████████| 132/132 [00:00<00:00, 141.25it/s]\n"
     ]
    },
    {
     "name": "stdout",
     "output_type": "stream",
     "text": [
      "Val loss:   0.055047 | Val accuracy:   0.986742\n",
      "-------------\n",
      "Epoch 15:\n",
      "\n"
     ]
    },
    {
     "name": "stderr",
     "output_type": "stream",
     "text": [
      "100%|██████████| 1182/1182 [00:18<00:00, 63.66it/s]\n"
     ]
    },
    {
     "name": "stdout",
     "output_type": "stream",
     "text": [
      "Train loss: 0.013300 | Train accuracy: 0.995796\n"
     ]
    },
    {
     "name": "stderr",
     "output_type": "stream",
     "text": [
      "100%|██████████| 132/132 [00:00<00:00, 144.62it/s]\n"
     ]
    },
    {
     "name": "stdout",
     "output_type": "stream",
     "text": [
      "Val loss:   0.070082 | Val accuracy:   0.983902\n",
      "-------------\n",
      "Epoch 16:\n",
      "\n"
     ]
    },
    {
     "name": "stderr",
     "output_type": "stream",
     "text": [
      "100%|██████████| 1182/1182 [00:18<00:00, 64.51it/s]\n"
     ]
    },
    {
     "name": "stdout",
     "output_type": "stream",
     "text": [
      "Train loss: 0.012819 | Train accuracy: 0.995373\n"
     ]
    },
    {
     "name": "stderr",
     "output_type": "stream",
     "text": [
      "100%|██████████| 132/132 [00:00<00:00, 143.89it/s]\n"
     ]
    },
    {
     "name": "stdout",
     "output_type": "stream",
     "text": [
      "Val loss:   0.055626 | Val accuracy:   0.985559\n",
      "-------------\n",
      "Epoch 17:\n",
      "\n"
     ]
    },
    {
     "name": "stderr",
     "output_type": "stream",
     "text": [
      "100%|██████████| 1182/1182 [00:18<00:00, 62.25it/s]\n"
     ]
    },
    {
     "name": "stdout",
     "output_type": "stream",
     "text": [
      "Train loss: 0.011029 | Train accuracy: 0.996087\n"
     ]
    },
    {
     "name": "stderr",
     "output_type": "stream",
     "text": [
      "100%|██████████| 132/132 [00:01<00:00, 124.55it/s]\n"
     ]
    },
    {
     "name": "stdout",
     "output_type": "stream",
     "text": [
      "Val loss:   0.069936 | Val accuracy:   0.985322\n",
      "-------------\n",
      "Epoch 18:\n",
      "\n"
     ]
    },
    {
     "name": "stderr",
     "output_type": "stream",
     "text": [
      "100%|██████████| 1182/1182 [00:19<00:00, 61.91it/s]\n"
     ]
    },
    {
     "name": "stdout",
     "output_type": "stream",
     "text": [
      "Train loss: 0.011863 | Train accuracy: 0.996166\n"
     ]
    },
    {
     "name": "stderr",
     "output_type": "stream",
     "text": [
      "100%|██████████| 132/132 [00:00<00:00, 140.56it/s]\n"
     ]
    },
    {
     "name": "stdout",
     "output_type": "stream",
     "text": [
      "Val loss:   0.068094 | Val accuracy:   0.985795\n",
      "-------------\n",
      "Epoch 19:\n",
      "\n"
     ]
    },
    {
     "name": "stderr",
     "output_type": "stream",
     "text": [
      "100%|██████████| 1182/1182 [00:18<00:00, 62.66it/s]\n"
     ]
    },
    {
     "name": "stdout",
     "output_type": "stream",
     "text": [
      "Train loss: 0.011305 | Train accuracy: 0.995929\n"
     ]
    },
    {
     "name": "stderr",
     "output_type": "stream",
     "text": [
      "100%|██████████| 132/132 [00:00<00:00, 140.64it/s]\n"
     ]
    },
    {
     "name": "stdout",
     "output_type": "stream",
     "text": [
      "Val loss:   0.066020 | Val accuracy:   0.985795\n",
      "-------------\n",
      "Epoch 20:\n",
      "\n"
     ]
    },
    {
     "name": "stderr",
     "output_type": "stream",
     "text": [
      "100%|██████████| 1182/1182 [00:19<00:00, 61.31it/s]\n"
     ]
    },
    {
     "name": "stdout",
     "output_type": "stream",
     "text": [
      "Train loss: 0.009730 | Train accuracy: 0.996589\n"
     ]
    },
    {
     "name": "stderr",
     "output_type": "stream",
     "text": [
      "100%|██████████| 132/132 [00:01<00:00, 131.80it/s]"
     ]
    },
    {
     "name": "stdout",
     "output_type": "stream",
     "text": [
      "Val loss:   0.067361 | Val accuracy:   0.986742\n"
     ]
    },
    {
     "name": "stderr",
     "output_type": "stream",
     "text": [
      "\n"
     ]
    }
   ],
   "source": [
    "#%% Train model\n",
    "\n",
    "#################################\n",
    "## Model specification\n",
    "model = nn.Sequential(\n",
    "          nn.Conv2d(1, 32, (3, 3)),\n",
    "          nn.ReLU(),\n",
    "          nn.MaxPool2d((2, 2)),\n",
    "          nn.Conv2d(32, 64, (3, 3)),\n",
    "          nn.ReLU(),\n",
    "          nn.MaxPool2d((2, 2)),\n",
    "          Flatten(),\n",
    "          nn.Linear(64*5*5,128),\n",
    "          nn.Dropout(),\n",
    "          nn.Linear(128, 10),\n",
    "        )\n",
    "##################################\n",
    "\n",
    "device = torch.device(\"cuda\" if torch.cuda.is_available() else \"cpu\")\n",
    "model = model.to(device)\n",
    "\n",
    "batch_size = 32\n",
    "n_epochs = 20\n",
    "train_acc, dev_acc=train_model(X_train_set, X_dev_set, \n",
    "                               model, device=device, \n",
    "                               nesterov=True, \n",
    "                               n_epochs=n_epochs,  \n",
    "                               batch_size=batch_size)"
   ]
  },
  {
   "cell_type": "markdown",
   "id": "c9843827",
   "metadata": {
    "papermill": {
     "duration": 0.427944,
     "end_time": "2024-01-20T06:55:12.244239",
     "exception": false,
     "start_time": "2024-01-20T06:55:11.816295",
     "status": "completed"
    },
    "tags": []
   },
   "source": [
    "# Plot accuraties"
   ]
  },
  {
   "cell_type": "code",
   "execution_count": 6,
   "id": "48933222",
   "metadata": {
    "execution": {
     "iopub.execute_input": "2024-01-20T06:55:12.960970Z",
     "iopub.status.busy": "2024-01-20T06:55:12.960417Z",
     "iopub.status.idle": "2024-01-20T06:55:13.287685Z",
     "shell.execute_reply": "2024-01-20T06:55:13.286467Z"
    },
    "papermill": {
     "duration": 0.690251,
     "end_time": "2024-01-20T06:55:13.290142",
     "exception": false,
     "start_time": "2024-01-20T06:55:12.599891",
     "status": "completed"
    },
    "tags": []
   },
   "outputs": [
    {
     "data": {
      "image/png": "[encoded data removed]",
      "text/plain": [
       "<Figure size 640x480 with 1 Axes>"
      ]
     },
     "metadata": {},
     "output_type": "display_data"
    }
   ],
   "source": [
    "#%% Plot training and validation accuracies in epochs\n",
    "plt.subplot()\n",
    "plt.plot(np.arange(1, n_epochs+1), train_acc, 'b', label='Train accuracy')\n",
    "plt.plot(np.arange(1, n_epochs+1), dev_acc, 'r', label='Validation accuracy')\n",
    "plt.legend()\n",
    "plt.xlabel('Epochs')\n",
    "plt.ylabel('Accuracy')\n",
    "plt.show()"
   ]
  },
  {
   "cell_type": "markdown",
   "id": "6ea17031",
   "metadata": {
    "papermill": {
     "duration": 0.360117,
     "end_time": "2024-01-20T06:55:14.009059",
     "exception": false,
     "start_time": "2024-01-20T06:55:13.648942",
     "status": "completed"
    },
    "tags": []
   },
   "source": [
    "# Analysis of prediction results on validation data"
   ]
  },
  {
   "cell_type": "code",
   "execution_count": 7,
   "id": "bd058c42",
   "metadata": {
    "execution": {
     "iopub.execute_input": "2024-01-20T06:55:14.727991Z",
     "iopub.status.busy": "2024-01-20T06:55:14.727267Z",
     "iopub.status.idle": "2024-01-20T06:55:18.554666Z",
     "shell.execute_reply": "2024-01-20T06:55:18.553317Z"
    },
    "papermill": {
     "duration": 4.189166,
     "end_time": "2024-01-20T06:55:18.557391",
     "exception": false,
     "start_time": "2024-01-20T06:55:14.368225",
     "status": "completed"
    },
    "tags": []
   },
   "outputs": [
    {
     "data": {
      "image/png": "[encoded data removed]",
      "text/plain": [
       "<Figure size 800x800 with 1 Axes>"
      ]
     },
     "metadata": {},
     "output_type": "display_data"
    }
   ],
   "source": [
    "#%% Analysis of prediction results on dev data\n",
    "indxs=np.arange(0,len(X))\n",
    "random.shuffle(indxs)\n",
    "out=model(torch.tensor(X[indxs[:10000]].reshape(-1,1,img_pix,img_pix), dtype=torch.float32))\n",
    "\n",
    "predictions = torch.argmax(out, dim=1).numpy()\n",
    "confusion_mtx = confusion_matrix(predictions, y[indxs[:10000]])\n",
    "\n",
    "f,ax = plt.subplots(figsize=(8, 8))\n",
    "sns.heatmap(confusion_mtx, annot=True, linewidths=0.01,  fmt= '1', ax=ax, norm=LogNorm(), cbar=False)\n",
    "plt.xlabel(\"Predicted Label\")\n",
    "plt.ylabel(\"True Label\")\n",
    "plt.title(\"Confusion Matrix\")\n",
    "plt.show()"
   ]
  },
  {
   "cell_type": "markdown",
   "id": "85e6e736",
   "metadata": {
    "papermill": {
     "duration": 0.360857,
     "end_time": "2024-01-20T06:55:19.277647",
     "exception": false,
     "start_time": "2024-01-20T06:55:18.916790",
     "status": "completed"
    },
    "tags": []
   },
   "source": [
    "# Evaluate the model on test data and save submission.cvs"
   ]
  },
  {
   "cell_type": "code",
   "execution_count": 8,
   "id": "5e33457e",
   "metadata": {
    "execution": {
     "iopub.execute_input": "2024-01-20T06:55:20.084929Z",
     "iopub.status.busy": "2024-01-20T06:55:20.084493Z",
     "iopub.status.idle": "2024-01-20T06:56:18.977067Z",
     "shell.execute_reply": "2024-01-20T06:56:18.975977Z"
    },
    "papermill": {
     "duration": 59.264622,
     "end_time": "2024-01-20T06:56:18.979488",
     "exception": false,
     "start_time": "2024-01-20T06:55:19.714866",
     "status": "completed"
    },
    "tags": []
   },
   "outputs": [
    {
     "name": "stdout",
     "output_type": "stream",
     "text": [
      "-------------\n",
      "Epoch 1:\n",
      "\n"
     ]
    },
    {
     "name": "stderr",
     "output_type": "stream",
     "text": [
      "100%|██████████| 132/132 [00:02<00:00, 60.98it/s]\n"
     ]
    },
    {
     "name": "stdout",
     "output_type": "stream",
     "text": [
      "Train loss: 0.079349 | Train accuracy: 0.982008\n",
      "-------------\n",
      "Epoch 2:\n",
      "\n"
     ]
    },
    {
     "name": "stderr",
     "output_type": "stream",
     "text": [
      "100%|██████████| 132/132 [00:02<00:00, 63.78it/s]\n"
     ]
    },
    {
     "name": "stdout",
     "output_type": "stream",
     "text": [
      "Train loss: 0.040340 | Train accuracy: 0.989347\n",
      "-------------\n",
      "Epoch 3:\n",
      "\n"
     ]
    },
    {
     "name": "stderr",
     "output_type": "stream",
     "text": [
      "100%|██████████| 132/132 [00:02<00:00, 59.87it/s]\n"
     ]
    },
    {
     "name": "stdout",
     "output_type": "stream",
     "text": [
      "Train loss: 0.027744 | Train accuracy: 0.993134\n",
      "-------------\n",
      "Epoch 4:\n",
      "\n"
     ]
    },
    {
     "name": "stderr",
     "output_type": "stream",
     "text": [
      "100%|██████████| 132/132 [00:02<00:00, 62.01it/s]\n"
     ]
    },
    {
     "name": "stdout",
     "output_type": "stream",
     "text": [
      "Train loss: 0.015701 | Train accuracy: 0.995502\n",
      "-------------\n",
      "Epoch 5:\n",
      "\n"
     ]
    },
    {
     "name": "stderr",
     "output_type": "stream",
     "text": [
      "100%|██████████| 132/132 [00:02<00:00, 48.77it/s]\n"
     ]
    },
    {
     "name": "stdout",
     "output_type": "stream",
     "text": [
      "Train loss: 0.012374 | Train accuracy: 0.998106\n",
      "-------------\n",
      "Epoch 6:\n",
      "\n"
     ]
    },
    {
     "name": "stderr",
     "output_type": "stream",
     "text": [
      "100%|██████████| 132/132 [00:02<00:00, 59.35it/s]\n"
     ]
    },
    {
     "name": "stdout",
     "output_type": "stream",
     "text": [
      "Train loss: 0.012159 | Train accuracy: 0.997159\n",
      "-------------\n",
      "Epoch 7:\n",
      "\n"
     ]
    },
    {
     "name": "stderr",
     "output_type": "stream",
     "text": [
      "100%|██████████| 132/132 [00:02<00:00, 57.45it/s]\n"
     ]
    },
    {
     "name": "stdout",
     "output_type": "stream",
     "text": [
      "Train loss: 0.009109 | Train accuracy: 0.998343\n",
      "-------------\n",
      "Epoch 8:\n",
      "\n"
     ]
    },
    {
     "name": "stderr",
     "output_type": "stream",
     "text": [
      "100%|██████████| 132/132 [00:02<00:00, 59.52it/s]\n"
     ]
    },
    {
     "name": "stdout",
     "output_type": "stream",
     "text": [
      "Train loss: 0.010053 | Train accuracy: 0.997869\n",
      "-------------\n",
      "Epoch 9:\n",
      "\n"
     ]
    },
    {
     "name": "stderr",
     "output_type": "stream",
     "text": [
      "100%|██████████| 132/132 [00:02<00:00, 61.32it/s]\n"
     ]
    },
    {
     "name": "stdout",
     "output_type": "stream",
     "text": [
      "Train loss: 0.007156 | Train accuracy: 0.998343\n",
      "-------------\n",
      "Epoch 10:\n",
      "\n"
     ]
    },
    {
     "name": "stderr",
     "output_type": "stream",
     "text": [
      "100%|██████████| 132/132 [00:02<00:00, 59.84it/s]\n"
     ]
    },
    {
     "name": "stdout",
     "output_type": "stream",
     "text": [
      "Train loss: 0.004446 | Train accuracy: 0.999763\n",
      "-------------\n",
      "Epoch 11:\n",
      "\n"
     ]
    },
    {
     "name": "stderr",
     "output_type": "stream",
     "text": [
      "100%|██████████| 132/132 [00:02<00:00, 59.29it/s]\n"
     ]
    },
    {
     "name": "stdout",
     "output_type": "stream",
     "text": [
      "Train loss: 0.004208 | Train accuracy: 0.999053\n",
      "-------------\n",
      "Epoch 12:\n",
      "\n"
     ]
    },
    {
     "name": "stderr",
     "output_type": "stream",
     "text": [
      "100%|██████████| 132/132 [00:02<00:00, 56.46it/s]\n"
     ]
    },
    {
     "name": "stdout",
     "output_type": "stream",
     "text": [
      "Train loss: 0.003560 | Train accuracy: 0.999527\n",
      "-------------\n",
      "Epoch 13:\n",
      "\n"
     ]
    },
    {
     "name": "stderr",
     "output_type": "stream",
     "text": [
      "100%|██████████| 132/132 [00:02<00:00, 53.63it/s]\n"
     ]
    },
    {
     "name": "stdout",
     "output_type": "stream",
     "text": [
      "Train loss: 0.003133 | Train accuracy: 0.999290\n",
      "-------------\n",
      "Epoch 14:\n",
      "\n"
     ]
    },
    {
     "name": "stderr",
     "output_type": "stream",
     "text": [
      "100%|██████████| 132/132 [00:02<00:00, 59.46it/s]\n"
     ]
    },
    {
     "name": "stdout",
     "output_type": "stream",
     "text": [
      "Train loss: 0.002514 | Train accuracy: 1.000000\n",
      "-------------\n",
      "Epoch 15:\n",
      "\n"
     ]
    },
    {
     "name": "stderr",
     "output_type": "stream",
     "text": [
      "100%|██████████| 132/132 [00:02<00:00, 57.14it/s]\n"
     ]
    },
    {
     "name": "stdout",
     "output_type": "stream",
     "text": [
      "Train loss: 0.001817 | Train accuracy: 0.999763\n",
      "-------------\n",
      "Epoch 16:\n",
      "\n"
     ]
    },
    {
     "name": "stderr",
     "output_type": "stream",
     "text": [
      "100%|██████████| 132/132 [00:02<00:00, 57.48it/s]\n"
     ]
    },
    {
     "name": "stdout",
     "output_type": "stream",
     "text": [
      "Train loss: 0.002753 | Train accuracy: 0.999290\n",
      "-------------\n",
      "Epoch 17:\n",
      "\n"
     ]
    },
    {
     "name": "stderr",
     "output_type": "stream",
     "text": [
      "100%|██████████| 132/132 [00:02<00:00, 59.27it/s]\n"
     ]
    },
    {
     "name": "stdout",
     "output_type": "stream",
     "text": [
      "Train loss: 0.001494 | Train accuracy: 0.999763\n",
      "-------------\n",
      "Epoch 18:\n",
      "\n"
     ]
    },
    {
     "name": "stderr",
     "output_type": "stream",
     "text": [
      "100%|██████████| 132/132 [00:02<00:00, 58.54it/s]\n"
     ]
    },
    {
     "name": "stdout",
     "output_type": "stream",
     "text": [
      "Train loss: 0.002634 | Train accuracy: 0.999527\n",
      "-------------\n",
      "Epoch 19:\n",
      "\n"
     ]
    },
    {
     "name": "stderr",
     "output_type": "stream",
     "text": [
      "100%|██████████| 132/132 [00:02<00:00, 47.44it/s]\n"
     ]
    },
    {
     "name": "stdout",
     "output_type": "stream",
     "text": [
      "Train loss: 0.002400 | Train accuracy: 0.999290\n",
      "-------------\n",
      "Epoch 20:\n",
      "\n"
     ]
    },
    {
     "name": "stderr",
     "output_type": "stream",
     "text": [
      "100%|██████████| 132/132 [00:02<00:00, 60.10it/s]\n"
     ]
    },
    {
     "name": "stdout",
     "output_type": "stream",
     "text": [
      "Train loss: 0.002657 | Train accuracy: 0.999290\n",
      "Your submission was successfully saved!\n"
     ]
    }
   ],
   "source": [
    "#%% Evaluate the model on test data and save submission.cvs\n",
    "test_data = pd.read_csv('/kaggle/input/digit-recognizer/test.csv')\n",
    "X_test=test_data.to_numpy(dtype='float')\n",
    "\n",
    "#Train model on the validation dataset\n",
    "optimizer = torch.optim.SGD(model.parameters(), lr=0.01, momentum=0.9, nesterov=True)\n",
    "\n",
    "for epoch in range(1, n_epochs+1):\n",
    "    print(\"-------------\\nEpoch {}:\\n\".format(epoch))\n",
    "    loss, acc = run_epoch(X_dev_set, model.train(), optimizer, device, batch_size)\n",
    "    print('Train loss: {:.6f} | Train accuracy: {:.6f}'.format(loss, acc))\n",
    "\n",
    "# Scaling test data to [0, 1]\n",
    "X_test=X_test/np.max(X_test)\n",
    "X_test=X_test.reshape(-1, 1, img_pix, img_pix)\n",
    "\n",
    "model_eval=model.eval()\n",
    "out=model_eval(torch.tensor(X_test, dtype=torch.float32)) \n",
    "predict = torch.argmax(out, dim=1).numpy()\n",
    "predictions = [int(x) for x in predict]\n",
    "\n",
    "output = pd.DataFrame({'ImageId': range(1, len(X_test)+1), 'Label': predictions})\n",
    "output.to_csv('submission.csv', index=False)\n",
    "print(\"Your submission was successfully saved!\")"
   ]
  },
  {
   "cell_type": "markdown",
   "id": "93bf303a",
   "metadata": {
    "papermill": {
     "duration": 0.414067,
     "end_time": "2024-01-20T06:56:19.816175",
     "exception": false,
     "start_time": "2024-01-20T06:56:19.402108",
     "status": "completed"
    },
    "tags": []
   },
   "source": [
    "# Plot several predicted examples"
   ]
  },
  {
   "cell_type": "code",
   "execution_count": 9,
   "id": "612e400b",
   "metadata": {
    "execution": {
     "iopub.execute_input": "2024-01-20T06:56:20.731126Z",
     "iopub.status.busy": "2024-01-20T06:56:20.730268Z",
     "iopub.status.idle": "2024-01-20T06:56:21.528180Z",
     "shell.execute_reply": "2024-01-20T06:56:21.526995Z"
    },
    "papermill": {
     "duration": 1.285687,
     "end_time": "2024-01-20T06:56:21.530806",
     "exception": false,
     "start_time": "2024-01-20T06:56:20.245119",
     "status": "completed"
    },
    "tags": []
   },
   "outputs": [
    {
     "data": {
      "image/png": "[encoded data removed]",
      "text/plain": [
       "<Figure size 450x450 with 9 Axes>"
      ]
     },
     "metadata": {},
     "output_type": "display_data"
    }
   ],
   "source": [
    "# repeat to show new digits in random order from X_test\n",
    "plot_digits(X_test, img_pix, 3, labels_predict=predict)"
   ]
  }
 ],
 "metadata": {
  "kaggle": {
   "accelerator": "none",
   "dataSources": [
    {
     "databundleVersionId": 861823,
     "sourceId": 3004,
     "sourceType": "competition"
    }
   ],
   "dockerImageVersionId": 30635,
   "isGpuEnabled": false,
   "isInternetEnabled": false,
   "language": "python",
   "sourceType": "notebook"
  },
  "kernelspec": {
   "display_name": "Python 3",
   "language": "python",
   "name": "python3"
  },
  "language_info": {
   "codemirror_mode": {
    "name": "ipython",
    "version": 3
   },
   "file_extension": ".py",
   "mimetype": "text/x-python",
   "name": "python",
   "nbconvert_exporter": "python",
   "pygments_lexer": "ipython3",
   "version": "3.10.12"
  },
  "papermill": {
   "default_parameters": {},
   "duration": 483.274555,
   "end_time": "2024-01-20T06:56:23.680489",
   "environment_variables": {},
   "exception": null,
   "input_path": "__notebook__.ipynb",
   "output_path": "__notebook__.ipynb",
   "parameters": {},
   "start_time": "2024-01-20T06:48:20.405934",
   "version": "2.4.0"
  }
 },
 "nbformat": 4,
 "nbformat_minor": 5
}
