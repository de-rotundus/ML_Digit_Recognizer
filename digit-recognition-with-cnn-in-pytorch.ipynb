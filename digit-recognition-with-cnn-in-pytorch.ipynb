{
 "cells": [
  {
   "cell_type": "code",
   "execution_count": 1,
   "id": "fa7cc512",
   "metadata": {
    "_cell_guid": "b1076dfc-b9ad-4769-8c92-a6c4dae69d19",
    "_uuid": "8f2839f25d086af736a60e9eeb907d3b93b6e0e5",
    "execution": {
     "iopub.execute_input": "2024-01-22T15:28:07.807470Z",
     "iopub.status.busy": "2024-01-22T15:28:07.806902Z",
     "iopub.status.idle": "2024-01-22T15:28:15.577349Z",
     "shell.execute_reply": "2024-01-22T15:28:15.575054Z"
    },
    "papermill": {
     "duration": 7.783768,
     "end_time": "2024-01-22T15:28:15.580513",
     "exception": false,
     "start_time": "2024-01-22T15:28:07.796745",
     "status": "completed"
    },
    "tags": []
   },
   "outputs": [
    {
     "name": "stderr",
     "output_type": "stream",
     "text": [
      "/opt/conda/lib/python3.10/site-packages/torchvision/datapoints/__init__.py:12: UserWarning: The torchvision.datapoints and torchvision.transforms.v2 namespaces are still Beta. While we do not expect major breaking changes, some APIs may still change according to user feedback. Please submit any feedback you may have in this issue: https://github.com/pytorch/vision/issues/6753, and you can also check out https://github.com/pytorch/vision/issues/7319 to learn more about the APIs that we suspect might involve future changes. You can silence this warning by calling torchvision.disable_beta_transforms_warning().\n",
      "  warnings.warn(_BETA_TRANSFORMS_WARNING)\n",
      "/opt/conda/lib/python3.10/site-packages/torchvision/transforms/v2/__init__.py:54: UserWarning: The torchvision.datapoints and torchvision.transforms.v2 namespaces are still Beta. While we do not expect major breaking changes, some APIs may still change according to user feedback. Please submit any feedback you may have in this issue: https://github.com/pytorch/vision/issues/6753, and you can also check out https://github.com/pytorch/vision/issues/7319 to learn more about the APIs that we suspect might involve future changes. You can silence this warning by calling torchvision.disable_beta_transforms_warning().\n",
      "  warnings.warn(_BETA_TRANSFORMS_WARNING)\n"
     ]
    },
    {
     "name": "stdout",
     "output_type": "stream",
     "text": [
      "/kaggle/input/digit-recognizer/sample_submission.csv\n",
      "/kaggle/input/digit-recognizer/train.csv\n",
      "/kaggle/input/digit-recognizer/test.csv\n"
     ]
    }
   ],
   "source": [
    "\"\"\"\n",
    "Created on Mon Jan 15 17:45:41 2024\n",
    "\n",
    "Convolution neural network for digit recognition on mnist dataset\n",
    "\n",
    "@author: ganchenko\n",
    "\"\"\"\n",
    "\n",
    "from tqdm import tqdm\n",
    "import numpy as np\n",
    "import pandas as pd\n",
    "import seaborn as sns\n",
    "import random\n",
    "from matplotlib import pyplot as plt \n",
    "import torch\n",
    "import torch.nn.functional as F\n",
    "import torch.nn as nn\n",
    "from torch.utils.data import DataLoader, Dataset, random_split\n",
    "from torchvision.transforms import v2\n",
    "\n",
    "from sklearn.metrics import confusion_matrix\n",
    "from matplotlib.colors import LogNorm\n",
    "\n",
    "import os\n",
    "for dirname, _, filenames in os.walk('/kaggle/input'):\n",
    "    for filename in filenames:\n",
    "        print(os.path.join(dirname, filename))\n",
    "\n",
    "# You can write up to 20GB to the current directory (/kaggle/working/) that gets preserved as output when you create a version using \"Save & Run All\" \n",
    "# You can also write temporary files to /kaggle/temp/, but they won't be saved outside of the current session"
   ]
  },
  {
   "cell_type": "markdown",
   "id": "9cd678a0",
   "metadata": {
    "papermill": {
     "duration": 0.006223,
     "end_time": "2024-01-22T15:28:15.593898",
     "exception": false,
     "start_time": "2024-01-22T15:28:15.587675",
     "status": "completed"
    },
    "tags": []
   },
   "source": [
    "# Usefull function"
   ]
  },
  {
   "cell_type": "code",
   "execution_count": 2,
   "id": "ec8669ef",
   "metadata": {
    "execution": {
     "iopub.execute_input": "2024-01-22T15:28:15.609826Z",
     "iopub.status.busy": "2024-01-22T15:28:15.609180Z",
     "iopub.status.idle": "2024-01-22T15:28:15.632100Z",
     "shell.execute_reply": "2024-01-22T15:28:15.630705Z"
    },
    "papermill": {
     "duration": 0.034267,
     "end_time": "2024-01-22T15:28:15.635181",
     "exception": false,
     "start_time": "2024-01-22T15:28:15.600914",
     "status": "completed"
    },
    "tags": []
   },
   "outputs": [],
   "source": [
    "def compute_accuracy(predictions, y):\n",
    "    \"\"\"Computes the accuracy of predictions against the gold labels, y.\"\"\"\n",
    "    return np.mean(np.equal(predictions.numpy(), y.numpy()))\n",
    "\n",
    "def plot_digits(X, img_pix=28, n=1, labels_predict=np.array([None]), labels_act=np.array([None]), rnd=True):\n",
    "    \"\"\"\n",
    "    Plot n*n random digits from set X\n",
    "    \n",
    "    Args:\n",
    "        X -  (num, img_pix*img_pix), array of digits\n",
    "        img_pix - int, size of the digit img_pix*img_pix\n",
    "        n - int, n is a number of columns and rows\n",
    "        labels_predicted - (num, ) of int or str with predicted labels\n",
    "        labels_act - (num, ) of int or str with actual labels\n",
    "        rnd - Boolean, random chosing of samples\n",
    "    Returns:\n",
    "        nothing\n",
    "    \"\"\"\n",
    "    plt.figure(figsize=[1.5*n, 1.5*n])\n",
    "   \n",
    "    for i in range(n*n):\n",
    "        plt.subplot(n , n, i+1)\n",
    "        if rnd:\n",
    "            indx=random.randint(0, len(X)-1)\n",
    "        else:\n",
    "            indx=i\n",
    "        dig=X[indx].reshape(img_pix, img_pix)\n",
    "        plt.imshow(dig, cmap='gray_r')\n",
    "        plt.axis('off')\n",
    "        str_title=''\n",
    "        if labels_act[0]!=None: str_title+=' Act_num: '+str(labels_act[indx])+', \\n'\n",
    "        if labels_predict[0]!=None: str_title+='Pre_num: '+str(labels_predict[indx])\n",
    "        plt.title(str_title)\n",
    "            \n",
    "    plt.tight_layout()        \n",
    "    plt.show()         \n",
    "    \n",
    "class Flatten(nn.Module):\n",
    "    \"\"\"A custom layer that views an input as 1D.\"\"\"\n",
    "    def forward(self, input):\n",
    "        return input.view(input.size(0), -1)\n",
    "\n",
    "class ImageDataset(Dataset):\n",
    "\n",
    "    def __init__(self, images, labels=None, transform=None):\n",
    "        self.images = images\n",
    "        self.labels = labels\n",
    "        self.transform = transform\n",
    "\n",
    "    def __len__(self):\n",
    "        return len(self.images)\n",
    "\n",
    "    def __getitem__(self, idx):\n",
    "        image = self.images[idx] \n",
    "        image = torch.from_numpy(image).float()\n",
    "        image = image.view(1, 28, 28)\n",
    "        \n",
    "        if self.transform is not None:\n",
    "            image=self.transform(image)\n",
    "    \n",
    "        if self.labels is not None:  \n",
    "            label = torch.tensor(self.labels[idx])\n",
    "            return image, label\n",
    "        return image"
   ]
  },
  {
   "cell_type": "markdown",
   "id": "17f97a16",
   "metadata": {
    "papermill": {
     "duration": 0.006324,
     "end_time": "2024-01-22T15:28:15.648476",
     "exception": false,
     "start_time": "2024-01-22T15:28:15.642152",
     "status": "completed"
    },
    "tags": []
   },
   "source": [
    "# Training procedure"
   ]
  },
  {
   "cell_type": "code",
   "execution_count": 3,
   "id": "5814e74e",
   "metadata": {
    "execution": {
     "iopub.execute_input": "2024-01-22T15:28:15.665532Z",
     "iopub.status.busy": "2024-01-22T15:28:15.665110Z",
     "iopub.status.idle": "2024-01-22T15:28:15.683180Z",
     "shell.execute_reply": "2024-01-22T15:28:15.682280Z"
    },
    "papermill": {
     "duration": 0.029834,
     "end_time": "2024-01-22T15:28:15.686164",
     "exception": false,
     "start_time": "2024-01-22T15:28:15.656330",
     "status": "completed"
    },
    "tags": []
   },
   "outputs": [],
   "source": [
    "# Training Procedure\n",
    "def train_model(train_data, dev_data, model, device=torch.device('cpu'), lr=0.01, momentum=0.9, nesterov=False, n_epochs=20,  batch_size=32):\n",
    "    \"\"\"Train a model for N epochs given data and hyper-params.\"\"\"\n",
    "\n",
    "    optimizer = torch.optim.SGD(model.parameters(), lr=lr, momentum=momentum, nesterov=nesterov)\n",
    "    train_accuracies = []\n",
    "    val_accuracies =[]\n",
    "    for epoch in range(1, n_epochs+1):\n",
    "        print(\"-------------\\nEpoch {}:\\n\".format(epoch))\n",
    "\n",
    "        # Run **training***\n",
    "        loss, acc = run_epoch(train_data, model.train(), optimizer, device, batch_size)\n",
    "        print('Train loss: {:.6f} | Train accuracy: {:.6f}'.format(loss, acc))\n",
    "        train_accuracies.append(acc)\n",
    "\n",
    "        # Run **validation**\n",
    "        val_loss, val_acc = run_epoch(dev_data, model.eval(), optimizer, device, batch_size)\n",
    "        print('Val loss:   {:.6f} | Val accuracy:   {:.6f}'.format(val_loss, val_acc))\n",
    "        val_accuracies.append(val_acc)\n",
    "        # Save model\n",
    "        torch.save(model, 'mnist_cnn.pt')\n",
    "    return train_accuracies, val_accuracies\n",
    "\n",
    "def run_epoch(data, model, optimizer, device=torch.device('cpu'),  batch_size=32):\n",
    "    \"\"\"Train model for one pass of train data, and return loss, acccuracy\"\"\"\n",
    "   \n",
    "    losses = []\n",
    "    batch_accuracies = []\n",
    "    is_training = model.training\n",
    "\n",
    "    # batchify data\n",
    "    #indices permutation in training set for a better SGD estimation\n",
    "    if is_training: \n",
    "        data_batched = DataLoader(data, batch_size=batch_size, shuffle=True)\n",
    "    else:\n",
    "        data_batched = DataLoader(data, batch_size=batch_size)\n",
    "        \n",
    "    # Iterate through batches\n",
    "    for batch in tqdm(data_batched):\n",
    "        \n",
    "        x, y = batch\n",
    "        # Move data to the specified device (GPU or CPU)\n",
    "        x, y = x.to(device), y.to(device)\n",
    "        out = model(x)\n",
    "\n",
    "        predictions = torch.argmax(out, dim=1)\n",
    "        batch_accuracies.append(compute_accuracy(predictions, y))\n",
    "\n",
    "        loss = F.cross_entropy(out, y)\n",
    "        losses.append(loss.data.item())\n",
    "\n",
    "        if is_training:\n",
    "            optimizer.zero_grad()\n",
    "            loss.backward()\n",
    "            optimizer.step()\n",
    "\n",
    "    # Calculate epoch level scores\n",
    "    avg_loss = np.mean(losses)\n",
    "    avg_accuracy = np.mean(batch_accuracies)\n",
    "    return avg_loss, avg_accuracy"
   ]
  },
  {
   "cell_type": "markdown",
   "id": "a5c58afb",
   "metadata": {
    "papermill": {
     "duration": 0.00719,
     "end_time": "2024-01-22T15:28:15.699786",
     "exception": false,
     "start_time": "2024-01-22T15:28:15.692596",
     "status": "completed"
    },
    "tags": []
   },
   "source": [
    "# Import data"
   ]
  },
  {
   "cell_type": "code",
   "execution_count": 4,
   "id": "11d31075",
   "metadata": {
    "execution": {
     "iopub.execute_input": "2024-01-22T15:28:15.716042Z",
     "iopub.status.busy": "2024-01-22T15:28:15.715317Z",
     "iopub.status.idle": "2024-01-22T15:28:22.023891Z",
     "shell.execute_reply": "2024-01-22T15:28:22.022338Z"
    },
    "papermill": {
     "duration": 6.320364,
     "end_time": "2024-01-22T15:28:22.027381",
     "exception": false,
     "start_time": "2024-01-22T15:28:15.707017",
     "status": "completed"
    },
    "tags": []
   },
   "outputs": [
    {
     "data": {
      "image/png": "[encoded data removed]",
      "text/plain": [
       "<Figure size 450x450 with 9 Axes>"
      ]
     },
     "metadata": {},
     "output_type": "display_data"
    }
   ],
   "source": [
    "all_data = pd.read_csv('/kaggle/input/digit-recognizer/train.csv')\n",
    "y=all_data.label.to_numpy(dtype='long')\n",
    "img_pix=28\n",
    "\n",
    "X=all_data.drop(['label'], axis=1, inplace=False).to_numpy(dtype='float')\n",
    "# Scaling data to [0, 1]\n",
    "X=X/np.max(X)\n",
    "\n",
    "# Set transform to augment data for training \n",
    "transf = v2.RandomAffine(degrees=20, scale=(0.9, 1.1))\n",
    "X_set = ImageDataset(X, y, transform=transf)\n",
    "\n",
    "tmp_images = [X_set[i][0] for i in range(9)]\n",
    "tmp_labels = [X_set[i][1].numpy() for i in range(9)]\n",
    "plot_digits(tmp_images, n=3, labels_act=tmp_labels, rnd=False)\n",
    "\n",
    "#split data into training and validation parts\n",
    "X_set = ImageDataset(X, y)\n",
    "X_train_set, X_dev_set=random_split(X_set, [0.9, 0.1], generator=torch.Generator().manual_seed(42))"
   ]
  },
  {
   "cell_type": "markdown",
   "id": "42405958",
   "metadata": {
    "papermill": {
     "duration": 0.007301,
     "end_time": "2024-01-22T15:28:22.041330",
     "exception": false,
     "start_time": "2024-01-22T15:28:22.034029",
     "status": "completed"
    },
    "tags": []
   },
   "source": [
    "# Training model"
   ]
  },
  {
   "cell_type": "code",
   "execution_count": 5,
   "id": "05368870",
   "metadata": {
    "execution": {
     "iopub.execute_input": "2024-01-22T15:28:22.058414Z",
     "iopub.status.busy": "2024-01-22T15:28:22.057501Z",
     "iopub.status.idle": "2024-01-22T15:39:30.603030Z",
     "shell.execute_reply": "2024-01-22T15:39:30.601616Z"
    },
    "papermill": {
     "duration": 668.556591,
     "end_time": "2024-01-22T15:39:30.605702",
     "exception": false,
     "start_time": "2024-01-22T15:28:22.049111",
     "status": "completed"
    },
    "tags": []
   },
   "outputs": [
    {
     "name": "stdout",
     "output_type": "stream",
     "text": [
      "-------------\n",
      "Epoch 1:\n",
      "\n"
     ]
    },
    {
     "name": "stderr",
     "output_type": "stream",
     "text": [
      "100%|██████████| 1182/1182 [00:22<00:00, 52.94it/s]\n"
     ]
    },
    {
     "name": "stdout",
     "output_type": "stream",
     "text": [
      "Train loss: 0.285778 | Train accuracy: 0.907598\n"
     ]
    },
    {
     "name": "stderr",
     "output_type": "stream",
     "text": [
      "100%|██████████| 132/132 [00:01<00:00, 115.86it/s]\n"
     ]
    },
    {
     "name": "stdout",
     "output_type": "stream",
     "text": [
      "Val loss:   0.094092 | Val accuracy:   0.973958\n",
      "-------------\n",
      "Epoch 2:\n",
      "\n"
     ]
    },
    {
     "name": "stderr",
     "output_type": "stream",
     "text": [
      "100%|██████████| 1182/1182 [00:22<00:00, 53.27it/s]\n"
     ]
    },
    {
     "name": "stdout",
     "output_type": "stream",
     "text": [
      "Train loss: 0.092338 | Train accuracy: 0.971024\n"
     ]
    },
    {
     "name": "stderr",
     "output_type": "stream",
     "text": [
      "100%|██████████| 132/132 [00:01<00:00, 83.76it/s]\n"
     ]
    },
    {
     "name": "stdout",
     "output_type": "stream",
     "text": [
      "Val loss:   0.071098 | Val accuracy:   0.978693\n",
      "-------------\n",
      "Epoch 3:\n",
      "\n"
     ]
    },
    {
     "name": "stderr",
     "output_type": "stream",
     "text": [
      "100%|██████████| 1182/1182 [00:22<00:00, 53.47it/s]\n"
     ]
    },
    {
     "name": "stdout",
     "output_type": "stream",
     "text": [
      "Train loss: 0.064755 | Train accuracy: 0.979748\n"
     ]
    },
    {
     "name": "stderr",
     "output_type": "stream",
     "text": [
      "100%|██████████| 132/132 [00:01<00:00, 113.76it/s]\n"
     ]
    },
    {
     "name": "stdout",
     "output_type": "stream",
     "text": [
      "Val loss:   0.060611 | Val accuracy:   0.982481\n",
      "-------------\n",
      "Epoch 4:\n",
      "\n"
     ]
    },
    {
     "name": "stderr",
     "output_type": "stream",
     "text": [
      "100%|██████████| 1182/1182 [00:22<00:00, 53.24it/s]\n"
     ]
    },
    {
     "name": "stdout",
     "output_type": "stream",
     "text": [
      "Train loss: 0.052795 | Train accuracy: 0.983080\n"
     ]
    },
    {
     "name": "stderr",
     "output_type": "stream",
     "text": [
      "100%|██████████| 132/132 [00:01<00:00, 124.24it/s]\n"
     ]
    },
    {
     "name": "stdout",
     "output_type": "stream",
     "text": [
      "Val loss:   0.058394 | Val accuracy:   0.984375\n",
      "-------------\n",
      "Epoch 5:\n",
      "\n"
     ]
    },
    {
     "name": "stderr",
     "output_type": "stream",
     "text": [
      "100%|██████████| 1182/1182 [00:22<00:00, 51.93it/s]\n"
     ]
    },
    {
     "name": "stdout",
     "output_type": "stream",
     "text": [
      "Train loss: 0.045014 | Train accuracy: 0.985829\n"
     ]
    },
    {
     "name": "stderr",
     "output_type": "stream",
     "text": [
      "100%|██████████| 132/132 [00:01<00:00, 112.01it/s]\n"
     ]
    },
    {
     "name": "stdout",
     "output_type": "stream",
     "text": [
      "Val loss:   0.058126 | Val accuracy:   0.984138\n",
      "-------------\n",
      "Epoch 6:\n",
      "\n"
     ]
    },
    {
     "name": "stderr",
     "output_type": "stream",
     "text": [
      "100%|██████████| 1182/1182 [00:21<00:00, 54.52it/s]\n"
     ]
    },
    {
     "name": "stdout",
     "output_type": "stream",
     "text": [
      "Train loss: 0.038293 | Train accuracy: 0.987706\n"
     ]
    },
    {
     "name": "stderr",
     "output_type": "stream",
     "text": [
      "100%|██████████| 132/132 [00:01<00:00, 118.35it/s]\n"
     ]
    },
    {
     "name": "stdout",
     "output_type": "stream",
     "text": [
      "Val loss:   0.058989 | Val accuracy:   0.982244\n",
      "-------------\n",
      "Epoch 7:\n",
      "\n"
     ]
    },
    {
     "name": "stderr",
     "output_type": "stream",
     "text": [
      "100%|██████████| 1182/1182 [00:21<00:00, 55.69it/s]\n"
     ]
    },
    {
     "name": "stdout",
     "output_type": "stream",
     "text": [
      "Train loss: 0.032652 | Train accuracy: 0.989768\n"
     ]
    },
    {
     "name": "stderr",
     "output_type": "stream",
     "text": [
      "100%|██████████| 132/132 [00:01<00:00, 127.54it/s]\n"
     ]
    },
    {
     "name": "stdout",
     "output_type": "stream",
     "text": [
      "Val loss:   0.054684 | Val accuracy:   0.985559\n",
      "-------------\n",
      "Epoch 8:\n",
      "\n"
     ]
    },
    {
     "name": "stderr",
     "output_type": "stream",
     "text": [
      "100%|██████████| 1182/1182 [00:20<00:00, 56.98it/s]\n"
     ]
    },
    {
     "name": "stdout",
     "output_type": "stream",
     "text": [
      "Train loss: 0.030671 | Train accuracy: 0.989795\n"
     ]
    },
    {
     "name": "stderr",
     "output_type": "stream",
     "text": [
      "100%|██████████| 132/132 [00:01<00:00, 131.96it/s]\n"
     ]
    },
    {
     "name": "stdout",
     "output_type": "stream",
     "text": [
      "Val loss:   0.050555 | Val accuracy:   0.985559\n",
      "-------------\n",
      "Epoch 9:\n",
      "\n"
     ]
    },
    {
     "name": "stderr",
     "output_type": "stream",
     "text": [
      "100%|██████████| 1182/1182 [00:20<00:00, 58.95it/s]\n"
     ]
    },
    {
     "name": "stdout",
     "output_type": "stream",
     "text": [
      "Train loss: 0.026462 | Train accuracy: 0.991751\n"
     ]
    },
    {
     "name": "stderr",
     "output_type": "stream",
     "text": [
      "100%|██████████| 132/132 [00:00<00:00, 133.47it/s]\n"
     ]
    },
    {
     "name": "stdout",
     "output_type": "stream",
     "text": [
      "Val loss:   0.062335 | Val accuracy:   0.983428\n",
      "-------------\n",
      "Epoch 10:\n",
      "\n"
     ]
    },
    {
     "name": "stderr",
     "output_type": "stream",
     "text": [
      "100%|██████████| 1182/1182 [00:20<00:00, 57.02it/s]\n"
     ]
    },
    {
     "name": "stdout",
     "output_type": "stream",
     "text": [
      "Train loss: 0.022722 | Train accuracy: 0.992280\n"
     ]
    },
    {
     "name": "stderr",
     "output_type": "stream",
     "text": [
      "100%|██████████| 132/132 [00:01<00:00, 131.77it/s]\n"
     ]
    },
    {
     "name": "stdout",
     "output_type": "stream",
     "text": [
      "Val loss:   0.061382 | Val accuracy:   0.982481\n",
      "-------------\n",
      "Epoch 11:\n",
      "\n"
     ]
    },
    {
     "name": "stderr",
     "output_type": "stream",
     "text": [
      "100%|██████████| 1182/1182 [00:20<00:00, 56.77it/s]\n"
     ]
    },
    {
     "name": "stdout",
     "output_type": "stream",
     "text": [
      "Train loss: 0.020574 | Train accuracy: 0.992994\n"
     ]
    },
    {
     "name": "stderr",
     "output_type": "stream",
     "text": [
      "100%|██████████| 132/132 [00:01<00:00, 130.72it/s]\n"
     ]
    },
    {
     "name": "stdout",
     "output_type": "stream",
     "text": [
      "Val loss:   0.053042 | Val accuracy:   0.986269\n",
      "-------------\n",
      "Epoch 12:\n",
      "\n"
     ]
    },
    {
     "name": "stderr",
     "output_type": "stream",
     "text": [
      "100%|██████████| 1182/1182 [00:20<00:00, 57.08it/s]\n"
     ]
    },
    {
     "name": "stdout",
     "output_type": "stream",
     "text": [
      "Train loss: 0.018521 | Train accuracy: 0.993681\n"
     ]
    },
    {
     "name": "stderr",
     "output_type": "stream",
     "text": [
      "100%|██████████| 132/132 [00:01<00:00, 100.44it/s]\n"
     ]
    },
    {
     "name": "stdout",
     "output_type": "stream",
     "text": [
      "Val loss:   0.056483 | Val accuracy:   0.985559\n",
      "-------------\n",
      "Epoch 13:\n",
      "\n"
     ]
    },
    {
     "name": "stderr",
     "output_type": "stream",
     "text": [
      "100%|██████████| 1182/1182 [00:20<00:00, 57.77it/s]\n"
     ]
    },
    {
     "name": "stdout",
     "output_type": "stream",
     "text": [
      "Train loss: 0.016990 | Train accuracy: 0.994342\n"
     ]
    },
    {
     "name": "stderr",
     "output_type": "stream",
     "text": [
      "100%|██████████| 132/132 [00:01<00:00, 117.60it/s]\n"
     ]
    },
    {
     "name": "stdout",
     "output_type": "stream",
     "text": [
      "Val loss:   0.063127 | Val accuracy:   0.983428\n",
      "-------------\n",
      "Epoch 14:\n",
      "\n"
     ]
    },
    {
     "name": "stderr",
     "output_type": "stream",
     "text": [
      "100%|██████████| 1182/1182 [00:21<00:00, 55.52it/s]\n"
     ]
    },
    {
     "name": "stdout",
     "output_type": "stream",
     "text": [
      "Train loss: 0.014341 | Train accuracy: 0.995030\n"
     ]
    },
    {
     "name": "stderr",
     "output_type": "stream",
     "text": [
      "100%|██████████| 132/132 [00:01<00:00, 128.75it/s]\n"
     ]
    },
    {
     "name": "stdout",
     "output_type": "stream",
     "text": [
      "Val loss:   0.058117 | Val accuracy:   0.983902\n",
      "-------------\n",
      "Epoch 15:\n",
      "\n"
     ]
    },
    {
     "name": "stderr",
     "output_type": "stream",
     "text": [
      "100%|██████████| 1182/1182 [00:21<00:00, 56.20it/s]\n"
     ]
    },
    {
     "name": "stdout",
     "output_type": "stream",
     "text": [
      "Train loss: 0.012719 | Train accuracy: 0.996087\n"
     ]
    },
    {
     "name": "stderr",
     "output_type": "stream",
     "text": [
      "100%|██████████| 132/132 [00:01<00:00, 126.06it/s]\n"
     ]
    },
    {
     "name": "stdout",
     "output_type": "stream",
     "text": [
      "Val loss:   0.056775 | Val accuracy:   0.986032\n",
      "-------------\n",
      "Epoch 16:\n",
      "\n"
     ]
    },
    {
     "name": "stderr",
     "output_type": "stream",
     "text": [
      "100%|██████████| 1182/1182 [00:20<00:00, 58.63it/s]\n"
     ]
    },
    {
     "name": "stdout",
     "output_type": "stream",
     "text": [
      "Train loss: 0.013865 | Train accuracy: 0.995347\n"
     ]
    },
    {
     "name": "stderr",
     "output_type": "stream",
     "text": [
      "100%|██████████| 132/132 [00:01<00:00, 129.12it/s]\n"
     ]
    },
    {
     "name": "stdout",
     "output_type": "stream",
     "text": [
      "Val loss:   0.058861 | Val accuracy:   0.986269\n",
      "-------------\n",
      "Epoch 17:\n",
      "\n"
     ]
    },
    {
     "name": "stderr",
     "output_type": "stream",
     "text": [
      "100%|██████████| 1182/1182 [00:20<00:00, 56.77it/s]\n"
     ]
    },
    {
     "name": "stdout",
     "output_type": "stream",
     "text": [
      "Train loss: 0.011718 | Train accuracy: 0.996325\n"
     ]
    },
    {
     "name": "stderr",
     "output_type": "stream",
     "text": [
      "100%|██████████| 132/132 [00:01<00:00, 128.44it/s]\n"
     ]
    },
    {
     "name": "stdout",
     "output_type": "stream",
     "text": [
      "Val loss:   0.065624 | Val accuracy:   0.984138\n",
      "-------------\n",
      "Epoch 18:\n",
      "\n"
     ]
    },
    {
     "name": "stderr",
     "output_type": "stream",
     "text": [
      "100%|██████████| 1182/1182 [00:20<00:00, 56.51it/s]\n"
     ]
    },
    {
     "name": "stdout",
     "output_type": "stream",
     "text": [
      "Train loss: 0.011871 | Train accuracy: 0.996008\n"
     ]
    },
    {
     "name": "stderr",
     "output_type": "stream",
     "text": [
      "100%|██████████| 132/132 [00:01<00:00, 130.65it/s]\n"
     ]
    },
    {
     "name": "stdout",
     "output_type": "stream",
     "text": [
      "Val loss:   0.062932 | Val accuracy:   0.986742\n",
      "-------------\n",
      "Epoch 19:\n",
      "\n"
     ]
    },
    {
     "name": "stderr",
     "output_type": "stream",
     "text": [
      "100%|██████████| 1182/1182 [00:20<00:00, 57.58it/s]\n"
     ]
    },
    {
     "name": "stdout",
     "output_type": "stream",
     "text": [
      "Train loss: 0.009648 | Train accuracy: 0.996669\n"
     ]
    },
    {
     "name": "stderr",
     "output_type": "stream",
     "text": [
      "100%|██████████| 132/132 [00:01<00:00, 126.85it/s]\n"
     ]
    },
    {
     "name": "stdout",
     "output_type": "stream",
     "text": [
      "Val loss:   0.067556 | Val accuracy:   0.984375\n",
      "-------------\n",
      "Epoch 20:\n",
      "\n"
     ]
    },
    {
     "name": "stderr",
     "output_type": "stream",
     "text": [
      "100%|██████████| 1182/1182 [00:21<00:00, 55.56it/s]\n"
     ]
    },
    {
     "name": "stdout",
     "output_type": "stream",
     "text": [
      "Train loss: 0.009823 | Train accuracy: 0.996669\n"
     ]
    },
    {
     "name": "stderr",
     "output_type": "stream",
     "text": [
      "100%|██████████| 132/132 [00:01<00:00, 131.07it/s]\n"
     ]
    },
    {
     "name": "stdout",
     "output_type": "stream",
     "text": [
      "Val loss:   0.059897 | Val accuracy:   0.986742\n",
      "-------------\n",
      "Epoch 21:\n",
      "\n"
     ]
    },
    {
     "name": "stderr",
     "output_type": "stream",
     "text": [
      "100%|██████████| 1182/1182 [00:21<00:00, 55.06it/s]\n"
     ]
    },
    {
     "name": "stdout",
     "output_type": "stream",
     "text": [
      "Train loss: 0.009503 | Train accuracy: 0.996510\n"
     ]
    },
    {
     "name": "stderr",
     "output_type": "stream",
     "text": [
      "100%|██████████| 132/132 [00:01<00:00, 125.06it/s]\n"
     ]
    },
    {
     "name": "stdout",
     "output_type": "stream",
     "text": [
      "Val loss:   0.072237 | Val accuracy:   0.984848\n",
      "-------------\n",
      "Epoch 22:\n",
      "\n"
     ]
    },
    {
     "name": "stderr",
     "output_type": "stream",
     "text": [
      "100%|██████████| 1182/1182 [00:22<00:00, 52.98it/s]\n"
     ]
    },
    {
     "name": "stdout",
     "output_type": "stream",
     "text": [
      "Train loss: 0.008563 | Train accuracy: 0.997277\n"
     ]
    },
    {
     "name": "stderr",
     "output_type": "stream",
     "text": [
      "100%|██████████| 132/132 [00:01<00:00, 121.52it/s]\n"
     ]
    },
    {
     "name": "stdout",
     "output_type": "stream",
     "text": [
      "Val loss:   0.059928 | Val accuracy:   0.987689\n",
      "-------------\n",
      "Epoch 23:\n",
      "\n"
     ]
    },
    {
     "name": "stderr",
     "output_type": "stream",
     "text": [
      "100%|██████████| 1182/1182 [00:21<00:00, 54.67it/s]\n"
     ]
    },
    {
     "name": "stdout",
     "output_type": "stream",
     "text": [
      "Train loss: 0.008530 | Train accuracy: 0.996801\n"
     ]
    },
    {
     "name": "stderr",
     "output_type": "stream",
     "text": [
      "100%|██████████| 132/132 [00:01<00:00, 123.21it/s]\n"
     ]
    },
    {
     "name": "stdout",
     "output_type": "stream",
     "text": [
      "Val loss:   0.067913 | Val accuracy:   0.987453\n",
      "-------------\n",
      "Epoch 24:\n",
      "\n"
     ]
    },
    {
     "name": "stderr",
     "output_type": "stream",
     "text": [
      "100%|██████████| 1182/1182 [00:23<00:00, 51.21it/s]\n"
     ]
    },
    {
     "name": "stdout",
     "output_type": "stream",
     "text": [
      "Train loss: 0.008201 | Train accuracy: 0.997541\n"
     ]
    },
    {
     "name": "stderr",
     "output_type": "stream",
     "text": [
      "100%|██████████| 132/132 [00:01<00:00, 127.66it/s]\n"
     ]
    },
    {
     "name": "stdout",
     "output_type": "stream",
     "text": [
      "Val loss:   0.064294 | Val accuracy:   0.987216\n",
      "-------------\n",
      "Epoch 25:\n",
      "\n"
     ]
    },
    {
     "name": "stderr",
     "output_type": "stream",
     "text": [
      "100%|██████████| 1182/1182 [00:20<00:00, 56.59it/s]\n"
     ]
    },
    {
     "name": "stdout",
     "output_type": "stream",
     "text": [
      "Train loss: 0.005034 | Train accuracy: 0.998282\n"
     ]
    },
    {
     "name": "stderr",
     "output_type": "stream",
     "text": [
      "100%|██████████| 132/132 [00:01<00:00, 130.43it/s]\n"
     ]
    },
    {
     "name": "stdout",
     "output_type": "stream",
     "text": [
      "Val loss:   0.081510 | Val accuracy:   0.983902\n",
      "-------------\n",
      "Epoch 26:\n",
      "\n"
     ]
    },
    {
     "name": "stderr",
     "output_type": "stream",
     "text": [
      "100%|██████████| 1182/1182 [00:20<00:00, 58.02it/s]\n"
     ]
    },
    {
     "name": "stdout",
     "output_type": "stream",
     "text": [
      "Train loss: 0.006857 | Train accuracy: 0.997462\n"
     ]
    },
    {
     "name": "stderr",
     "output_type": "stream",
     "text": [
      "100%|██████████| 132/132 [00:01<00:00, 128.54it/s]\n"
     ]
    },
    {
     "name": "stdout",
     "output_type": "stream",
     "text": [
      "Val loss:   0.068205 | Val accuracy:   0.986742\n",
      "-------------\n",
      "Epoch 27:\n",
      "\n"
     ]
    },
    {
     "name": "stderr",
     "output_type": "stream",
     "text": [
      "100%|██████████| 1182/1182 [00:20<00:00, 57.62it/s]\n"
     ]
    },
    {
     "name": "stdout",
     "output_type": "stream",
     "text": [
      "Train loss: 0.005554 | Train accuracy: 0.997911\n"
     ]
    },
    {
     "name": "stderr",
     "output_type": "stream",
     "text": [
      "100%|██████████| 132/132 [00:00<00:00, 133.39it/s]\n"
     ]
    },
    {
     "name": "stdout",
     "output_type": "stream",
     "text": [
      "Val loss:   0.075753 | Val accuracy:   0.985322\n",
      "-------------\n",
      "Epoch 28:\n",
      "\n"
     ]
    },
    {
     "name": "stderr",
     "output_type": "stream",
     "text": [
      "100%|██████████| 1182/1182 [00:21<00:00, 56.25it/s]\n"
     ]
    },
    {
     "name": "stdout",
     "output_type": "stream",
     "text": [
      "Train loss: 0.005519 | Train accuracy: 0.998070\n"
     ]
    },
    {
     "name": "stderr",
     "output_type": "stream",
     "text": [
      "100%|██████████| 132/132 [00:00<00:00, 132.55it/s]\n"
     ]
    },
    {
     "name": "stdout",
     "output_type": "stream",
     "text": [
      "Val loss:   0.074304 | Val accuracy:   0.986032\n",
      "-------------\n",
      "Epoch 29:\n",
      "\n"
     ]
    },
    {
     "name": "stderr",
     "output_type": "stream",
     "text": [
      "100%|██████████| 1182/1182 [00:20<00:00, 58.34it/s]\n"
     ]
    },
    {
     "name": "stdout",
     "output_type": "stream",
     "text": [
      "Train loss: 0.007112 | Train accuracy: 0.997409\n"
     ]
    },
    {
     "name": "stderr",
     "output_type": "stream",
     "text": [
      "100%|██████████| 132/132 [00:00<00:00, 135.27it/s]\n"
     ]
    },
    {
     "name": "stdout",
     "output_type": "stream",
     "text": [
      "Val loss:   0.075359 | Val accuracy:   0.983665\n",
      "-------------\n",
      "Epoch 30:\n",
      "\n"
     ]
    },
    {
     "name": "stderr",
     "output_type": "stream",
     "text": [
      "100%|██████████| 1182/1182 [00:20<00:00, 58.11it/s]\n"
     ]
    },
    {
     "name": "stdout",
     "output_type": "stream",
     "text": [
      "Train loss: 0.005607 | Train accuracy: 0.998176\n"
     ]
    },
    {
     "name": "stderr",
     "output_type": "stream",
     "text": [
      "100%|██████████| 132/132 [00:01<00:00, 131.63it/s]"
     ]
    },
    {
     "name": "stdout",
     "output_type": "stream",
     "text": [
      "Val loss:   0.066262 | Val accuracy:   0.987689\n"
     ]
    },
    {
     "name": "stderr",
     "output_type": "stream",
     "text": [
      "\n"
     ]
    }
   ],
   "source": [
    "#%% Train model\n",
    "\n",
    "#################################\n",
    "## Model specification\n",
    "model = nn.Sequential(\n",
    "          nn.Conv2d(1, 32, (3, 3)),\n",
    "          nn.ReLU(),\n",
    "          nn.MaxPool2d((2, 2)),\n",
    "          nn.Conv2d(32, 64, (3, 3)),\n",
    "          nn.ReLU(),\n",
    "          nn.MaxPool2d((2, 2)),\n",
    "          Flatten(),\n",
    "          nn.Linear(64*5*5,128),\n",
    "          nn.Dropout(),\n",
    "          nn.Linear(128, 10),\n",
    "        )\n",
    "##################################\n",
    "\n",
    "device = torch.device(\"cuda\" if torch.cuda.is_available() else \"cpu\")\n",
    "model = model.to(device)\n",
    "\n",
    "batch_size = 32\n",
    "n_epochs = 30\n",
    "train_acc, dev_acc=train_model(X_train_set, X_dev_set, \n",
    "                               model, device=device, \n",
    "                               nesterov=True, \n",
    "                               n_epochs=n_epochs,  \n",
    "                               batch_size=batch_size)"
   ]
  },
  {
   "cell_type": "markdown",
   "id": "9a6d70c1",
   "metadata": {
    "papermill": {
     "duration": 0.603088,
     "end_time": "2024-01-22T15:39:31.817219",
     "exception": false,
     "start_time": "2024-01-22T15:39:31.214131",
     "status": "completed"
    },
    "tags": []
   },
   "source": [
    "# Plot accuraties"
   ]
  },
  {
   "cell_type": "code",
   "execution_count": 6,
   "id": "d9ed4e29",
   "metadata": {
    "execution": {
     "iopub.execute_input": "2024-01-22T15:39:33.115495Z",
     "iopub.status.busy": "2024-01-22T15:39:33.115060Z",
     "iopub.status.idle": "2024-01-22T15:39:33.415406Z",
     "shell.execute_reply": "2024-01-22T15:39:33.414095Z"
    },
    "papermill": {
     "duration": 0.977003,
     "end_time": "2024-01-22T15:39:33.417789",
     "exception": false,
     "start_time": "2024-01-22T15:39:32.440786",
     "status": "completed"
    },
    "tags": []
   },
   "outputs": [
    {
     "data": {
      "image/png": "[encoded data removed]",
      "text/plain": [
       "<Figure size 640x480 with 1 Axes>"
      ]
     },
     "metadata": {},
     "output_type": "display_data"
    }
   ],
   "source": [
    "#%% Plot training and validation accuracies in epochs\n",
    "plt.subplot()\n",
    "plt.plot(np.arange(1, n_epochs+1), train_acc, 'b', label='Train accuracy')\n",
    "plt.plot(np.arange(1, n_epochs+1), dev_acc, 'r', label='Validation accuracy')\n",
    "plt.legend()\n",
    "plt.xlabel('Epochs')\n",
    "plt.ylabel('Accuracy')\n",
    "plt.show()"
   ]
  },
  {
   "cell_type": "markdown",
   "id": "1e67ad1f",
   "metadata": {
    "papermill": {
     "duration": 0.607607,
     "end_time": "2024-01-22T15:39:34.626070",
     "exception": false,
     "start_time": "2024-01-22T15:39:34.018463",
     "status": "completed"
    },
    "tags": []
   },
   "source": [
    "# Analysis of prediction results on validation data"
   ]
  },
  {
   "cell_type": "code",
   "execution_count": 7,
   "id": "82b4ff29",
   "metadata": {
    "execution": {
     "iopub.execute_input": "2024-01-22T15:39:35.913868Z",
     "iopub.status.busy": "2024-01-22T15:39:35.913014Z",
     "iopub.status.idle": "2024-01-22T15:39:40.720342Z",
     "shell.execute_reply": "2024-01-22T15:39:40.719217Z"
    },
    "papermill": {
     "duration": 5.486477,
     "end_time": "2024-01-22T15:39:40.722844",
     "exception": false,
     "start_time": "2024-01-22T15:39:35.236367",
     "status": "completed"
    },
    "tags": []
   },
   "outputs": [
    {
     "data": {
      "image/png": "[encoded data removed]",
      "text/plain": [
       "<Figure size 800x800 with 1 Axes>"
      ]
     },
     "metadata": {},
     "output_type": "display_data"
    }
   ],
   "source": [
    "#%% Analysis of prediction results on dev data\n",
    "indxs=np.arange(0,len(X))\n",
    "random.shuffle(indxs)\n",
    "out=model(torch.tensor(X[indxs[:10000]].reshape(-1,1,img_pix,img_pix), dtype=torch.float32))\n",
    "\n",
    "predictions = torch.argmax(out, dim=1).numpy()\n",
    "confusion_mtx = confusion_matrix(predictions, y[indxs[:10000]])\n",
    "\n",
    "f,ax = plt.subplots(figsize=(8, 8))\n",
    "sns.heatmap(confusion_mtx, annot=True, linewidths=0.01,  fmt= '1', ax=ax, norm=LogNorm(), cbar=False)\n",
    "plt.xlabel(\"Predicted Label\")\n",
    "plt.ylabel(\"True Label\")\n",
    "plt.title(\"Confusion Matrix\")\n",
    "plt.show()"
   ]
  },
  {
   "cell_type": "markdown",
   "id": "40e80316",
   "metadata": {
    "papermill": {
     "duration": 0.62689,
     "end_time": "2024-01-22T15:39:41.968499",
     "exception": false,
     "start_time": "2024-01-22T15:39:41.341609",
     "status": "completed"
    },
    "tags": []
   },
   "source": [
    "# Evaluate the model on test data and save submission.cvs"
   ]
  },
  {
   "cell_type": "code",
   "execution_count": 8,
   "id": "63925c3d",
   "metadata": {
    "execution": {
     "iopub.execute_input": "2024-01-22T15:39:43.286065Z",
     "iopub.status.busy": "2024-01-22T15:39:43.285564Z",
     "iopub.status.idle": "2024-01-22T15:41:08.532834Z",
     "shell.execute_reply": "2024-01-22T15:41:08.531152Z"
    },
    "papermill": {
     "duration": 85.874045,
     "end_time": "2024-01-22T15:41:08.536240",
     "exception": false,
     "start_time": "2024-01-22T15:39:42.662195",
     "status": "completed"
    },
    "tags": []
   },
   "outputs": [
    {
     "name": "stdout",
     "output_type": "stream",
     "text": [
      "-------------\n",
      "Epoch 1:\n",
      "\n"
     ]
    },
    {
     "name": "stderr",
     "output_type": "stream",
     "text": [
      "100%|██████████| 132/132 [00:02<00:00, 45.04it/s]\n"
     ]
    },
    {
     "name": "stdout",
     "output_type": "stream",
     "text": [
      "Train loss: 0.086354 | Train accuracy: 0.981297\n",
      "-------------\n",
      "Epoch 2:\n",
      "\n"
     ]
    },
    {
     "name": "stderr",
     "output_type": "stream",
     "text": [
      "100%|██████████| 132/132 [00:02<00:00, 59.08it/s]\n"
     ]
    },
    {
     "name": "stdout",
     "output_type": "stream",
     "text": [
      "Train loss: 0.040687 | Train accuracy: 0.989347\n",
      "-------------\n",
      "Epoch 3:\n",
      "\n"
     ]
    },
    {
     "name": "stderr",
     "output_type": "stream",
     "text": [
      "100%|██████████| 132/132 [00:02<00:00, 55.61it/s]\n"
     ]
    },
    {
     "name": "stdout",
     "output_type": "stream",
     "text": [
      "Train loss: 0.030162 | Train accuracy: 0.990294\n",
      "-------------\n",
      "Epoch 4:\n",
      "\n"
     ]
    },
    {
     "name": "stderr",
     "output_type": "stream",
     "text": [
      "100%|██████████| 132/132 [00:02<00:00, 57.13it/s]\n"
     ]
    },
    {
     "name": "stdout",
     "output_type": "stream",
     "text": [
      "Train loss: 0.016957 | Train accuracy: 0.995975\n",
      "-------------\n",
      "Epoch 5:\n",
      "\n"
     ]
    },
    {
     "name": "stderr",
     "output_type": "stream",
     "text": [
      "100%|██████████| 132/132 [00:02<00:00, 58.01it/s]\n"
     ]
    },
    {
     "name": "stdout",
     "output_type": "stream",
     "text": [
      "Train loss: 0.013741 | Train accuracy: 0.995265\n",
      "-------------\n",
      "Epoch 6:\n",
      "\n"
     ]
    },
    {
     "name": "stderr",
     "output_type": "stream",
     "text": [
      "100%|██████████| 132/132 [00:02<00:00, 60.29it/s]\n"
     ]
    },
    {
     "name": "stdout",
     "output_type": "stream",
     "text": [
      "Train loss: 0.009187 | Train accuracy: 0.998343\n",
      "-------------\n",
      "Epoch 7:\n",
      "\n"
     ]
    },
    {
     "name": "stderr",
     "output_type": "stream",
     "text": [
      "100%|██████████| 132/132 [00:02<00:00, 56.85it/s]\n"
     ]
    },
    {
     "name": "stdout",
     "output_type": "stream",
     "text": [
      "Train loss: 0.006552 | Train accuracy: 0.998343\n",
      "-------------\n",
      "Epoch 8:\n",
      "\n"
     ]
    },
    {
     "name": "stderr",
     "output_type": "stream",
     "text": [
      "100%|██████████| 132/132 [00:02<00:00, 59.87it/s]\n"
     ]
    },
    {
     "name": "stdout",
     "output_type": "stream",
     "text": [
      "Train loss: 0.005815 | Train accuracy: 0.998343\n",
      "-------------\n",
      "Epoch 9:\n",
      "\n"
     ]
    },
    {
     "name": "stderr",
     "output_type": "stream",
     "text": [
      "100%|██████████| 132/132 [00:02<00:00, 60.13it/s]\n"
     ]
    },
    {
     "name": "stdout",
     "output_type": "stream",
     "text": [
      "Train loss: 0.002729 | Train accuracy: 0.999763\n",
      "-------------\n",
      "Epoch 10:\n",
      "\n"
     ]
    },
    {
     "name": "stderr",
     "output_type": "stream",
     "text": [
      "100%|██████████| 132/132 [00:02<00:00, 60.06it/s]\n"
     ]
    },
    {
     "name": "stdout",
     "output_type": "stream",
     "text": [
      "Train loss: 0.003428 | Train accuracy: 0.999053\n",
      "-------------\n",
      "Epoch 11:\n",
      "\n"
     ]
    },
    {
     "name": "stderr",
     "output_type": "stream",
     "text": [
      "100%|██████████| 132/132 [00:02<00:00, 59.69it/s]\n"
     ]
    },
    {
     "name": "stdout",
     "output_type": "stream",
     "text": [
      "Train loss: 0.002084 | Train accuracy: 0.999763\n",
      "-------------\n",
      "Epoch 12:\n",
      "\n"
     ]
    },
    {
     "name": "stderr",
     "output_type": "stream",
     "text": [
      "100%|██████████| 132/132 [00:02<00:00, 48.99it/s]\n"
     ]
    },
    {
     "name": "stdout",
     "output_type": "stream",
     "text": [
      "Train loss: 0.003308 | Train accuracy: 0.999053\n",
      "-------------\n",
      "Epoch 13:\n",
      "\n"
     ]
    },
    {
     "name": "stderr",
     "output_type": "stream",
     "text": [
      "100%|██████████| 132/132 [00:02<00:00, 57.62it/s]\n"
     ]
    },
    {
     "name": "stdout",
     "output_type": "stream",
     "text": [
      "Train loss: 0.002961 | Train accuracy: 0.999290\n",
      "-------------\n",
      "Epoch 14:\n",
      "\n"
     ]
    },
    {
     "name": "stderr",
     "output_type": "stream",
     "text": [
      "100%|██████████| 132/132 [00:02<00:00, 57.94it/s]\n"
     ]
    },
    {
     "name": "stdout",
     "output_type": "stream",
     "text": [
      "Train loss: 0.001962 | Train accuracy: 1.000000\n",
      "-------------\n",
      "Epoch 15:\n",
      "\n"
     ]
    },
    {
     "name": "stderr",
     "output_type": "stream",
     "text": [
      "100%|██████████| 132/132 [00:02<00:00, 48.04it/s]\n"
     ]
    },
    {
     "name": "stdout",
     "output_type": "stream",
     "text": [
      "Train loss: 0.002358 | Train accuracy: 0.999290\n",
      "-------------\n",
      "Epoch 16:\n",
      "\n"
     ]
    },
    {
     "name": "stderr",
     "output_type": "stream",
     "text": [
      "100%|██████████| 132/132 [00:02<00:00, 55.84it/s]\n"
     ]
    },
    {
     "name": "stdout",
     "output_type": "stream",
     "text": [
      "Train loss: 0.001691 | Train accuracy: 0.999527\n",
      "-------------\n",
      "Epoch 17:\n",
      "\n"
     ]
    },
    {
     "name": "stderr",
     "output_type": "stream",
     "text": [
      "100%|██████████| 132/132 [00:02<00:00, 58.04it/s]\n"
     ]
    },
    {
     "name": "stdout",
     "output_type": "stream",
     "text": [
      "Train loss: 0.001316 | Train accuracy: 0.999763\n",
      "-------------\n",
      "Epoch 18:\n",
      "\n"
     ]
    },
    {
     "name": "stderr",
     "output_type": "stream",
     "text": [
      "100%|██████████| 132/132 [00:02<00:00, 58.66it/s]\n"
     ]
    },
    {
     "name": "stdout",
     "output_type": "stream",
     "text": [
      "Train loss: 0.002600 | Train accuracy: 0.999053\n",
      "-------------\n",
      "Epoch 19:\n",
      "\n"
     ]
    },
    {
     "name": "stderr",
     "output_type": "stream",
     "text": [
      "100%|██████████| 132/132 [00:02<00:00, 59.92it/s]\n"
     ]
    },
    {
     "name": "stdout",
     "output_type": "stream",
     "text": [
      "Train loss: 0.001557 | Train accuracy: 0.999763\n",
      "-------------\n",
      "Epoch 20:\n",
      "\n"
     ]
    },
    {
     "name": "stderr",
     "output_type": "stream",
     "text": [
      "100%|██████████| 132/132 [00:02<00:00, 58.43it/s]\n"
     ]
    },
    {
     "name": "stdout",
     "output_type": "stream",
     "text": [
      "Train loss: 0.001547 | Train accuracy: 0.999290\n",
      "-------------\n",
      "Epoch 21:\n",
      "\n"
     ]
    },
    {
     "name": "stderr",
     "output_type": "stream",
     "text": [
      "100%|██████████| 132/132 [00:02<00:00, 60.51it/s]\n"
     ]
    },
    {
     "name": "stdout",
     "output_type": "stream",
     "text": [
      "Train loss: 0.001312 | Train accuracy: 1.000000\n",
      "-------------\n",
      "Epoch 22:\n",
      "\n"
     ]
    },
    {
     "name": "stderr",
     "output_type": "stream",
     "text": [
      "100%|██████████| 132/132 [00:02<00:00, 60.35it/s]\n"
     ]
    },
    {
     "name": "stdout",
     "output_type": "stream",
     "text": [
      "Train loss: 0.000880 | Train accuracy: 1.000000\n",
      "-------------\n",
      "Epoch 23:\n",
      "\n"
     ]
    },
    {
     "name": "stderr",
     "output_type": "stream",
     "text": [
      "100%|██████████| 132/132 [00:02<00:00, 58.05it/s]\n"
     ]
    },
    {
     "name": "stdout",
     "output_type": "stream",
     "text": [
      "Train loss: 0.001305 | Train accuracy: 0.999763\n",
      "-------------\n",
      "Epoch 24:\n",
      "\n"
     ]
    },
    {
     "name": "stderr",
     "output_type": "stream",
     "text": [
      "100%|██████████| 132/132 [00:02<00:00, 57.88it/s]\n"
     ]
    },
    {
     "name": "stdout",
     "output_type": "stream",
     "text": [
      "Train loss: 0.000480 | Train accuracy: 1.000000\n",
      "-------------\n",
      "Epoch 25:\n",
      "\n"
     ]
    },
    {
     "name": "stderr",
     "output_type": "stream",
     "text": [
      "100%|██████████| 132/132 [00:02<00:00, 57.29it/s]\n"
     ]
    },
    {
     "name": "stdout",
     "output_type": "stream",
     "text": [
      "Train loss: 0.000749 | Train accuracy: 1.000000\n",
      "-------------\n",
      "Epoch 26:\n",
      "\n"
     ]
    },
    {
     "name": "stderr",
     "output_type": "stream",
     "text": [
      "100%|██████████| 132/132 [00:02<00:00, 50.77it/s]\n"
     ]
    },
    {
     "name": "stdout",
     "output_type": "stream",
     "text": [
      "Train loss: 0.001080 | Train accuracy: 1.000000\n",
      "-------------\n",
      "Epoch 27:\n",
      "\n"
     ]
    },
    {
     "name": "stderr",
     "output_type": "stream",
     "text": [
      "100%|██████████| 132/132 [00:02<00:00, 61.28it/s]\n"
     ]
    },
    {
     "name": "stdout",
     "output_type": "stream",
     "text": [
      "Train loss: 0.000624 | Train accuracy: 1.000000\n",
      "-------------\n",
      "Epoch 28:\n",
      "\n"
     ]
    },
    {
     "name": "stderr",
     "output_type": "stream",
     "text": [
      "100%|██████████| 132/132 [00:02<00:00, 55.52it/s]\n"
     ]
    },
    {
     "name": "stdout",
     "output_type": "stream",
     "text": [
      "Train loss: 0.000509 | Train accuracy: 1.000000\n",
      "-------------\n",
      "Epoch 29:\n",
      "\n"
     ]
    },
    {
     "name": "stderr",
     "output_type": "stream",
     "text": [
      "100%|██████████| 132/132 [00:02<00:00, 51.94it/s]\n"
     ]
    },
    {
     "name": "stdout",
     "output_type": "stream",
     "text": [
      "Train loss: 0.000553 | Train accuracy: 1.000000\n",
      "-------------\n",
      "Epoch 30:\n",
      "\n"
     ]
    },
    {
     "name": "stderr",
     "output_type": "stream",
     "text": [
      "100%|██████████| 132/132 [00:02<00:00, 57.27it/s]\n"
     ]
    },
    {
     "name": "stdout",
     "output_type": "stream",
     "text": [
      "Train loss: 0.000980 | Train accuracy: 0.999763\n",
      "Your submission was successfully saved!\n"
     ]
    }
   ],
   "source": [
    "#%% Evaluate the model on test data and save submission.cvs\n",
    "test_data = pd.read_csv('/kaggle/input/digit-recognizer/test.csv')\n",
    "X_test=test_data.to_numpy(dtype='float')\n",
    "\n",
    "#Train model on the validation dataset\n",
    "optimizer = torch.optim.SGD(model.parameters(), lr=0.01, momentum=0.9, nesterov=True)\n",
    "\n",
    "for epoch in range(1, n_epochs+1):\n",
    "    print(\"-------------\\nEpoch {}:\\n\".format(epoch))\n",
    "    loss, acc = run_epoch(X_dev_set, model.train(), optimizer, device, batch_size)\n",
    "    print('Train loss: {:.6f} | Train accuracy: {:.6f}'.format(loss, acc))\n",
    "\n",
    "# Scaling test data to [0, 1]\n",
    "X_test=X_test/np.max(X_test)\n",
    "X_test=X_test.reshape(-1, 1, img_pix, img_pix)\n",
    "\n",
    "model_eval=model.eval()\n",
    "out=model_eval(torch.tensor(X_test, dtype=torch.float32)) \n",
    "predict = torch.argmax(out, dim=1).numpy()\n",
    "predictions = [int(x) for x in predict]\n",
    "\n",
    "output = pd.DataFrame({'ImageId': range(1, len(X_test)+1), 'Label': predictions})\n",
    "output.to_csv('submission.csv', index=False)\n",
    "print(\"Your submission was successfully saved!\")"
   ]
  },
  {
   "cell_type": "markdown",
   "id": "96b61aa5",
   "metadata": {
    "papermill": {
     "duration": 0.692746,
     "end_time": "2024-01-22T15:41:09.997757",
     "exception": false,
     "start_time": "2024-01-22T15:41:09.305011",
     "status": "completed"
    },
    "tags": []
   },
   "source": [
    "# Plot several predicted examples"
   ]
  },
  {
   "cell_type": "code",
   "execution_count": 9,
   "id": "cf1db57d",
   "metadata": {
    "execution": {
     "iopub.execute_input": "2024-01-22T15:41:11.389140Z",
     "iopub.status.busy": "2024-01-22T15:41:11.388101Z",
     "iopub.status.idle": "2024-01-22T15:41:12.253985Z",
     "shell.execute_reply": "2024-01-22T15:41:12.252172Z"
    },
    "papermill": {
     "duration": 1.562176,
     "end_time": "2024-01-22T15:41:12.256834",
     "exception": false,
     "start_time": "2024-01-22T15:41:10.694658",
     "status": "completed"
    },
    "tags": []
   },
   "outputs": [
    {
     "data": {
      "image/png": "[encoded data removed]",
      "text/plain": [
       "<Figure size 450x450 with 9 Axes>"
      ]
     },
     "metadata": {},
     "output_type": "display_data"
    }
   ],
   "source": [
    "# repeat to show new digits in random order from X_test\n",
    "plot_digits(X_test, img_pix, 3, labels_predict=predict)"
   ]
  }
 ],
 "metadata": {
  "kaggle": {
   "accelerator": "none",
   "dataSources": [
    {
     "databundleVersionId": 861823,
     "sourceId": 3004,
     "sourceType": "competition"
    }
   ],
   "dockerImageVersionId": 30635,
   "isGpuEnabled": false,
   "isInternetEnabled": false,
   "language": "python",
   "sourceType": "notebook"
  },
  "kernelspec": {
   "display_name": "Python 3",
   "language": "python",
   "name": "python3"
  },
  "language_info": {
   "codemirror_mode": {
    "name": "ipython",
    "version": 3
   },
   "file_extension": ".py",
   "mimetype": "text/x-python",
   "name": "python",
   "nbconvert_exporter": "python",
   "pygments_lexer": "ipython3",
   "version": "3.10.12"
  },
  "papermill": {
   "default_parameters": {},
   "duration": 791.35139,
   "end_time": "2024-01-22T15:41:15.056854",
   "environment_variables": {},
   "exception": null,
   "input_path": "__notebook__.ipynb",
   "output_path": "__notebook__.ipynb",
   "parameters": {},
   "start_time": "2024-01-22T15:28:03.705464",
   "version": "2.4.0"
  }
 },
 "nbformat": 4,
 "nbformat_minor": 5
}
